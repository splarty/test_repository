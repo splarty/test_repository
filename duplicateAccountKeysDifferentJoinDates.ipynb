{
 "cells": [
  {
   "cell_type": "code",
   "execution_count": 1,
   "metadata": {
    "collapsed": false
   },
   "outputs": [
    {
     "name": "stdout",
     "output_type": "stream",
     "text": [
      "/Volumes/iTunes/Projects/Analytics Course/ProjectTwo_New/Lesson1\n"
     ]
    }
   ],
   "source": [
    "cd '/Volumes/iTunes/Projects/Analytics Course/ProjectTwo_New/Lesson1'"
   ]
  },
  {
   "cell_type": "code",
   "execution_count": 2,
   "metadata": {
    "collapsed": true
   },
   "outputs": [],
   "source": [
    "import unicodecsv\n",
    "\n",
    "def read_csv(filename):\n",
    "    with open(filename, 'rb') as f:\n",
    "        reader = unicodecsv.DictReader(f)\n",
    "        return list(reader)\n",
    "\n",
    "enrollments = read_csv('enrollments.csv')\n",
    "daily_engagement = read_csv('daily_engagement.csv')\n",
    "project_submissions = read_csv('project_submissions.csv')"
   ]
  },
  {
   "cell_type": "code",
   "execution_count": 3,
   "metadata": {
    "collapsed": true
   },
   "outputs": [],
   "source": [
    "from datetime import datetime as dt\n",
    "\n",
    "# Takes a date as a string, and returns a Python datetime object. \n",
    "# If there is no date given, returns None\n",
    "def parse_date(date):\n",
    "    if date == '':\n",
    "        return None\n",
    "    else:\n",
    "        return dt.strptime(date, '%Y-%m-%d')\n",
    "    \n",
    "# Takes a string which is either an empty string or represents an integer,\n",
    "# and returns an int or None.\n",
    "def parse_maybe_int(i):\n",
    "    if i == '':\n",
    "        return None\n",
    "    else:\n",
    "        return int(i)\n",
    "    \n",
    "# Clean up the data types in the enrollments table\n",
    "for enrollment in list(enrollments):\n",
    "    enrollment['cancel_date'] = parse_date(enrollment['cancel_date'])\n",
    "    enrollment['days_to_cancel'] = parse_maybe_int(enrollment['days_to_cancel'])\n",
    "    enrollment['is_canceled'] = enrollment['is_canceled'] == 'True'\n",
    "    enrollment['is_udacity'] = enrollment['is_udacity'] == 'True'\n",
    "    enrollment['join_date'] = parse_date(enrollment['join_date'])\n",
    "    \n",
    "# Clean up the data types in the engagement table\n",
    "for engagement_record in daily_engagement:\n",
    "    engagement_record['lessons_completed'] = int(float(engagement_record['lessons_completed']))\n",
    "    engagement_record['num_courses_visited'] = int(float(engagement_record['num_courses_visited']))\n",
    "    engagement_record['projects_completed'] = int(float(engagement_record['projects_completed']))\n",
    "    engagement_record['total_minutes_visited'] = float(engagement_record['total_minutes_visited'])\n",
    "    engagement_record['utc_date'] = parse_date(engagement_record['utc_date'])\n",
    "    \n",
    "# Clean up the data types in the submissions table\n",
    "for submission in project_submissions:\n",
    "    submission['completion_date'] = parse_date(submission['completion_date'])\n",
    "    submission['creation_date'] = parse_date(submission['creation_date'])"
   ]
  },
  {
   "cell_type": "code",
   "execution_count": 19,
   "metadata": {
    "collapsed": false
   },
   "outputs": [
    {
     "name": "stdout",
     "output_type": "stream",
     "text": [
      "addr\n",
      "street\n",
      "addr\n",
      "street:name\n"
     ]
    }
   ],
   "source": [
    "colons = \"addr:street:name\"\n",
    "\n",
    "print colons.split(\":\",2)[0]\n",
    "print colons.split(\":\",2)[1]\n",
    "\n",
    "print colons.split(\":\",1)[0]\n",
    "print colons.split(\":\",1)[1]"
   ]
  },
  {
   "cell_type": "code",
   "execution_count": 9,
   "metadata": {
    "collapsed": false
   },
   "outputs": [
    {
     "name": "stdout",
     "output_type": "stream",
     "text": [
      "set version time: 0.008 s\n",
      "loop version time: 1.205 s\n",
      "242\n",
      "242\n",
      "True\n"
     ]
    }
   ],
   "source": [
    "from time import time\n",
    "t0 = time()\n",
    "from collections import defaultdict\n",
    "unique = defaultdict(set)\n",
    "dupes = defaultdict(set)\n",
    "\n",
    "\n",
    "for enrollment in enrollments:\n",
    "    if enrollment['account_key'] in unique:\n",
    "        if len(unique[enrollment['account_key']]) == 1:\n",
    "            for item in unique[enrollment['account_key']]:\n",
    "                dupes[enrollment['account_key']].add(item)\n",
    "            dupes[enrollment['account_key']].add(enrollment['join_date'])\n",
    "        else:\n",
    "            dupes[enrollment['account_key']].add(enrollment['join_date'])\n",
    "    else:\n",
    "        unique[enrollment['account_key']].add(enrollment['join_date'])\n",
    "\n",
    "join1 = []\n",
    "for k, v in dupes.iteritems():\n",
    "    if len(v) == 1:\n",
    "        join1.append(k)\n",
    "\n",
    "for key in join1:\n",
    "    del dupes[key]\n",
    "    \n",
    "print \"set version time:\", round(time()-t0, 3), \"s\"\n",
    "\n",
    "enroll2 = set()\n",
    "t0 = time()\n",
    "dupes2 = defaultdict(set)\n",
    "for enrollment1 in enrollments:\n",
    "    for enrollment2 in enrollments:\n",
    "        if (enrollment1['account_key'] == enrollment2['account_key']) and (enrollment1['join_date'] != enrollment2['join_date']):\n",
    "            dupes2[enrollment1['account_key']].add(enrollment2['join_date'])\n",
    "print \"loop version time:\", round(time()-t0, 3), \"s\"\n",
    "\n",
    "\n",
    "\n",
    "\n",
    "\n",
    "print len(dupes)\n",
    "print len(dupes2)\n",
    "\n",
    "print dupes == dupes2"
   ]
  },
  {
   "cell_type": "code",
   "execution_count": null,
   "metadata": {
    "collapsed": true
   },
   "outputs": [],
   "source": []
  }
 ],
 "metadata": {
  "kernelspec": {
   "display_name": "Python 2",
   "language": "python",
   "name": "python2"
  },
  "language_info": {
   "codemirror_mode": {
    "name": "ipython",
    "version": 2
   },
   "file_extension": ".py",
   "mimetype": "text/x-python",
   "name": "python",
   "nbconvert_exporter": "python",
   "pygments_lexer": "ipython2",
   "version": "2.7.11"
  }
 },
 "nbformat": 4,
 "nbformat_minor": 0
}
