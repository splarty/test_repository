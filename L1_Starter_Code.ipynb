{
 "cells": [
  {
   "cell_type": "markdown",
   "metadata": {},
   "source": [
    "## Load Data from CSVs"
   ]
  },
  {
   "cell_type": "code",
   "execution_count": 38,
   "metadata": {
    "collapsed": false
   },
   "outputs": [
    {
     "name": "stdout",
     "output_type": "stream",
     "text": [
      "/Volumes/iTunes/Projects/Analytics Course/ProjectTwo_New/Lesson1\n",
      "\n"
     ]
    }
   ],
   "source": [
    "cd '/Volumes/iTunes/Projects/Analytics Course/ProjectTwo_New/Lesson1'"
   ]
  },
  {
   "cell_type": "code",
   "execution_count": 39,
   "metadata": {
    "collapsed": false
   },
   "outputs": [
    {
     "name": "stdout",
     "output_type": "stream",
     "text": [
      "{u'status': u'canceled', u'is_udacity': u'True', u'is_canceled': u'True', u'join_date': u'2014-11-10', u'account_key': u'448', u'cancel_date': u'2015-01-14', u'days_to_cancel': u'65'}\n",
      "{u'lessons_completed': u'0.0', u'num_courses_visited': u'1.0', u'total_minutes_visited': u'11.6793745', u'projects_completed': u'0.0', u'acct': u'0', u'utc_date': u'2015-01-09'}\n",
      "{u'lesson_key': u'3176718735', u'processing_state': u'EVALUATED', u'account_key': u'256', u'assigned_rating': u'UNGRADED', u'completion_date': u'2015-01-16', u'creation_date': u'2015-01-14'}\n"
     ]
    }
   ],
   "source": [
    "import unicodecsv\n",
    "\n",
    "def read_csv(filename):\n",
    "    with open(filename, 'rb') as f:\n",
    "        reader = unicodecsv.DictReader(f)\n",
    "        return list(reader)\n",
    "\n",
    "enrollments = read_csv('enrollments.csv')\n",
    "daily_engagement = read_csv('daily_engagement.csv')\n",
    "project_submissions = read_csv('project_submissions.csv')\n",
    "\n",
    "print enrollments[0]\n",
    "print daily_engagement[0]\n",
    "print project_submissions[0]"
   ]
  },
  {
   "cell_type": "code",
   "execution_count": 40,
   "metadata": {
    "collapsed": false
   },
   "outputs": [
    {
     "name": "stdout",
     "output_type": "stream",
     "text": [
      "{u'status': u'canceled', u'is_udacity': u'True', u'is_canceled': u'True', u'join_date': u'2014-11-10', u'account_key': u'448', u'cancel_date': u'2015-01-14', u'days_to_cancel': u'65'}\n",
      "{u'lessons_completed': u'0.0', u'num_courses_visited': u'1.0', u'total_minutes_visited': u'11.6793745', u'projects_completed': u'0.0', u'acct': u'0', u'utc_date': u'2015-01-09'}\n",
      "{u'lesson_key': u'3176718735', u'processing_state': u'EVALUATED', u'account_key': u'256', u'assigned_rating': u'UNGRADED', u'completion_date': u'2015-01-16', u'creation_date': u'2015-01-14'}\n"
     ]
    }
   ],
   "source": [
    "import unicodecsv\n",
    "from time import time\n",
    "\n",
    "def read_csv(filename):\n",
    "    with open(filename, 'rb') as f:\n",
    "        reader = unicodecsv.DictReader(f)\n",
    "        return list(reader)\n",
    "\n",
    "enrollments = read_csv('enrollments.csv')\n",
    "daily_engagement = read_csv('daily_engagement.csv')\n",
    "project_submissions = read_csv('project_submissions.csv')\n",
    "\n",
    "print enrollments[0]\n",
    "print daily_engagement[0]\n",
    "print project_submissions[0]"
   ]
  },
  {
   "cell_type": "code",
   "execution_count": 41,
   "metadata": {
    "collapsed": false
   },
   "outputs": [
    {
     "name": "stdout",
     "output_type": "stream",
     "text": [
      "account_key\n"
     ]
    }
   ],
   "source": [
    "import pandas as pd\n",
    "\n",
    "enrollments_df = pd.read_csv('enrollments.csv')\n",
    "\n",
    "for enrollment in enrollments_df:\n",
    "    print enrollment\n",
    "    break\n",
    "\n",
    "# print enrollments_df.ix[0,:]"
   ]
  },
  {
   "cell_type": "code",
   "execution_count": 42,
   "metadata": {
    "collapsed": false
   },
   "outputs": [
    {
     "name": "stdout",
     "output_type": "stream",
     "text": [
      "1640\n",
      "136240\n",
      "3642\n"
     ]
    }
   ],
   "source": [
    "print len(enrollments)\n",
    "print len(daily_engagement)\n",
    "print len(project_submissions)"
   ]
  },
  {
   "cell_type": "code",
   "execution_count": null,
   "metadata": {
    "collapsed": false
   },
   "outputs": [],
   "source": []
  },
  {
   "cell_type": "code",
   "execution_count": 43,
   "metadata": {
    "collapsed": false
   },
   "outputs": [],
   "source": [
    "def print_sorted_dict(d):\n",
    "    keys = d.keys()\n",
    "    keys = sorted (keys, key=lambda s: s.lower())\n",
    "    for k in keys:\n",
    "        v = d[k]\n",
    "        print \"%s: %s\" % (k,v)\n",
    "\n",
    "# print_sorted_dict(d)        "
   ]
  },
  {
   "cell_type": "markdown",
   "metadata": {},
   "source": [
    "## Fixing Data Types"
   ]
  },
  {
   "cell_type": "code",
   "execution_count": 44,
   "metadata": {
    "collapsed": true
   },
   "outputs": [],
   "source": [
    "from datetime import datetime as dt\n",
    "\n",
    "# Takes a date as a string, and returns a Python datetime object. \n",
    "# If there is no date given, returns None\n",
    "def parse_date(date):\n",
    "    if date == '':\n",
    "        return None\n",
    "    else:\n",
    "        return dt.strptime(date, '%Y-%m-%d')\n",
    "    \n",
    "# Takes a string which is either an empty string or represents an integer,\n",
    "# and returns an int or None.\n",
    "def parse_maybe_int(i):\n",
    "    if i == '':\n",
    "        return None\n",
    "    else:\n",
    "        return int(i)\n"
   ]
  },
  {
   "cell_type": "code",
   "execution_count": 45,
   "metadata": {
    "collapsed": false
   },
   "outputs": [
    {
     "data": {
      "text/plain": [
       "{u'account_key': u'448',\n",
       " u'cancel_date': datetime.datetime(2015, 1, 14, 0, 0),\n",
       " u'days_to_cancel': 65,\n",
       " u'is_canceled': True,\n",
       " u'is_udacity': True,\n",
       " u'join_date': datetime.datetime(2014, 11, 10, 0, 0),\n",
       " u'status': u'canceled'}"
      ]
     },
     "execution_count": 45,
     "metadata": {},
     "output_type": "execute_result"
    }
   ],
   "source": [
    "\n",
    "# Clean up the data types in the enrollments table\n",
    "for enrollment in list(enrollments):\n",
    "    enrollment['cancel_date'] = parse_date(enrollment['cancel_date'])\n",
    "    enrollment['days_to_cancel'] = parse_maybe_int(enrollment['days_to_cancel'])\n",
    "    enrollment['is_canceled'] = enrollment['is_canceled'] == 'True'\n",
    "    enrollment['is_udacity'] = enrollment['is_udacity'] == 'True'\n",
    "    enrollment['join_date'] = parse_date(enrollment['join_date'])\n",
    "    \n",
    "enrollments[0]\n",
    "\n",
    "\n"
   ]
  },
  {
   "cell_type": "code",
   "execution_count": 46,
   "metadata": {
    "collapsed": false
   },
   "outputs": [
    {
     "data": {
      "text/plain": [
       "{u'acct': u'0',\n",
       " u'lessons_completed': 0,\n",
       " u'num_courses_visited': 1,\n",
       " u'projects_completed': 0,\n",
       " u'total_minutes_visited': 11.6793745,\n",
       " u'utc_date': datetime.datetime(2015, 1, 9, 0, 0)}"
      ]
     },
     "execution_count": 46,
     "metadata": {},
     "output_type": "execute_result"
    }
   ],
   "source": [
    "# Clean up the data types in the engagement table\n",
    "for engagement_record in daily_engagement:\n",
    "    engagement_record['lessons_completed'] = int(float(engagement_record['lessons_completed']))\n",
    "    engagement_record['num_courses_visited'] = int(float(engagement_record['num_courses_visited']))\n",
    "    engagement_record['projects_completed'] = int(float(engagement_record['projects_completed']))\n",
    "    engagement_record['total_minutes_visited'] = float(engagement_record['total_minutes_visited'])\n",
    "    engagement_record['utc_date'] = parse_date(engagement_record['utc_date'])\n",
    "    \n",
    "daily_engagement[0]"
   ]
  },
  {
   "cell_type": "code",
   "execution_count": 47,
   "metadata": {
    "collapsed": false
   },
   "outputs": [
    {
     "data": {
      "text/plain": [
       "{u'account_key': u'256',\n",
       " u'assigned_rating': u'UNGRADED',\n",
       " u'completion_date': datetime.datetime(2015, 1, 16, 0, 0),\n",
       " u'creation_date': datetime.datetime(2015, 1, 14, 0, 0),\n",
       " u'lesson_key': u'3176718735',\n",
       " u'processing_state': u'EVALUATED'}"
      ]
     },
     "execution_count": 47,
     "metadata": {},
     "output_type": "execute_result"
    }
   ],
   "source": [
    "# Clean up the data types in the submissions table\n",
    "for submission in project_submissions:\n",
    "    submission['completion_date'] = parse_date(submission['completion_date'])\n",
    "    submission['creation_date'] = parse_date(submission['creation_date'])\n",
    "\n",
    "project_submissions[0]"
   ]
  },
  {
   "cell_type": "markdown",
   "metadata": {},
   "source": [
    "## Investigating the Data and Problems in the Data"
   ]
  },
  {
   "cell_type": "code",
   "execution_count": 48,
   "metadata": {
    "collapsed": true
   },
   "outputs": [],
   "source": [
    "# Change the \"acct\" field to \"account_key\" in the daily_engagement to be consistent with the other tables\n",
    "for engagement_record in daily_engagement:\n",
    "    engagement_record['account_key'] = engagement_record['acct']\n",
    "    del[engagement_record['acct']]"
   ]
  },
  {
   "cell_type": "code",
   "execution_count": 49,
   "metadata": {
    "collapsed": true
   },
   "outputs": [],
   "source": [
    "# Returns a set with the unique values of \"account_key\" within the given data\n",
    "def get_unique_students(data):\n",
    "    unique_students = set()\n",
    "    for data_point in data:\n",
    "        unique_students.add(data_point['account_key'])\n",
    "    return unique_students"
   ]
  },
  {
   "cell_type": "code",
   "execution_count": 50,
   "metadata": {
    "collapsed": false
   },
   "outputs": [
    {
     "data": {
      "text/plain": [
       "1640"
      ]
     },
     "execution_count": 50,
     "metadata": {},
     "output_type": "execute_result"
    }
   ],
   "source": [
    "# See how many enrollments there are\n",
    "len(enrollments)"
   ]
  },
  {
   "cell_type": "code",
   "execution_count": 51,
   "metadata": {
    "collapsed": false
   },
   "outputs": [
    {
     "data": {
      "text/plain": [
       "1302"
      ]
     },
     "execution_count": 51,
     "metadata": {},
     "output_type": "execute_result"
    }
   ],
   "source": [
    "# See how many unique students enrolled\n",
    "unique_enrolled_students = get_unique_students(enrollments)\n",
    "len(unique_enrolled_students)"
   ]
  },
  {
   "cell_type": "code",
   "execution_count": 52,
   "metadata": {
    "collapsed": false
   },
   "outputs": [
    {
     "data": {
      "text/plain": [
       "136240"
      ]
     },
     "execution_count": 52,
     "metadata": {},
     "output_type": "execute_result"
    }
   ],
   "source": [
    "# See how many records of daily engagement we have\n",
    "len(daily_engagement)"
   ]
  },
  {
   "cell_type": "code",
   "execution_count": 53,
   "metadata": {
    "collapsed": false
   },
   "outputs": [
    {
     "data": {
      "text/plain": [
       "1237"
      ]
     },
     "execution_count": 53,
     "metadata": {},
     "output_type": "execute_result"
    }
   ],
   "source": [
    "# See how many unique students we have engagement data on\n",
    "unique_engagement_students = get_unique_students(daily_engagement)\n",
    "len(unique_engagement_students)"
   ]
  },
  {
   "cell_type": "code",
   "execution_count": 54,
   "metadata": {
    "collapsed": false
   },
   "outputs": [
    {
     "data": {
      "text/plain": [
       "3642"
      ]
     },
     "execution_count": 54,
     "metadata": {},
     "output_type": "execute_result"
    }
   ],
   "source": [
    "# See how many projects were submitted\n",
    "len(project_submissions)"
   ]
  },
  {
   "cell_type": "code",
   "execution_count": 55,
   "metadata": {
    "collapsed": false
   },
   "outputs": [
    {
     "data": {
      "text/plain": [
       "743"
      ]
     },
     "execution_count": 55,
     "metadata": {},
     "output_type": "execute_result"
    }
   ],
   "source": [
    "# See how many unique students submitted projects\n",
    "unique_project_submitters = get_unique_students(project_submissions)\n",
    "len(unique_project_submitters)"
   ]
  },
  {
   "cell_type": "markdown",
   "metadata": {},
   "source": [
    "## Missing Engagement Records"
   ]
  },
  {
   "cell_type": "code",
   "execution_count": 56,
   "metadata": {
    "collapsed": false
   },
   "outputs": [
    {
     "name": "stdout",
     "output_type": "stream",
     "text": [
      "{u'status': u'canceled', u'is_udacity': False, u'is_canceled': True, u'join_date': datetime.datetime(2014, 11, 12, 0, 0), u'account_key': u'1219', u'cancel_date': datetime.datetime(2014, 11, 12, 0, 0), u'days_to_cancel': 0}\n"
     ]
    }
   ],
   "source": [
    "# Look at a student who enrolled but doesn't have engagement numbers\n",
    "for enrollment in enrollments:\n",
    "    student = enrollment['account_key']\n",
    "    if student not in unique_engagement_students:\n",
    "        print(enrollment)\n",
    "        break"
   ]
  },
  {
   "cell_type": "markdown",
   "metadata": {},
   "source": [
    "## Checking for More Problem Records"
   ]
  },
  {
   "cell_type": "code",
   "execution_count": 57,
   "metadata": {
    "collapsed": false
   },
   "outputs": [
    {
     "name": "stdout",
     "output_type": "stream",
     "text": [
      "{u'status': u'canceled', u'is_udacity': True, u'is_canceled': True, u'join_date': datetime.datetime(2015, 1, 10, 0, 0), u'account_key': u'1304', u'cancel_date': datetime.datetime(2015, 3, 10, 0, 0), u'days_to_cancel': 59}\n",
      "{u'status': u'canceled', u'is_udacity': True, u'is_canceled': True, u'join_date': datetime.datetime(2015, 3, 10, 0, 0), u'account_key': u'1304', u'cancel_date': datetime.datetime(2015, 6, 17, 0, 0), u'days_to_cancel': 99}\n",
      "{u'status': u'current', u'is_udacity': True, u'is_canceled': False, u'join_date': datetime.datetime(2015, 2, 25, 0, 0), u'account_key': u'1101', u'cancel_date': None, u'days_to_cancel': None}\n",
      "time to complete 'num_problem_students':  0.002 s\n"
     ]
    }
   ],
   "source": [
    "t0 = time()\n",
    "# Find students who enrolled, don't have engagement numbers, and stayed enrolled at least a day\n",
    "num_problem_students = 0\n",
    "for enrollment in enrollments:\n",
    "    student = enrollment['account_key']\n",
    "    if student not in unique_engagement_students and enrollment['join_date'] != enrollment['cancel_date']:\n",
    "        print(enrollment)\n",
    "        num_problem_students += 1\n",
    "\n",
    "num_problem_students\n",
    "\n",
    "print \"time to complete 'num_problem_students': \", round(time()-t0, 3), \"s\""
   ]
  },
  {
   "cell_type": "markdown",
   "metadata": {},
   "source": [
    "## Tracking Down the Remaining Problems"
   ]
  },
  {
   "cell_type": "code",
   "execution_count": 58,
   "metadata": {
    "collapsed": false
   },
   "outputs": [
    {
     "name": "stdout",
     "output_type": "stream",
     "text": [
      "6\n",
      "6\n",
      "6\n",
      "True\n",
      "True\n",
      "True\n",
      "True\n",
      "True\n",
      "True\n",
      "True\n",
      "True\n",
      "True\n",
      "True\n",
      "True\n",
      "True\n",
      "True\n",
      "True\n",
      "True\n",
      "True\n",
      "True\n",
      "True\n",
      "6\n"
     ]
    }
   ],
   "source": [
    "# Create a set of the account keys for all Udacity test accounts\n",
    "udacity_test_accounts = set()\n",
    "for enrollment in enrollments:\n",
    "    if enrollment['is_udacity']:\n",
    "        udacity_test_accounts.add(enrollment['account_key'])\n",
    "print(len(udacity_test_accounts))\n",
    "\n",
    "\n",
    "udacity_test_accounts=set()\n",
    "for enrollment in enrollments:\n",
    "    if enrollment['is_udacity']:\n",
    "        udacity_test_accounts.add(enrollment['account_key'])\n",
    "print(len(udacity_test_accounts))\n",
    "\n",
    "udacity_test_accounts = set()\n",
    "for enrollment in enrollments:\n",
    "    if enrollment['is_udacity']:\n",
    "        udacity_test_accounts.add(enrollment['account_key'])\n",
    "        # print enrollment['account_key']\n",
    "print(len(udacity_test_accounts))\n",
    "# print(udacity_test_accounts)\n",
    "\n",
    "\n",
    "udacity_test_accounts =set()\n",
    "for enrollment in enrollments:\n",
    "     if enrollment['is_udacity']:\n",
    "        print enrollment['is_udacity']\n",
    "        udacity_test_accounts.add(enrollment['account_key'])\n",
    "print len(udacity_test_accounts)"
   ]
  },
  {
   "cell_type": "code",
   "execution_count": 59,
   "metadata": {
    "collapsed": false
   },
   "outputs": [
    {
     "name": "stdout",
     "output_type": "stream",
     "text": [
      "448\n",
      "448\n",
      "448\n",
      "448\n",
      "448\n",
      "448\n",
      "448\n",
      "448\n",
      "448\n",
      "1304\n",
      "1304\n",
      "312\n",
      "312\n",
      "312\n",
      "312\n",
      "818\n",
      "1069\n",
      "1101\n",
      "set([u'1304', u'1069', u'448', u'312', u'818', u'1101'])\n"
     ]
    }
   ],
   "source": [
    "udacity_test_accounts = set()\n",
    "for enrollment in enrollments:\n",
    "    if enrollment['is_udacity']:\n",
    "        udacity_test_accounts.add(enrollment['account_key'])\n",
    "        print enrollment['account_key']\n",
    "len(udacity_test_accounts)\n",
    "print(udacity_test_accounts)"
   ]
  },
  {
   "cell_type": "code",
   "execution_count": 60,
   "metadata": {
    "collapsed": true
   },
   "outputs": [],
   "source": [
    "# Given some data with an account_key field, removes any records corresponding to Udacity test accounts\n",
    "def remove_udacity_accounts(data):\n",
    "    non_udacity_data = []\n",
    "    for data_point in data:\n",
    "        if data_point['account_key'] not in udacity_test_accounts:\n",
    "            non_udacity_data.append(data_point)\n",
    "    return non_udacity_data"
   ]
  },
  {
   "cell_type": "code",
   "execution_count": 61,
   "metadata": {
    "collapsed": false
   },
   "outputs": [
    {
     "name": "stdout",
     "output_type": "stream",
     "text": [
      "1622\n",
      "135656\n",
      "3634\n"
     ]
    }
   ],
   "source": [
    "# Remove Udacity test accounts from all three tables\n",
    "non_udacity_enrollments = remove_udacity_accounts(enrollments)\n",
    "non_udacity_engagement = remove_udacity_accounts(daily_engagement)\n",
    "non_udacity_submissions = remove_udacity_accounts(project_submissions)\n",
    "\n",
    "print(len(non_udacity_enrollments))\n",
    "print(len(non_udacity_engagement))\n",
    "print(len(non_udacity_submissions))"
   ]
  },
  {
   "cell_type": "markdown",
   "metadata": {},
   "source": [
    "## Refining the Question"
   ]
  },
  {
   "cell_type": "code",
   "execution_count": 62,
   "metadata": {
    "collapsed": false
   },
   "outputs": [
    {
     "name": "stdout",
     "output_type": "stream",
     "text": [
      "{u'status': u'current', u'is_udacity': False, u'is_canceled': False, u'join_date': datetime.datetime(2015, 4, 1, 0, 0), u'account_key': u'60', u'cancel_date': None, u'days_to_cancel': None}\n",
      "{u'status': u'current', u'is_udacity': False, u'is_canceled': False, u'join_date': datetime.datetime(2014, 11, 10, 0, 0), u'account_key': u'369', u'cancel_date': None, u'days_to_cancel': None}\n",
      "{u'status': u'current', u'is_udacity': False, u'is_canceled': False, u'join_date': datetime.datetime(2015, 3, 10, 0, 0), u'account_key': u'322', u'cancel_date': None, u'days_to_cancel': None}\n",
      "{u'status': u'current', u'is_udacity': False, u'is_canceled': False, u'join_date': datetime.datetime(2014, 11, 10, 0, 0), u'account_key': u'336', u'cancel_date': None, u'days_to_cancel': None}\n",
      "{u'status': u'current', u'is_udacity': False, u'is_canceled': False, u'join_date': datetime.datetime(2014, 11, 10, 0, 0), u'account_key': u'553', u'cancel_date': None, u'days_to_cancel': None}\n",
      "{u'status': u'current', u'is_udacity': False, u'is_canceled': False, u'join_date': datetime.datetime(2015, 3, 10, 0, 0), u'account_key': u'584', u'cancel_date': None, u'days_to_cancel': None}\n",
      "{u'status': u'current', u'is_udacity': False, u'is_canceled': False, u'join_date': datetime.datetime(2015, 4, 6, 0, 0), u'account_key': u'458', u'cancel_date': None, u'days_to_cancel': None}\n",
      "{u'status': u'current', u'is_udacity': False, u'is_canceled': False, u'join_date': datetime.datetime(2015, 3, 10, 0, 0), u'account_key': u'1058', u'cancel_date': None, u'days_to_cancel': None}\n",
      "{u'status': u'current', u'is_udacity': False, u'is_canceled': False, u'join_date': datetime.datetime(2014, 11, 10, 0, 0), u'account_key': u'206', u'cancel_date': None, u'days_to_cancel': None}\n",
      "{u'status': u'current', u'is_udacity': False, u'is_canceled': False, u'join_date': datetime.datetime(2015, 3, 10, 0, 0), u'account_key': u'45', u'cancel_date': None, u'days_to_cancel': None}\n",
      "{u'status': u'current', u'is_udacity': False, u'is_canceled': False, u'join_date': datetime.datetime(2014, 11, 10, 0, 0), u'account_key': u'604', u'cancel_date': None, u'days_to_cancel': None}\n",
      "{u'status': u'current', u'is_udacity': False, u'is_canceled': False, u'join_date': datetime.datetime(2014, 11, 10, 0, 0), u'account_key': u'204', u'cancel_date': None, u'days_to_cancel': None}\n",
      "{u'status': u'current', u'is_udacity': False, u'is_canceled': False, u'join_date': datetime.datetime(2014, 11, 10, 0, 0), u'account_key': u'568', u'cancel_date': None, u'days_to_cancel': None}\n",
      "{u'status': u'current', u'is_udacity': False, u'is_canceled': False, u'join_date': datetime.datetime(2015, 3, 10, 0, 0), u'account_key': u'44', u'cancel_date': None, u'days_to_cancel': None}\n",
      "{u'status': u'current', u'is_udacity': False, u'is_canceled': False, u'join_date': datetime.datetime(2014, 11, 10, 0, 0), u'account_key': u'198', u'cancel_date': None, u'days_to_cancel': None}\n",
      "{u'status': u'current', u'is_udacity': False, u'is_canceled': False, u'join_date': datetime.datetime(2014, 11, 10, 0, 0), u'account_key': u'368', u'cancel_date': None, u'days_to_cancel': None}\n",
      "{u'status': u'current', u'is_udacity': False, u'is_canceled': False, u'join_date': datetime.datetime(2015, 5, 6, 0, 0), u'account_key': u'57', u'cancel_date': None, u'days_to_cancel': None}\n",
      "{u'status': u'current', u'is_udacity': False, u'is_canceled': False, u'join_date': datetime.datetime(2015, 3, 10, 0, 0), u'account_key': u'702', u'cancel_date': None, u'days_to_cancel': None}\n",
      "{u'status': u'current', u'is_udacity': False, u'is_canceled': False, u'join_date': datetime.datetime(2014, 11, 14, 0, 0), u'account_key': u'38', u'cancel_date': None, u'days_to_cancel': None}\n",
      "{u'status': u'current', u'is_udacity': False, u'is_canceled': False, u'join_date': datetime.datetime(2014, 11, 14, 0, 0), u'account_key': u'215', u'cancel_date': None, u'days_to_cancel': None}\n",
      "{u'status': u'current', u'is_udacity': False, u'is_canceled': False, u'join_date': datetime.datetime(2015, 3, 10, 0, 0), u'account_key': u'217', u'cancel_date': None, u'days_to_cancel': None}\n",
      "{u'status': u'current', u'is_udacity': False, u'is_canceled': False, u'join_date': datetime.datetime(2015, 3, 6, 0, 0), u'account_key': u'1211', u'cancel_date': None, u'days_to_cancel': None}\n",
      "{u'status': u'current', u'is_udacity': False, u'is_canceled': False, u'join_date': datetime.datetime(2015, 5, 11, 0, 0), u'account_key': u'53', u'cancel_date': None, u'days_to_cancel': None}\n",
      "{u'status': u'current', u'is_udacity': False, u'is_canceled': False, u'join_date': datetime.datetime(2014, 11, 15, 0, 0), u'account_key': u'283', u'cancel_date': None, u'days_to_cancel': None}\n",
      "{u'status': u'current', u'is_udacity': False, u'is_canceled': False, u'join_date': datetime.datetime(2015, 5, 11, 0, 0), u'account_key': u'338', u'cancel_date': None, u'days_to_cancel': None}\n",
      "{u'status': u'current', u'is_udacity': False, u'is_canceled': False, u'join_date': datetime.datetime(2014, 11, 15, 0, 0), u'account_key': u'579', u'cancel_date': None, u'days_to_cancel': None}\n",
      "{u'status': u'current', u'is_udacity': False, u'is_canceled': False, u'join_date': datetime.datetime(2014, 11, 16, 0, 0), u'account_key': u'627', u'cancel_date': None, u'days_to_cancel': None}\n",
      "{u'status': u'current', u'is_udacity': False, u'is_canceled': False, u'join_date': datetime.datetime(2015, 1, 14, 0, 0), u'account_key': u'253', u'cancel_date': None, u'days_to_cancel': None}\n",
      "{u'status': u'current', u'is_udacity': False, u'is_canceled': False, u'join_date': datetime.datetime(2015, 7, 18, 0, 0), u'account_key': u'822', u'cancel_date': None, u'days_to_cancel': None}\n",
      "{u'status': u'current', u'is_udacity': False, u'is_canceled': False, u'join_date': datetime.datetime(2014, 11, 17, 0, 0), u'account_key': u'96', u'cancel_date': None, u'days_to_cancel': None}\n",
      "{u'status': u'current', u'is_udacity': False, u'is_canceled': False, u'join_date': datetime.datetime(2014, 11, 10, 0, 0), u'account_key': u'620', u'cancel_date': None, u'days_to_cancel': None}\n",
      "{u'status': u'current', u'is_udacity': False, u'is_canceled': False, u'join_date': datetime.datetime(2014, 11, 10, 0, 0), u'account_key': u'195', u'cancel_date': None, u'days_to_cancel': None}\n",
      "{u'status': u'current', u'is_udacity': False, u'is_canceled': False, u'join_date': datetime.datetime(2014, 11, 10, 0, 0), u'account_key': u'354', u'cancel_date': None, u'days_to_cancel': None}\n",
      "{u'status': u'current', u'is_udacity': False, u'is_canceled': False, u'join_date': datetime.datetime(2015, 5, 8, 0, 0), u'account_key': u'114', u'cancel_date': None, u'days_to_cancel': None}\n",
      "{u'status': u'current', u'is_udacity': False, u'is_canceled': False, u'join_date': datetime.datetime(2014, 11, 10, 0, 0), u'account_key': u'537', u'cancel_date': None, u'days_to_cancel': None}\n",
      "{u'status': u'current', u'is_udacity': False, u'is_canceled': False, u'join_date': datetime.datetime(2015, 3, 10, 0, 0), u'account_key': u'1244', u'cancel_date': None, u'days_to_cancel': None}\n",
      "{u'status': u'current', u'is_udacity': False, u'is_canceled': False, u'join_date': datetime.datetime(2014, 11, 10, 0, 0), u'account_key': u'194', u'cancel_date': None, u'days_to_cancel': None}\n",
      "{u'status': u'current', u'is_udacity': False, u'is_canceled': False, u'join_date': datetime.datetime(2014, 11, 10, 0, 0), u'account_key': u'102', u'cancel_date': None, u'days_to_cancel': None}\n",
      "{u'status': u'current', u'is_udacity': False, u'is_canceled': False, u'join_date': datetime.datetime(2014, 11, 10, 0, 0), u'account_key': u'522', u'cancel_date': None, u'days_to_cancel': None}\n",
      "{u'status': u'current', u'is_udacity': False, u'is_canceled': False, u'join_date': datetime.datetime(2015, 4, 8, 0, 0), u'account_key': u'329', u'cancel_date': None, u'days_to_cancel': None}\n",
      "{u'status': u'current', u'is_udacity': False, u'is_canceled': False, u'join_date': datetime.datetime(2014, 11, 10, 0, 0), u'account_key': u'225', u'cancel_date': None, u'days_to_cancel': None}\n",
      "{u'status': u'current', u'is_udacity': False, u'is_canceled': False, u'join_date': datetime.datetime(2014, 11, 10, 0, 0), u'account_key': u'595', u'cancel_date': None, u'days_to_cancel': None}\n",
      "{u'status': u'current', u'is_udacity': False, u'is_canceled': False, u'join_date': datetime.datetime(2015, 5, 28, 0, 0), u'account_key': u'587', u'cancel_date': None, u'days_to_cancel': None}\n",
      "{u'status': u'current', u'is_udacity': False, u'is_canceled': False, u'join_date': datetime.datetime(2015, 3, 10, 0, 0), u'account_key': u'439', u'cancel_date': None, u'days_to_cancel': None}\n",
      "{u'status': u'current', u'is_udacity': False, u'is_canceled': False, u'join_date': datetime.datetime(2014, 11, 10, 0, 0), u'account_key': u'428', u'cancel_date': None, u'days_to_cancel': None}\n",
      "{u'status': u'current', u'is_udacity': False, u'is_canceled': False, u'join_date': datetime.datetime(2014, 11, 10, 0, 0), u'account_key': u'10', u'cancel_date': None, u'days_to_cancel': None}\n",
      "{u'status': u'current', u'is_udacity': False, u'is_canceled': False, u'join_date': datetime.datetime(2014, 11, 10, 0, 0), u'account_key': u'23', u'cancel_date': None, u'days_to_cancel': None}\n",
      "{u'status': u'current', u'is_udacity': False, u'is_canceled': False, u'join_date': datetime.datetime(2014, 11, 10, 0, 0), u'account_key': u'223', u'cancel_date': None, u'days_to_cancel': None}\n",
      "{u'status': u'current', u'is_udacity': False, u'is_canceled': False, u'join_date': datetime.datetime(2015, 4, 1, 0, 0), u'account_key': u'480', u'cancel_date': None, u'days_to_cancel': None}\n",
      "{u'status': u'current', u'is_udacity': False, u'is_canceled': False, u'join_date': datetime.datetime(2014, 11, 16, 0, 0), u'account_key': u'275', u'cancel_date': None, u'days_to_cancel': None}\n",
      "{u'status': u'current', u'is_udacity': False, u'is_canceled': False, u'join_date': datetime.datetime(2014, 11, 14, 0, 0), u'account_key': u'245', u'cancel_date': None, u'days_to_cancel': None}\n",
      "{u'status': u'current', u'is_udacity': False, u'is_canceled': False, u'join_date': datetime.datetime(2014, 11, 14, 0, 0), u'account_key': u'135', u'cancel_date': None, u'days_to_cancel': None}\n",
      "{u'status': u'current', u'is_udacity': False, u'is_canceled': False, u'join_date': datetime.datetime(2014, 11, 14, 0, 0), u'account_key': u'37', u'cancel_date': None, u'days_to_cancel': None}\n",
      "{u'status': u'current', u'is_udacity': False, u'is_canceled': False, u'join_date': datetime.datetime(2014, 11, 14, 0, 0), u'account_key': u'186', u'cancel_date': None, u'days_to_cancel': None}\n",
      "{u'status': u'current', u'is_udacity': False, u'is_canceled': False, u'join_date': datetime.datetime(2014, 11, 15, 0, 0), u'account_key': u'389', u'cancel_date': None, u'days_to_cancel': None}\n",
      "{u'status': u'current', u'is_udacity': False, u'is_canceled': False, u'join_date': datetime.datetime(2015, 4, 1, 0, 0), u'account_key': u'88', u'cancel_date': None, u'days_to_cancel': None}\n",
      "{u'status': u'current', u'is_udacity': False, u'is_canceled': False, u'join_date': datetime.datetime(2015, 5, 11, 0, 0), u'account_key': u'590', u'cancel_date': None, u'days_to_cancel': None}\n",
      "{u'status': u'current', u'is_udacity': False, u'is_canceled': False, u'join_date': datetime.datetime(2014, 12, 3, 0, 0), u'account_key': u'300', u'cancel_date': None, u'days_to_cancel': None}\n",
      "{u'status': u'current', u'is_udacity': False, u'is_canceled': False, u'join_date': datetime.datetime(2014, 12, 3, 0, 0), u'account_key': u'54', u'cancel_date': None, u'days_to_cancel': None}\n",
      "{u'status': u'current', u'is_udacity': False, u'is_canceled': False, u'join_date': datetime.datetime(2014, 12, 4, 0, 0), u'account_key': u'278', u'cancel_date': None, u'days_to_cancel': None}\n",
      "{u'status': u'current', u'is_udacity': False, u'is_canceled': False, u'join_date': datetime.datetime(2014, 12, 5, 0, 0), u'account_key': u'377', u'cancel_date': None, u'days_to_cancel': None}\n",
      "{u'status': u'current', u'is_udacity': False, u'is_canceled': False, u'join_date': datetime.datetime(2014, 12, 5, 0, 0), u'account_key': u'342', u'cancel_date': None, u'days_to_cancel': None}\n",
      "{u'status': u'current', u'is_udacity': False, u'is_canceled': False, u'join_date': datetime.datetime(2014, 12, 5, 0, 0), u'account_key': u'358', u'cancel_date': None, u'days_to_cancel': None}\n",
      "{u'status': u'current', u'is_udacity': False, u'is_canceled': False, u'join_date': datetime.datetime(2015, 4, 5, 0, 0), u'account_key': u'347', u'cancel_date': None, u'days_to_cancel': None}\n",
      "{u'status': u'current', u'is_udacity': False, u'is_canceled': False, u'join_date': datetime.datetime(2015, 4, 3, 0, 0), u'account_key': u'295', u'cancel_date': None, u'days_to_cancel': None}\n",
      "{u'status': u'current', u'is_udacity': False, u'is_canceled': False, u'join_date': datetime.datetime(2014, 12, 8, 0, 0), u'account_key': u'502', u'cancel_date': None, u'days_to_cancel': None}\n",
      "{u'status': u'current', u'is_udacity': False, u'is_canceled': False, u'join_date': datetime.datetime(2014, 12, 4, 0, 0), u'account_key': u'495', u'cancel_date': None, u'days_to_cancel': None}\n",
      "{u'status': u'current', u'is_udacity': False, u'is_canceled': False, u'join_date': datetime.datetime(2014, 12, 5, 0, 0), u'account_key': u'364', u'cancel_date': None, u'days_to_cancel': None}\n",
      "{u'status': u'current', u'is_udacity': False, u'is_canceled': False, u'join_date': datetime.datetime(2015, 3, 4, 0, 0), u'account_key': u'524', u'cancel_date': None, u'days_to_cancel': None}\n",
      "{u'status': u'current', u'is_udacity': False, u'is_canceled': False, u'join_date': datetime.datetime(2014, 12, 6, 0, 0), u'account_key': u'560', u'cancel_date': None, u'days_to_cancel': None}\n",
      "{u'status': u'current', u'is_udacity': False, u'is_canceled': False, u'join_date': datetime.datetime(2014, 12, 7, 0, 0), u'account_key': u'570', u'cancel_date': None, u'days_to_cancel': None}\n",
      "{u'status': u'current', u'is_udacity': False, u'is_canceled': False, u'join_date': datetime.datetime(2014, 12, 7, 0, 0), u'account_key': u'581', u'cancel_date': None, u'days_to_cancel': None}\n",
      "{u'status': u'current', u'is_udacity': False, u'is_canceled': False, u'join_date': datetime.datetime(2015, 4, 8, 0, 0), u'account_key': u'896', u'cancel_date': None, u'days_to_cancel': None}\n",
      "{u'status': u'current', u'is_udacity': False, u'is_canceled': False, u'join_date': datetime.datetime(2014, 12, 8, 0, 0), u'account_key': u'346', u'cancel_date': None, u'days_to_cancel': None}\n",
      "{u'status': u'current', u'is_udacity': False, u'is_canceled': False, u'join_date': datetime.datetime(2015, 3, 10, 0, 0), u'account_key': u'557', u'cancel_date': None, u'days_to_cancel': None}\n",
      "{u'status': u'current', u'is_udacity': False, u'is_canceled': False, u'join_date': datetime.datetime(2015, 4, 8, 0, 0), u'account_key': u'1124', u'cancel_date': None, u'days_to_cancel': None}\n",
      "{u'status': u'current', u'is_udacity': False, u'is_canceled': False, u'join_date': datetime.datetime(2015, 1, 7, 0, 0), u'account_key': u'350', u'cancel_date': None, u'days_to_cancel': None}\n",
      "{u'status': u'current', u'is_udacity': False, u'is_canceled': False, u'join_date': datetime.datetime(2015, 1, 7, 0, 0), u'account_key': u'345', u'cancel_date': None, u'days_to_cancel': None}\n",
      "{u'status': u'current', u'is_udacity': False, u'is_canceled': False, u'join_date': datetime.datetime(2015, 1, 7, 0, 0), u'account_key': u'530', u'cancel_date': None, u'days_to_cancel': None}\n",
      "{u'status': u'current', u'is_udacity': False, u'is_canceled': False, u'join_date': datetime.datetime(2015, 1, 7, 0, 0), u'account_key': u'383', u'cancel_date': None, u'days_to_cancel': None}\n",
      "{u'status': u'current', u'is_udacity': False, u'is_canceled': False, u'join_date': datetime.datetime(2015, 1, 9, 0, 0), u'account_key': u'356', u'cancel_date': None, u'days_to_cancel': None}\n",
      "{u'status': u'current', u'is_udacity': False, u'is_canceled': False, u'join_date': datetime.datetime(2015, 3, 10, 0, 0), u'account_key': u'91', u'cancel_date': None, u'days_to_cancel': None}\n",
      "{u'status': u'current', u'is_udacity': False, u'is_canceled': False, u'join_date': datetime.datetime(2014, 11, 10, 0, 0), u'account_key': u'12', u'cancel_date': None, u'days_to_cancel': None}\n",
      "{u'status': u'current', u'is_udacity': False, u'is_canceled': False, u'join_date': datetime.datetime(2015, 3, 10, 0, 0), u'account_key': u'3', u'cancel_date': None, u'days_to_cancel': None}\n",
      "{u'status': u'current', u'is_udacity': False, u'is_canceled': False, u'join_date': datetime.datetime(2014, 11, 10, 0, 0), u'account_key': u'224', u'cancel_date': None, u'days_to_cancel': None}\n",
      "{u'status': u'current', u'is_udacity': False, u'is_canceled': False, u'join_date': datetime.datetime(2014, 11, 10, 0, 0), u'account_key': u'562', u'cancel_date': None, u'days_to_cancel': None}\n",
      "{u'status': u'current', u'is_udacity': False, u'is_canceled': False, u'join_date': datetime.datetime(2014, 11, 10, 0, 0), u'account_key': u'1098', u'cancel_date': None, u'days_to_cancel': None}\n",
      "{u'status': u'current', u'is_udacity': False, u'is_canceled': False, u'join_date': datetime.datetime(2015, 4, 1, 0, 0), u'account_key': u'412', u'cancel_date': None, u'days_to_cancel': None}\n",
      "{u'status': u'current', u'is_udacity': False, u'is_canceled': False, u'join_date': datetime.datetime(2014, 11, 10, 0, 0), u'account_key': u'390', u'cancel_date': None, u'days_to_cancel': None}\n",
      "{u'status': u'current', u'is_udacity': False, u'is_canceled': False, u'join_date': datetime.datetime(2014, 11, 10, 0, 0), u'account_key': u'81', u'cancel_date': None, u'days_to_cancel': None}\n",
      "{u'status': u'current', u'is_udacity': False, u'is_canceled': False, u'join_date': datetime.datetime(2014, 11, 11, 0, 0), u'account_key': u'234', u'cancel_date': None, u'days_to_cancel': None}\n",
      "{u'status': u'current', u'is_udacity': False, u'is_canceled': False, u'join_date': datetime.datetime(2014, 11, 14, 0, 0), u'account_key': u'273', u'cancel_date': None, u'days_to_cancel': None}\n",
      "{u'status': u'current', u'is_udacity': False, u'is_canceled': False, u'join_date': datetime.datetime(2015, 1, 15, 0, 0), u'account_key': u'76', u'cancel_date': None, u'days_to_cancel': None}\n",
      "{u'status': u'current', u'is_udacity': False, u'is_canceled': False, u'join_date': datetime.datetime(2014, 11, 14, 0, 0), u'account_key': u'131', u'cancel_date': None, u'days_to_cancel': None}\n",
      "{u'status': u'current', u'is_udacity': False, u'is_canceled': False, u'join_date': datetime.datetime(2014, 11, 14, 0, 0), u'account_key': u'231', u'cancel_date': None, u'days_to_cancel': None}\n",
      "{u'status': u'current', u'is_udacity': False, u'is_canceled': False, u'join_date': datetime.datetime(2014, 11, 14, 0, 0), u'account_key': u'327', u'cancel_date': None, u'days_to_cancel': None}\n",
      "{u'status': u'current', u'is_udacity': False, u'is_canceled': False, u'join_date': datetime.datetime(2014, 11, 15, 0, 0), u'account_key': u'277', u'cancel_date': None, u'days_to_cancel': None}\n",
      "{u'status': u'current', u'is_udacity': False, u'is_canceled': False, u'join_date': datetime.datetime(2014, 11, 15, 0, 0), u'account_key': u'280', u'cancel_date': None, u'days_to_cancel': None}\n",
      "{u'status': u'current', u'is_udacity': False, u'is_canceled': False, u'join_date': datetime.datetime(2014, 11, 16, 0, 0), u'account_key': u'308', u'cancel_date': None, u'days_to_cancel': None}\n",
      "{u'status': u'current', u'is_udacity': False, u'is_canceled': False, u'join_date': datetime.datetime(2014, 12, 3, 0, 0), u'account_key': u'202', u'cancel_date': None, u'days_to_cancel': None}\n",
      "{u'status': u'current', u'is_udacity': False, u'is_canceled': False, u'join_date': datetime.datetime(2015, 4, 18, 0, 0), u'account_key': u'643', u'cancel_date': None, u'days_to_cancel': None}\n",
      "{u'status': u'current', u'is_udacity': False, u'is_canceled': False, u'join_date': datetime.datetime(2014, 12, 4, 0, 0), u'account_key': u'244', u'cancel_date': None, u'days_to_cancel': None}\n",
      "{u'status': u'current', u'is_udacity': False, u'is_canceled': False, u'join_date': datetime.datetime(2015, 2, 3, 0, 0), u'account_key': u'500', u'cancel_date': None, u'days_to_cancel': None}\n",
      "{u'status': u'current', u'is_udacity': False, u'is_canceled': False, u'join_date': datetime.datetime(2014, 12, 5, 0, 0), u'account_key': u'209', u'cancel_date': None, u'days_to_cancel': None}\n",
      "{u'status': u'current', u'is_udacity': False, u'is_canceled': False, u'join_date': datetime.datetime(2014, 12, 5, 0, 0), u'account_key': u'292', u'cancel_date': None, u'days_to_cancel': None}\n",
      "{u'status': u'current', u'is_udacity': False, u'is_canceled': False, u'join_date': datetime.datetime(2014, 12, 5, 0, 0), u'account_key': u'546', u'cancel_date': None, u'days_to_cancel': None}\n",
      "{u'status': u'current', u'is_udacity': False, u'is_canceled': False, u'join_date': datetime.datetime(2015, 4, 2, 0, 0), u'account_key': u'747', u'cancel_date': None, u'days_to_cancel': None}\n",
      "{u'status': u'current', u'is_udacity': False, u'is_canceled': False, u'join_date': datetime.datetime(2014, 12, 7, 0, 0), u'account_key': u'450', u'cancel_date': None, u'days_to_cancel': None}\n",
      "{u'status': u'current', u'is_udacity': False, u'is_canceled': False, u'join_date': datetime.datetime(2014, 12, 8, 0, 0), u'account_key': u'461', u'cancel_date': None, u'days_to_cancel': None}\n",
      "{u'status': u'current', u'is_udacity': False, u'is_canceled': False, u'join_date': datetime.datetime(2015, 1, 7, 0, 0), u'account_key': u'66', u'cancel_date': None, u'days_to_cancel': None}\n",
      "{u'status': u'current', u'is_udacity': False, u'is_canceled': False, u'join_date': datetime.datetime(2015, 1, 8, 0, 0), u'account_key': u'791', u'cancel_date': None, u'days_to_cancel': None}\n",
      "{u'status': u'current', u'is_udacity': False, u'is_canceled': False, u'join_date': datetime.datetime(2015, 3, 10, 0, 0), u'account_key': u'507', u'cancel_date': None, u'days_to_cancel': None}\n",
      "{u'status': u'current', u'is_udacity': False, u'is_canceled': False, u'join_date': datetime.datetime(2015, 1, 9, 0, 0), u'account_key': u'488', u'cancel_date': None, u'days_to_cancel': None}\n",
      "{u'status': u'current', u'is_udacity': False, u'is_canceled': False, u'join_date': datetime.datetime(2015, 8, 12, 0, 0), u'account_key': u'263', u'cancel_date': None, u'days_to_cancel': None}\n",
      "{u'status': u'current', u'is_udacity': False, u'is_canceled': False, u'join_date': datetime.datetime(2015, 1, 12, 0, 0), u'account_key': u'598', u'cancel_date': None, u'days_to_cancel': None}\n",
      "{u'status': u'current', u'is_udacity': False, u'is_canceled': False, u'join_date': datetime.datetime(2015, 1, 12, 0, 0), u'account_key': u'28', u'cancel_date': None, u'days_to_cancel': None}\n",
      "{u'status': u'current', u'is_udacity': False, u'is_canceled': False, u'join_date': datetime.datetime(2014, 12, 8, 0, 0), u'account_key': u'166', u'cancel_date': None, u'days_to_cancel': None}\n",
      "{u'status': u'current', u'is_udacity': False, u'is_canceled': False, u'join_date': datetime.datetime(2015, 3, 10, 0, 0), u'account_key': u'966', u'cancel_date': None, u'days_to_cancel': None}\n",
      "{u'status': u'current', u'is_udacity': False, u'is_canceled': False, u'join_date': datetime.datetime(2015, 3, 10, 0, 0), u'account_key': u'442', u'cancel_date': None, u'days_to_cancel': None}\n",
      "{u'status': u'current', u'is_udacity': False, u'is_canceled': False, u'join_date': datetime.datetime(2015, 5, 14, 0, 0), u'account_key': u'442', u'cancel_date': None, u'days_to_cancel': None}\n",
      "{u'status': u'current', u'is_udacity': False, u'is_canceled': False, u'join_date': datetime.datetime(2015, 1, 7, 0, 0), u'account_key': u'592', u'cancel_date': None, u'days_to_cancel': None}\n",
      "{u'status': u'current', u'is_udacity': False, u'is_canceled': False, u'join_date': datetime.datetime(2015, 2, 3, 0, 0), u'account_key': u'34', u'cancel_date': None, u'days_to_cancel': None}\n",
      "{u'status': u'current', u'is_udacity': False, u'is_canceled': False, u'join_date': datetime.datetime(2015, 1, 9, 0, 0), u'account_key': u'0', u'cancel_date': None, u'days_to_cancel': None}\n",
      "{u'status': u'current', u'is_udacity': False, u'is_canceled': False, u'join_date': datetime.datetime(2015, 1, 9, 0, 0), u'account_key': u'527', u'cancel_date': None, u'days_to_cancel': None}\n",
      "{u'status': u'current', u'is_udacity': False, u'is_canceled': False, u'join_date': datetime.datetime(2015, 4, 8, 0, 0), u'account_key': u'227', u'cancel_date': None, u'days_to_cancel': None}\n",
      "{u'status': u'current', u'is_udacity': False, u'is_canceled': False, u'join_date': datetime.datetime(2015, 4, 2, 0, 0), u'account_key': u'599', u'cancel_date': None, u'days_to_cancel': None}\n",
      "{u'status': u'current', u'is_udacity': False, u'is_canceled': False, u'join_date': datetime.datetime(2015, 3, 10, 0, 0), u'account_key': u'181', u'cancel_date': None, u'days_to_cancel': None}\n",
      "{u'status': u'current', u'is_udacity': False, u'is_canceled': False, u'join_date': datetime.datetime(2014, 11, 14, 0, 0), u'account_key': u'126', u'cancel_date': None, u'days_to_cancel': None}\n",
      "{u'status': u'current', u'is_udacity': False, u'is_canceled': False, u'join_date': datetime.datetime(2014, 11, 14, 0, 0), u'account_key': u'254', u'cancel_date': None, u'days_to_cancel': None}\n",
      "{u'status': u'current', u'is_udacity': False, u'is_canceled': False, u'join_date': datetime.datetime(2015, 3, 10, 0, 0), u'account_key': u'334', u'cancel_date': None, u'days_to_cancel': None}\n",
      "{u'status': u'current', u'is_udacity': False, u'is_canceled': False, u'join_date': datetime.datetime(2014, 11, 16, 0, 0), u'account_key': u'469', u'cancel_date': None, u'days_to_cancel': None}\n",
      "{u'status': u'current', u'is_udacity': False, u'is_canceled': False, u'join_date': datetime.datetime(2015, 1, 12, 0, 0), u'account_key': u'33', u'cancel_date': None, u'days_to_cancel': None}\n",
      "{u'status': u'current', u'is_udacity': False, u'is_canceled': False, u'join_date': datetime.datetime(2015, 1, 12, 0, 0), u'account_key': u'250', u'cancel_date': None, u'days_to_cancel': None}\n",
      "{u'status': u'current', u'is_udacity': False, u'is_canceled': False, u'join_date': datetime.datetime(2015, 1, 12, 0, 0), u'account_key': u'486', u'cancel_date': None, u'days_to_cancel': None}\n",
      "{u'status': u'current', u'is_udacity': False, u'is_canceled': False, u'join_date': datetime.datetime(2015, 1, 12, 0, 0), u'account_key': u'567', u'cancel_date': None, u'days_to_cancel': None}\n",
      "{u'status': u'current', u'is_udacity': False, u'is_canceled': False, u'join_date': datetime.datetime(2015, 1, 13, 0, 0), u'account_key': u'371', u'cancel_date': None, u'days_to_cancel': None}\n",
      "{u'status': u'current', u'is_udacity': False, u'is_canceled': False, u'join_date': datetime.datetime(2015, 3, 10, 0, 0), u'account_key': u'923', u'cancel_date': None, u'days_to_cancel': None}\n",
      "{u'status': u'current', u'is_udacity': False, u'is_canceled': False, u'join_date': datetime.datetime(2015, 4, 1, 0, 0), u'account_key': u'640', u'cancel_date': None, u'days_to_cancel': None}\n",
      "{u'status': u'current', u'is_udacity': False, u'is_canceled': False, u'join_date': datetime.datetime(2015, 2, 3, 0, 0), u'account_key': u'529', u'cancel_date': None, u'days_to_cancel': None}\n",
      "{u'status': u'current', u'is_udacity': False, u'is_canceled': False, u'join_date': datetime.datetime(2014, 11, 17, 0, 0), u'account_key': u'222', u'cancel_date': None, u'days_to_cancel': None}\n",
      "{u'status': u'current', u'is_udacity': False, u'is_canceled': False, u'join_date': datetime.datetime(2014, 12, 3, 0, 0), u'account_key': u'288', u'cancel_date': None, u'days_to_cancel': None}\n",
      "{u'status': u'current', u'is_udacity': False, u'is_canceled': False, u'join_date': datetime.datetime(2015, 3, 10, 0, 0), u'account_key': u'523', u'cancel_date': None, u'days_to_cancel': None}\n",
      "{u'status': u'current', u'is_udacity': False, u'is_canceled': False, u'join_date': datetime.datetime(2015, 4, 1, 0, 0), u'account_key': u'397', u'cancel_date': None, u'days_to_cancel': None}\n",
      "{u'status': u'current', u'is_udacity': False, u'is_canceled': False, u'join_date': datetime.datetime(2014, 12, 5, 0, 0), u'account_key': u'1181', u'cancel_date': None, u'days_to_cancel': None}\n",
      "{u'status': u'current', u'is_udacity': False, u'is_canceled': False, u'join_date': datetime.datetime(2015, 4, 1, 0, 0), u'account_key': u'193', u'cancel_date': None, u'days_to_cancel': None}\n",
      "{u'status': u'current', u'is_udacity': False, u'is_canceled': False, u'join_date': datetime.datetime(2015, 4, 8, 0, 0), u'account_key': u'180', u'cancel_date': None, u'days_to_cancel': None}\n",
      "{u'status': u'current', u'is_udacity': False, u'is_canceled': False, u'join_date': datetime.datetime(2015, 1, 13, 0, 0), u'account_key': u'125', u'cancel_date': None, u'days_to_cancel': None}\n",
      "{u'status': u'current', u'is_udacity': False, u'is_canceled': False, u'join_date': datetime.datetime(2015, 1, 14, 0, 0), u'account_key': u'140', u'cancel_date': None, u'days_to_cancel': None}\n",
      "{u'status': u'current', u'is_udacity': False, u'is_canceled': False, u'join_date': datetime.datetime(2015, 2, 3, 0, 0), u'account_key': u'388', u'cancel_date': None, u'days_to_cancel': None}\n",
      "{u'status': u'current', u'is_udacity': False, u'is_canceled': False, u'join_date': datetime.datetime(2015, 2, 3, 0, 0), u'account_key': u'147', u'cancel_date': None, u'days_to_cancel': None}\n",
      "{u'status': u'current', u'is_udacity': False, u'is_canceled': False, u'join_date': datetime.datetime(2015, 4, 8, 0, 0), u'account_key': u'119', u'cancel_date': None, u'days_to_cancel': None}\n",
      "{u'status': u'current', u'is_udacity': False, u'is_canceled': False, u'join_date': datetime.datetime(2015, 4, 8, 0, 0), u'account_key': u'97', u'cancel_date': None, u'days_to_cancel': None}\n",
      "{u'status': u'current', u'is_udacity': False, u'is_canceled': False, u'join_date': datetime.datetime(2015, 8, 13, 0, 0), u'account_key': u'984', u'cancel_date': None, u'days_to_cancel': None}\n",
      "{u'status': u'current', u'is_udacity': False, u'is_canceled': False, u'join_date': datetime.datetime(2015, 4, 8, 0, 0), u'account_key': u'444', u'cancel_date': None, u'days_to_cancel': None}\n",
      "{u'status': u'current', u'is_udacity': False, u'is_canceled': False, u'join_date': datetime.datetime(2015, 2, 5, 0, 0), u'account_key': u'493', u'cancel_date': None, u'days_to_cancel': None}\n",
      "{u'status': u'current', u'is_udacity': False, u'is_canceled': False, u'join_date': datetime.datetime(2015, 2, 6, 0, 0), u'account_key': u'435', u'cancel_date': None, u'days_to_cancel': None}\n",
      "{u'status': u'current', u'is_udacity': False, u'is_canceled': False, u'join_date': datetime.datetime(2014, 11, 10, 0, 0), u'account_key': u'156', u'cancel_date': None, u'days_to_cancel': None}\n",
      "{u'status': u'current', u'is_udacity': False, u'is_canceled': False, u'join_date': datetime.datetime(2014, 11, 10, 0, 0), u'account_key': u'145', u'cancel_date': None, u'days_to_cancel': None}\n",
      "{u'status': u'current', u'is_udacity': False, u'is_canceled': False, u'join_date': datetime.datetime(2014, 11, 10, 0, 0), u'account_key': u'420', u'cancel_date': None, u'days_to_cancel': None}\n",
      "{u'status': u'current', u'is_udacity': False, u'is_canceled': False, u'join_date': datetime.datetime(2014, 11, 10, 0, 0), u'account_key': u'582', u'cancel_date': None, u'days_to_cancel': None}\n",
      "{u'status': u'current', u'is_udacity': False, u'is_canceled': False, u'join_date': datetime.datetime(2015, 4, 1, 0, 0), u'account_key': u'90', u'cancel_date': None, u'days_to_cancel': None}\n",
      "{u'status': u'current', u'is_udacity': False, u'is_canceled': False, u'join_date': datetime.datetime(2014, 11, 10, 0, 0), u'account_key': u'328', u'cancel_date': None, u'days_to_cancel': None}\n",
      "{u'status': u'current', u'is_udacity': False, u'is_canceled': False, u'join_date': datetime.datetime(2014, 11, 12, 0, 0), u'account_key': u'617', u'cancel_date': None, u'days_to_cancel': None}\n",
      "{u'status': u'current', u'is_udacity': False, u'is_canceled': False, u'join_date': datetime.datetime(2015, 2, 12, 0, 0), u'account_key': u'159', u'cancel_date': None, u'days_to_cancel': None}\n",
      "{u'status': u'current', u'is_udacity': False, u'is_canceled': False, u'join_date': datetime.datetime(2015, 2, 5, 0, 0), u'account_key': u'561', u'cancel_date': None, u'days_to_cancel': None}\n",
      "{u'status': u'current', u'is_udacity': False, u'is_canceled': False, u'join_date': datetime.datetime(2015, 2, 5, 0, 0), u'account_key': u'352', u'cancel_date': None, u'days_to_cancel': None}\n",
      "{u'status': u'current', u'is_udacity': False, u'is_canceled': False, u'join_date': datetime.datetime(2015, 2, 6, 0, 0), u'account_key': u'374', u'cancel_date': None, u'days_to_cancel': None}\n",
      "{u'status': u'current', u'is_udacity': False, u'is_canceled': False, u'join_date': datetime.datetime(2015, 4, 8, 0, 0), u'account_key': u'857', u'cancel_date': None, u'days_to_cancel': None}\n",
      "{u'status': u'current', u'is_udacity': False, u'is_canceled': False, u'join_date': datetime.datetime(2015, 4, 8, 0, 0), u'account_key': u'138', u'cancel_date': None, u'days_to_cancel': None}\n",
      "{u'status': u'current', u'is_udacity': False, u'is_canceled': False, u'join_date': datetime.datetime(2015, 3, 4, 0, 0), u'account_key': u'50', u'cancel_date': None, u'days_to_cancel': None}\n",
      "{u'status': u'current', u'is_udacity': False, u'is_canceled': False, u'join_date': datetime.datetime(2015, 3, 5, 0, 0), u'account_key': u'607', u'cancel_date': None, u'days_to_cancel': None}\n",
      "{u'status': u'current', u'is_udacity': False, u'is_canceled': False, u'join_date': datetime.datetime(2015, 4, 8, 0, 0), u'account_key': u'251', u'cancel_date': None, u'days_to_cancel': None}\n",
      "{u'status': u'current', u'is_udacity': False, u'is_canceled': False, u'join_date': datetime.datetime(2015, 4, 8, 0, 0), u'account_key': u'564', u'cancel_date': None, u'days_to_cancel': None}\n",
      "{u'status': u'current', u'is_udacity': False, u'is_canceled': False, u'join_date': datetime.datetime(2015, 2, 9, 0, 0), u'account_key': u'70', u'cancel_date': None, u'days_to_cancel': None}\n",
      "{u'status': u'current', u'is_udacity': False, u'is_canceled': False, u'join_date': datetime.datetime(2015, 2, 9, 0, 0), u'account_key': u'494', u'cancel_date': None, u'days_to_cancel': None}\n",
      "{u'status': u'current', u'is_udacity': False, u'is_canceled': False, u'join_date': datetime.datetime(2015, 2, 9, 0, 0), u'account_key': u'603', u'cancel_date': None, u'days_to_cancel': None}\n",
      "{u'status': u'current', u'is_udacity': False, u'is_canceled': False, u'join_date': datetime.datetime(2015, 2, 10, 0, 0), u'account_key': u'307', u'cancel_date': None, u'days_to_cancel': None}\n",
      "{u'status': u'current', u'is_udacity': False, u'is_canceled': False, u'join_date': datetime.datetime(2015, 2, 10, 0, 0), u'account_key': u'337', u'cancel_date': None, u'days_to_cancel': None}\n",
      "{u'status': u'current', u'is_udacity': False, u'is_canceled': False, u'join_date': datetime.datetime(2015, 2, 10, 0, 0), u'account_key': u'30', u'cancel_date': None, u'days_to_cancel': None}\n",
      "{u'status': u'current', u'is_udacity': False, u'is_canceled': False, u'join_date': datetime.datetime(2015, 3, 5, 0, 0), u'account_key': u'82', u'cancel_date': None, u'days_to_cancel': None}\n",
      "{u'status': u'current', u'is_udacity': False, u'is_canceled': False, u'join_date': datetime.datetime(2015, 3, 5, 0, 0), u'account_key': u'348', u'cancel_date': None, u'days_to_cancel': None}\n",
      "{u'status': u'current', u'is_udacity': False, u'is_canceled': False, u'join_date': datetime.datetime(2015, 3, 6, 0, 0), u'account_key': u'139', u'cancel_date': None, u'days_to_cancel': None}\n",
      "{u'status': u'current', u'is_udacity': False, u'is_canceled': False, u'join_date': datetime.datetime(2015, 4, 1, 0, 0), u'account_key': u'185', u'cancel_date': None, u'days_to_cancel': None}\n",
      "{u'status': u'current', u'is_udacity': False, u'is_canceled': False, u'join_date': datetime.datetime(2014, 11, 14, 0, 0), u'account_key': u'281', u'cancel_date': None, u'days_to_cancel': None}\n",
      "{u'status': u'current', u'is_udacity': False, u'is_canceled': False, u'join_date': datetime.datetime(2015, 3, 10, 0, 0), u'account_key': u'191', u'cancel_date': None, u'days_to_cancel': None}\n",
      "{u'status': u'current', u'is_udacity': False, u'is_canceled': False, u'join_date': datetime.datetime(2015, 3, 10, 0, 0), u'account_key': u'415', u'cancel_date': None, u'days_to_cancel': None}\n",
      "{u'status': u'current', u'is_udacity': False, u'is_canceled': False, u'join_date': datetime.datetime(2015, 7, 16, 0, 0), u'account_key': u'836', u'cancel_date': None, u'days_to_cancel': None}\n",
      "{u'status': u'current', u'is_udacity': False, u'is_canceled': False, u'join_date': datetime.datetime(2014, 12, 30, 0, 0), u'account_key': u'319', u'cancel_date': None, u'days_to_cancel': None}\n",
      "{u'status': u'current', u'is_udacity': False, u'is_canceled': False, u'join_date': datetime.datetime(2015, 3, 10, 0, 0), u'account_key': u'285', u'cancel_date': None, u'days_to_cancel': None}\n",
      "{u'status': u'current', u'is_udacity': False, u'is_canceled': False, u'join_date': datetime.datetime(2015, 4, 7, 0, 0), u'account_key': u'71', u'cancel_date': None, u'days_to_cancel': None}\n",
      "{u'status': u'current', u'is_udacity': False, u'is_canceled': False, u'join_date': datetime.datetime(2015, 1, 7, 0, 0), u'account_key': u'1073', u'cancel_date': None, u'days_to_cancel': None}\n",
      "{u'status': u'current', u'is_udacity': False, u'is_canceled': False, u'join_date': datetime.datetime(2015, 1, 8, 0, 0), u'account_key': u'421', u'cancel_date': None, u'days_to_cancel': None}\n",
      "{u'status': u'current', u'is_udacity': False, u'is_canceled': False, u'join_date': datetime.datetime(2015, 1, 8, 0, 0), u'account_key': u'9', u'cancel_date': None, u'days_to_cancel': None}\n",
      "{u'status': u'current', u'is_udacity': False, u'is_canceled': False, u'join_date': datetime.datetime(2015, 3, 6, 0, 0), u'account_key': u'144', u'cancel_date': None, u'days_to_cancel': None}\n",
      "{u'status': u'current', u'is_udacity': False, u'is_canceled': False, u'join_date': datetime.datetime(2015, 1, 11, 0, 0), u'account_key': u'344', u'cancel_date': None, u'days_to_cancel': None}\n",
      "{u'status': u'current', u'is_udacity': False, u'is_canceled': False, u'join_date': datetime.datetime(2015, 3, 6, 0, 0), u'account_key': u'517', u'cancel_date': None, u'days_to_cancel': None}\n",
      "{u'status': u'current', u'is_udacity': False, u'is_canceled': False, u'join_date': datetime.datetime(2015, 3, 10, 0, 0), u'account_key': u'586', u'cancel_date': None, u'days_to_cancel': None}\n",
      "{u'status': u'current', u'is_udacity': False, u'is_canceled': False, u'join_date': datetime.datetime(2015, 3, 10, 0, 0), u'account_key': u'492', u'cancel_date': None, u'days_to_cancel': None}\n",
      "{u'status': u'current', u'is_udacity': False, u'is_canceled': False, u'join_date': datetime.datetime(2015, 3, 10, 0, 0), u'account_key': u'1259', u'cancel_date': None, u'days_to_cancel': None}\n",
      "{u'status': u'current', u'is_udacity': False, u'is_canceled': False, u'join_date': datetime.datetime(2015, 3, 11, 0, 0), u'account_key': u'149', u'cancel_date': None, u'days_to_cancel': None}\n",
      "{u'status': u'current', u'is_udacity': False, u'is_canceled': False, u'join_date': datetime.datetime(2015, 4, 1, 0, 0), u'account_key': u'78', u'cancel_date': None, u'days_to_cancel': None}\n",
      "{u'status': u'current', u'is_udacity': False, u'is_canceled': False, u'join_date': datetime.datetime(2015, 4, 1, 0, 0), u'account_key': u'558', u'cancel_date': None, u'days_to_cancel': None}\n",
      "{u'status': u'current', u'is_udacity': False, u'is_canceled': False, u'join_date': datetime.datetime(2015, 4, 1, 0, 0), u'account_key': u'246', u'cancel_date': None, u'days_to_cancel': None}\n",
      "{u'status': u'current', u'is_udacity': False, u'is_canceled': False, u'join_date': datetime.datetime(2015, 4, 1, 0, 0), u'account_key': u'455', u'cancel_date': None, u'days_to_cancel': None}\n",
      "{u'status': u'current', u'is_udacity': False, u'is_canceled': False, u'join_date': datetime.datetime(2015, 3, 10, 0, 0), u'account_key': u'106', u'cancel_date': None, u'days_to_cancel': None}\n",
      "{u'status': u'current', u'is_udacity': False, u'is_canceled': False, u'join_date': datetime.datetime(2015, 4, 1, 0, 0), u'account_key': u'591', u'cancel_date': None, u'days_to_cancel': None}\n",
      "{u'status': u'current', u'is_udacity': False, u'is_canceled': False, u'join_date': datetime.datetime(2015, 3, 10, 0, 0), u'account_key': u'31', u'cancel_date': None, u'days_to_cancel': None}\n",
      "{u'status': u'current', u'is_udacity': False, u'is_canceled': False, u'join_date': datetime.datetime(2015, 3, 10, 0, 0), u'account_key': u'906', u'cancel_date': None, u'days_to_cancel': None}\n",
      "{u'status': u'current', u'is_udacity': False, u'is_canceled': False, u'join_date': datetime.datetime(2015, 3, 10, 0, 0), u'account_key': u'601', u'cancel_date': None, u'days_to_cancel': None}\n",
      "{u'status': u'current', u'is_udacity': False, u'is_canceled': False, u'join_date': datetime.datetime(2015, 7, 9, 0, 0), u'account_key': u'321', u'cancel_date': None, u'days_to_cancel': None}\n",
      "{u'status': u'current', u'is_udacity': False, u'is_canceled': False, u'join_date': datetime.datetime(2015, 4, 1, 0, 0), u'account_key': u'571', u'cancel_date': None, u'days_to_cancel': None}\n",
      "{u'status': u'current', u'is_udacity': False, u'is_canceled': False, u'join_date': datetime.datetime(2015, 4, 2, 0, 0), u'account_key': u'1267', u'cancel_date': None, u'days_to_cancel': None}\n",
      "{u'status': u'current', u'is_udacity': False, u'is_canceled': False, u'join_date': datetime.datetime(2015, 4, 2, 0, 0), u'account_key': u'392', u'cancel_date': None, u'days_to_cancel': None}\n",
      "{u'status': u'current', u'is_udacity': False, u'is_canceled': False, u'join_date': datetime.datetime(2015, 4, 2, 0, 0), u'account_key': u'578', u'cancel_date': None, u'days_to_cancel': None}\n",
      "{u'status': u'current', u'is_udacity': False, u'is_canceled': False, u'join_date': datetime.datetime(2015, 4, 2, 0, 0), u'account_key': u'86', u'cancel_date': None, u'days_to_cancel': None}\n",
      "{u'status': u'current', u'is_udacity': False, u'is_canceled': False, u'join_date': datetime.datetime(2015, 4, 4, 0, 0), u'account_key': u'158', u'cancel_date': None, u'days_to_cancel': None}\n",
      "{u'status': u'current', u'is_udacity': False, u'is_canceled': False, u'join_date': datetime.datetime(2015, 1, 11, 0, 0), u'account_key': u'642', u'cancel_date': None, u'days_to_cancel': None}\n",
      "{u'status': u'current', u'is_udacity': False, u'is_canceled': False, u'join_date': datetime.datetime(2015, 1, 12, 0, 0), u'account_key': u'214', u'cancel_date': None, u'days_to_cancel': None}\n",
      "{u'status': u'current', u'is_udacity': False, u'is_canceled': False, u'join_date': datetime.datetime(2015, 3, 10, 0, 0), u'account_key': u'1242', u'cancel_date': None, u'days_to_cancel': None}\n",
      "{u'status': u'current', u'is_udacity': False, u'is_canceled': False, u'join_date': datetime.datetime(2015, 4, 8, 0, 0), u'account_key': u'168', u'cancel_date': None, u'days_to_cancel': None}\n",
      "{u'status': u'current', u'is_udacity': False, u'is_canceled': False, u'join_date': datetime.datetime(2014, 11, 17, 0, 0), u'account_key': u'152', u'cancel_date': None, u'days_to_cancel': None}\n",
      "{u'status': u'current', u'is_udacity': False, u'is_canceled': False, u'join_date': datetime.datetime(2014, 12, 3, 0, 0), u'account_key': u'539', u'cancel_date': None, u'days_to_cancel': None}\n",
      "{u'status': u'current', u'is_udacity': False, u'is_canceled': False, u'join_date': datetime.datetime(2014, 12, 5, 0, 0), u'account_key': u'1251', u'cancel_date': None, u'days_to_cancel': None}\n",
      "{u'status': u'current', u'is_udacity': False, u'is_canceled': False, u'join_date': datetime.datetime(2014, 12, 5, 0, 0), u'account_key': u'613', u'cancel_date': None, u'days_to_cancel': None}\n",
      "{u'status': u'current', u'is_udacity': False, u'is_canceled': False, u'join_date': datetime.datetime(2014, 12, 8, 0, 0), u'account_key': u'453', u'cancel_date': None, u'days_to_cancel': None}\n",
      "{u'status': u'current', u'is_udacity': False, u'is_canceled': False, u'join_date': datetime.datetime(2014, 12, 8, 0, 0), u'account_key': u'380', u'cancel_date': None, u'days_to_cancel': None}\n",
      "{u'status': u'current', u'is_udacity': False, u'is_canceled': False, u'join_date': datetime.datetime(2015, 4, 1, 0, 0), u'account_key': u'451', u'cancel_date': None, u'days_to_cancel': None}\n",
      "{u'status': u'current', u'is_udacity': False, u'is_canceled': False, u'join_date': datetime.datetime(2015, 4, 2, 0, 0), u'account_key': u'625', u'cancel_date': None, u'days_to_cancel': None}\n",
      "{u'status': u'current', u'is_udacity': False, u'is_canceled': False, u'join_date': datetime.datetime(2015, 4, 5, 0, 0), u'account_key': u'1154', u'cancel_date': None, u'days_to_cancel': None}\n",
      "{u'status': u'current', u'is_udacity': False, u'is_canceled': False, u'join_date': datetime.datetime(2015, 7, 17, 0, 0), u'account_key': u'853', u'cancel_date': None, u'days_to_cancel': None}\n",
      "{u'status': u'current', u'is_udacity': False, u'is_canceled': False, u'join_date': datetime.datetime(2015, 4, 8, 0, 0), u'account_key': u'690', u'cancel_date': None, u'days_to_cancel': None}\n",
      "{u'status': u'current', u'is_udacity': False, u'is_canceled': False, u'join_date': datetime.datetime(2015, 4, 6, 0, 0), u'account_key': u'424', u'cancel_date': None, u'days_to_cancel': None}\n",
      "{u'status': u'current', u'is_udacity': False, u'is_canceled': False, u'join_date': datetime.datetime(2015, 4, 7, 0, 0), u'account_key': u'379', u'cancel_date': None, u'days_to_cancel': None}\n",
      "{u'status': u'current', u'is_udacity': False, u'is_canceled': False, u'join_date': datetime.datetime(2015, 4, 8, 0, 0), u'account_key': u'395', u'cancel_date': None, u'days_to_cancel': None}\n",
      "{u'status': u'current', u'is_udacity': False, u'is_canceled': False, u'join_date': datetime.datetime(2015, 4, 8, 0, 0), u'account_key': u'1299', u'cancel_date': None, u'days_to_cancel': None}\n",
      "{u'status': u'current', u'is_udacity': False, u'is_canceled': False, u'join_date': datetime.datetime(2015, 4, 8, 0, 0), u'account_key': u'589', u'cancel_date': None, u'days_to_cancel': None}\n",
      "{u'status': u'current', u'is_udacity': False, u'is_canceled': False, u'join_date': datetime.datetime(2015, 4, 8, 0, 0), u'account_key': u'433', u'cancel_date': None, u'days_to_cancel': None}\n",
      "{u'status': u'current', u'is_udacity': False, u'is_canceled': False, u'join_date': datetime.datetime(2015, 4, 9, 0, 0), u'account_key': u'555', u'cancel_date': None, u'days_to_cancel': None}\n",
      "{u'status': u'current', u'is_udacity': False, u'is_canceled': False, u'join_date': datetime.datetime(2015, 4, 13, 0, 0), u'account_key': u'676', u'cancel_date': None, u'days_to_cancel': None}\n",
      "{u'status': u'current', u'is_udacity': False, u'is_canceled': False, u'join_date': datetime.datetime(2015, 4, 24, 0, 0), u'account_key': u'127', u'cancel_date': None, u'days_to_cancel': None}\n",
      "{u'status': u'current', u'is_udacity': False, u'is_canceled': False, u'join_date': datetime.datetime(2015, 4, 24, 0, 0), u'account_key': u'201', u'cancel_date': None, u'days_to_cancel': None}\n",
      "{u'status': u'current', u'is_udacity': False, u'is_canceled': False, u'join_date': datetime.datetime(2015, 4, 24, 0, 0), u'account_key': u'396', u'cancel_date': None, u'days_to_cancel': None}\n",
      "{u'status': u'current', u'is_udacity': False, u'is_canceled': False, u'join_date': datetime.datetime(2015, 4, 24, 0, 0), u'account_key': u'267', u'cancel_date': None, u'days_to_cancel': None}\n",
      "{u'status': u'current', u'is_udacity': False, u'is_canceled': False, u'join_date': datetime.datetime(2015, 4, 24, 0, 0), u'account_key': u'240', u'cancel_date': None, u'days_to_cancel': None}\n",
      "{u'status': u'current', u'is_udacity': False, u'is_canceled': False, u'join_date': datetime.datetime(2015, 5, 6, 0, 0), u'account_key': u'647', u'cancel_date': None, u'days_to_cancel': None}\n",
      "{u'status': u'current', u'is_udacity': False, u'is_canceled': False, u'join_date': datetime.datetime(2015, 5, 7, 0, 0), u'account_key': u'559', u'cancel_date': None, u'days_to_cancel': None}\n",
      "{u'status': u'current', u'is_udacity': False, u'is_canceled': False, u'join_date': datetime.datetime(2015, 5, 8, 0, 0), u'account_key': u'476', u'cancel_date': None, u'days_to_cancel': None}\n",
      "{u'status': u'current', u'is_udacity': False, u'is_canceled': False, u'join_date': datetime.datetime(2015, 5, 11, 0, 0), u'account_key': u'516', u'cancel_date': None, u'days_to_cancel': None}\n",
      "{u'status': u'current', u'is_udacity': False, u'is_canceled': False, u'join_date': datetime.datetime(2015, 1, 7, 0, 0), u'account_key': u'77', u'cancel_date': None, u'days_to_cancel': None}\n",
      "{u'status': u'current', u'is_udacity': False, u'is_canceled': False, u'join_date': datetime.datetime(2015, 1, 7, 0, 0), u'account_key': u'56', u'cancel_date': None, u'days_to_cancel': None}\n",
      "{u'status': u'current', u'is_udacity': False, u'is_canceled': False, u'join_date': datetime.datetime(2015, 1, 7, 0, 0), u'account_key': u'207', u'cancel_date': None, u'days_to_cancel': None}\n",
      "{u'status': u'current', u'is_udacity': False, u'is_canceled': False, u'join_date': datetime.datetime(2015, 1, 7, 0, 0), u'account_key': u'103', u'cancel_date': None, u'days_to_cancel': None}\n",
      "{u'status': u'current', u'is_udacity': False, u'is_canceled': False, u'join_date': datetime.datetime(2015, 5, 7, 0, 0), u'account_key': u'460', u'cancel_date': None, u'days_to_cancel': None}\n",
      "{u'status': u'current', u'is_udacity': False, u'is_canceled': False, u'join_date': datetime.datetime(2015, 1, 7, 0, 0), u'account_key': u'446', u'cancel_date': None, u'days_to_cancel': None}\n",
      "{u'status': u'current', u'is_udacity': False, u'is_canceled': False, u'join_date': datetime.datetime(2015, 1, 8, 0, 0), u'account_key': u'232', u'cancel_date': None, u'days_to_cancel': None}\n",
      "{u'status': u'current', u'is_udacity': False, u'is_canceled': False, u'join_date': datetime.datetime(2015, 1, 8, 0, 0), u'account_key': u'515', u'cancel_date': None, u'days_to_cancel': None}\n",
      "{u'status': u'current', u'is_udacity': False, u'is_canceled': False, u'join_date': datetime.datetime(2015, 1, 10, 0, 0), u'account_key': u'59', u'cancel_date': None, u'days_to_cancel': None}\n",
      "{u'status': u'current', u'is_udacity': False, u'is_canceled': False, u'join_date': datetime.datetime(2015, 5, 11, 0, 0), u'account_key': u'900', u'cancel_date': None, u'days_to_cancel': None}\n",
      "{u'status': u'current', u'is_udacity': False, u'is_canceled': False, u'join_date': datetime.datetime(2015, 1, 11, 0, 0), u'account_key': u'357', u'cancel_date': None, u'days_to_cancel': None}\n",
      "{u'status': u'current', u'is_udacity': False, u'is_canceled': False, u'join_date': datetime.datetime(2015, 4, 8, 0, 0), u'account_key': u'279', u'cancel_date': None, u'days_to_cancel': None}\n",
      "{u'status': u'current', u'is_udacity': False, u'is_canceled': False, u'join_date': datetime.datetime(2015, 4, 8, 0, 0), u'account_key': u'136', u'cancel_date': None, u'days_to_cancel': None}\n",
      "{u'status': u'current', u'is_udacity': False, u'is_canceled': False, u'join_date': datetime.datetime(2015, 4, 8, 0, 0), u'account_key': u'306', u'cancel_date': None, u'days_to_cancel': None}\n",
      "{u'status': u'current', u'is_udacity': False, u'is_canceled': False, u'join_date': datetime.datetime(2015, 2, 8, 0, 0), u'account_key': u'436', u'cancel_date': None, u'days_to_cancel': None}\n",
      "{u'status': u'current', u'is_udacity': False, u'is_canceled': False, u'join_date': datetime.datetime(2015, 2, 8, 0, 0), u'account_key': u'35', u'cancel_date': None, u'days_to_cancel': None}\n",
      "{u'status': u'current', u'is_udacity': False, u'is_canceled': False, u'join_date': datetime.datetime(2015, 2, 9, 0, 0), u'account_key': u'463', u'cancel_date': None, u'days_to_cancel': None}\n",
      "{u'status': u'current', u'is_udacity': False, u'is_canceled': False, u'join_date': datetime.datetime(2015, 4, 8, 0, 0), u'account_key': u'284', u'cancel_date': None, u'days_to_cancel': None}\n",
      "{u'status': u'current', u'is_udacity': False, u'is_canceled': False, u'join_date': datetime.datetime(2015, 3, 4, 0, 0), u'account_key': u'239', u'cancel_date': None, u'days_to_cancel': None}\n",
      "{u'status': u'current', u'is_udacity': False, u'is_canceled': False, u'join_date': datetime.datetime(2015, 5, 9, 0, 0), u'account_key': u'475', u'cancel_date': None, u'days_to_cancel': None}\n",
      "{u'status': u'current', u'is_udacity': False, u'is_canceled': False, u'join_date': datetime.datetime(2015, 5, 10, 0, 0), u'account_key': u'276', u'cancel_date': None, u'days_to_cancel': None}\n",
      "{u'status': u'current', u'is_udacity': False, u'is_canceled': False, u'join_date': datetime.datetime(2015, 5, 10, 0, 0), u'account_key': u'608', u'cancel_date': None, u'days_to_cancel': None}\n",
      "{u'status': u'current', u'is_udacity': False, u'is_canceled': False, u'join_date': datetime.datetime(2015, 5, 10, 0, 0), u'account_key': u'341', u'cancel_date': None, u'days_to_cancel': None}\n",
      "{u'status': u'current', u'is_udacity': False, u'is_canceled': False, u'join_date': datetime.datetime(2015, 5, 11, 0, 0), u'account_key': u'501', u'cancel_date': None, u'days_to_cancel': None}\n",
      "{u'status': u'current', u'is_udacity': False, u'is_canceled': False, u'join_date': datetime.datetime(2015, 5, 12, 0, 0), u'account_key': u'25', u'cancel_date': None, u'days_to_cancel': None}\n",
      "{u'status': u'current', u'is_udacity': False, u'is_canceled': False, u'join_date': datetime.datetime(2015, 5, 12, 0, 0), u'account_key': u'674', u'cancel_date': None, u'days_to_cancel': None}\n",
      "{u'status': u'current', u'is_udacity': False, u'is_canceled': False, u'join_date': datetime.datetime(2015, 5, 13, 0, 0), u'account_key': u'771', u'cancel_date': None, u'days_to_cancel': None}\n",
      "{u'status': u'current', u'is_udacity': False, u'is_canceled': False, u'join_date': datetime.datetime(2015, 5, 28, 0, 0), u'account_key': u'63', u'cancel_date': None, u'days_to_cancel': None}\n",
      "{u'status': u'current', u'is_udacity': False, u'is_canceled': False, u'join_date': datetime.datetime(2015, 5, 28, 0, 0), u'account_key': u'481', u'cancel_date': None, u'days_to_cancel': None}\n",
      "{u'status': u'current', u'is_udacity': False, u'is_canceled': False, u'join_date': datetime.datetime(2015, 5, 30, 0, 0), u'account_key': u'42', u'cancel_date': None, u'days_to_cancel': None}\n",
      "{u'status': u'current', u'is_udacity': False, u'is_canceled': False, u'join_date': datetime.datetime(2015, 4, 24, 0, 0), u'account_key': u'939', u'cancel_date': None, u'days_to_cancel': None}\n",
      "{u'status': u'current', u'is_udacity': False, u'is_canceled': False, u'join_date': datetime.datetime(2015, 4, 24, 0, 0), u'account_key': u'11', u'cancel_date': None, u'days_to_cancel': None}\n",
      "{u'status': u'current', u'is_udacity': False, u'is_canceled': False, u'join_date': datetime.datetime(2015, 4, 24, 0, 0), u'account_key': u'262', u'cancel_date': None, u'days_to_cancel': None}\n",
      "{u'status': u'current', u'is_udacity': False, u'is_canceled': False, u'join_date': datetime.datetime(2015, 4, 24, 0, 0), u'account_key': u'167', u'cancel_date': None, u'days_to_cancel': None}\n",
      "{u'status': u'current', u'is_udacity': False, u'is_canceled': False, u'join_date': datetime.datetime(2015, 4, 24, 0, 0), u'account_key': u'302', u'cancel_date': None, u'days_to_cancel': None}\n",
      "{u'status': u'current', u'is_udacity': False, u'is_canceled': False, u'join_date': datetime.datetime(2015, 4, 24, 0, 0), u'account_key': u'551', u'cancel_date': None, u'days_to_cancel': None}\n",
      "{u'status': u'current', u'is_udacity': False, u'is_canceled': False, u'join_date': datetime.datetime(2015, 4, 24, 0, 0), u'account_key': u'609', u'cancel_date': None, u'days_to_cancel': None}\n",
      "{u'status': u'current', u'is_udacity': False, u'is_canceled': False, u'join_date': datetime.datetime(2015, 5, 6, 0, 0), u'account_key': u'109', u'cancel_date': None, u'days_to_cancel': None}\n",
      "{u'status': u'current', u'is_udacity': False, u'is_canceled': False, u'join_date': datetime.datetime(2015, 5, 6, 0, 0), u'account_key': u'211', u'cancel_date': None, u'days_to_cancel': None}\n",
      "{u'status': u'current', u'is_udacity': False, u'is_canceled': False, u'join_date': datetime.datetime(2015, 5, 6, 0, 0), u'account_key': u'274', u'cancel_date': None, u'days_to_cancel': None}\n",
      "{u'status': u'current', u'is_udacity': False, u'is_canceled': False, u'join_date': datetime.datetime(2015, 5, 6, 0, 0), u'account_key': u'360', u'cancel_date': None, u'days_to_cancel': None}\n",
      "{u'status': u'current', u'is_udacity': False, u'is_canceled': False, u'join_date': datetime.datetime(2015, 5, 8, 0, 0), u'account_key': u'540', u'cancel_date': None, u'days_to_cancel': None}\n",
      "{u'status': u'current', u'is_udacity': False, u'is_canceled': False, u'join_date': datetime.datetime(2015, 5, 8, 0, 0), u'account_key': u'1173', u'cancel_date': None, u'days_to_cancel': None}\n",
      "{u'status': u'current', u'is_udacity': False, u'is_canceled': False, u'join_date': datetime.datetime(2015, 5, 8, 0, 0), u'account_key': u'112', u'cancel_date': None, u'days_to_cancel': None}\n",
      "{u'status': u'current', u'is_udacity': False, u'is_canceled': False, u'join_date': datetime.datetime(2015, 5, 9, 0, 0), u'account_key': u'479', u'cancel_date': None, u'days_to_cancel': None}\n",
      "{u'status': u'current', u'is_udacity': False, u'is_canceled': False, u'join_date': datetime.datetime(2015, 5, 10, 0, 0), u'account_key': u'237', u'cancel_date': None, u'days_to_cancel': None}\n",
      "{u'status': u'current', u'is_udacity': False, u'is_canceled': False, u'join_date': datetime.datetime(2015, 5, 10, 0, 0), u'account_key': u'487', u'cancel_date': None, u'days_to_cancel': None}\n",
      "{u'status': u'current', u'is_udacity': False, u'is_canceled': False, u'join_date': datetime.datetime(2015, 5, 10, 0, 0), u'account_key': u'304', u'cancel_date': None, u'days_to_cancel': None}\n",
      "{u'status': u'current', u'is_udacity': False, u'is_canceled': False, u'join_date': datetime.datetime(2015, 5, 10, 0, 0), u'account_key': u'330', u'cancel_date': None, u'days_to_cancel': None}\n",
      "{u'status': u'current', u'is_udacity': False, u'is_canceled': False, u'join_date': datetime.datetime(2015, 5, 11, 0, 0), u'account_key': u'1250', u'cancel_date': None, u'days_to_cancel': None}\n",
      "{u'status': u'current', u'is_udacity': False, u'is_canceled': False, u'join_date': datetime.datetime(2015, 5, 11, 0, 0), u'account_key': u'27', u'cancel_date': None, u'days_to_cancel': None}\n",
      "{u'status': u'current', u'is_udacity': False, u'is_canceled': False, u'join_date': datetime.datetime(2015, 5, 11, 0, 0), u'account_key': u'260', u'cancel_date': None, u'days_to_cancel': None}\n",
      "{u'status': u'current', u'is_udacity': False, u'is_canceled': False, u'join_date': datetime.datetime(2015, 5, 11, 0, 0), u'account_key': u'511', u'cancel_date': None, u'days_to_cancel': None}\n",
      "{u'status': u'current', u'is_udacity': False, u'is_canceled': False, u'join_date': datetime.datetime(2015, 5, 12, 0, 0), u'account_key': u'399', u'cancel_date': None, u'days_to_cancel': None}\n",
      "{u'status': u'current', u'is_udacity': False, u'is_canceled': False, u'join_date': datetime.datetime(2015, 5, 12, 0, 0), u'account_key': u'977', u'cancel_date': None, u'days_to_cancel': None}\n",
      "{u'status': u'current', u'is_udacity': False, u'is_canceled': False, u'join_date': datetime.datetime(2015, 5, 12, 0, 0), u'account_key': u'556', u'cancel_date': None, u'days_to_cancel': None}\n",
      "{u'status': u'current', u'is_udacity': False, u'is_canceled': False, u'join_date': datetime.datetime(2015, 5, 12, 0, 0), u'account_key': u'1265', u'cancel_date': None, u'days_to_cancel': None}\n",
      "{u'status': u'current', u'is_udacity': False, u'is_canceled': False, u'join_date': datetime.datetime(2015, 5, 12, 0, 0), u'account_key': u'252', u'cancel_date': None, u'days_to_cancel': None}\n",
      "{u'status': u'current', u'is_udacity': False, u'is_canceled': False, u'join_date': datetime.datetime(2015, 2, 5, 0, 0), u'account_key': u'100', u'cancel_date': None, u'days_to_cancel': None}\n",
      "{u'status': u'current', u'is_udacity': False, u'is_canceled': False, u'join_date': datetime.datetime(2015, 2, 5, 0, 0), u'account_key': u'313', u'cancel_date': None, u'days_to_cancel': None}\n",
      "{u'status': u'current', u'is_udacity': False, u'is_canceled': False, u'join_date': datetime.datetime(2015, 3, 5, 0, 0), u'account_key': u'615', u'cancel_date': None, u'days_to_cancel': None}\n",
      "{u'status': u'current', u'is_udacity': False, u'is_canceled': False, u'join_date': datetime.datetime(2015, 3, 6, 0, 0), u'account_key': u'372', u'cancel_date': None, u'days_to_cancel': None}\n",
      "{u'status': u'current', u'is_udacity': False, u'is_canceled': False, u'join_date': datetime.datetime(2015, 3, 6, 0, 0), u'account_key': u'614', u'cancel_date': None, u'days_to_cancel': None}\n",
      "{u'status': u'current', u'is_udacity': False, u'is_canceled': False, u'join_date': datetime.datetime(2015, 3, 10, 0, 0), u'account_key': u'652', u'cancel_date': None, u'days_to_cancel': None}\n",
      "{u'status': u'current', u'is_udacity': False, u'is_canceled': False, u'join_date': datetime.datetime(2015, 5, 13, 0, 0), u'account_key': u'1185', u'cancel_date': None, u'days_to_cancel': None}\n",
      "{u'status': u'current', u'is_udacity': False, u'is_canceled': False, u'join_date': datetime.datetime(2015, 5, 13, 0, 0), u'account_key': u'490', u'cancel_date': None, u'days_to_cancel': None}\n",
      "{u'status': u'current', u'is_udacity': False, u'is_canceled': False, u'join_date': datetime.datetime(2015, 5, 13, 0, 0), u'account_key': u'365', u'cancel_date': None, u'days_to_cancel': None}\n",
      "{u'status': u'current', u'is_udacity': False, u'is_canceled': False, u'join_date': datetime.datetime(2015, 5, 29, 0, 0), u'account_key': u'220', u'cancel_date': None, u'days_to_cancel': None}\n",
      "{u'status': u'current', u'is_udacity': False, u'is_canceled': False, u'join_date': datetime.datetime(2015, 5, 31, 0, 0), u'account_key': u'124', u'cancel_date': None, u'days_to_cancel': None}\n",
      "{u'status': u'current', u'is_udacity': False, u'is_canceled': False, u'join_date': datetime.datetime(2015, 6, 3, 0, 0), u'account_key': u'496', u'cancel_date': None, u'days_to_cancel': None}\n",
      "{u'status': u'current', u'is_udacity': False, u'is_canceled': False, u'join_date': datetime.datetime(2015, 6, 4, 0, 0), u'account_key': u'405', u'cancel_date': None, u'days_to_cancel': None}\n",
      "{u'status': u'current', u'is_udacity': False, u'is_canceled': False, u'join_date': datetime.datetime(2015, 6, 4, 0, 0), u'account_key': u'452', u'cancel_date': None, u'days_to_cancel': None}\n",
      "{u'status': u'current', u'is_udacity': False, u'is_canceled': False, u'join_date': datetime.datetime(2015, 6, 5, 0, 0), u'account_key': u'318', u'cancel_date': None, u'days_to_cancel': None}\n",
      "{u'status': u'current', u'is_udacity': False, u'is_canceled': False, u'join_date': datetime.datetime(2015, 6, 6, 0, 0), u'account_key': u'266', u'cancel_date': None, u'days_to_cancel': None}\n",
      "{u'status': u'current', u'is_udacity': False, u'is_canceled': False, u'join_date': datetime.datetime(2015, 6, 6, 0, 0), u'account_key': u'219', u'cancel_date': None, u'days_to_cancel': None}\n",
      "{u'status': u'current', u'is_udacity': False, u'is_canceled': False, u'join_date': datetime.datetime(2015, 6, 6, 0, 0), u'account_key': u'83', u'cancel_date': None, u'days_to_cancel': None}\n",
      "{u'status': u'current', u'is_udacity': False, u'is_canceled': False, u'join_date': datetime.datetime(2015, 6, 7, 0, 0), u'account_key': u'121', u'cancel_date': None, u'days_to_cancel': None}\n",
      "{u'status': u'current', u'is_udacity': False, u'is_canceled': False, u'join_date': datetime.datetime(2015, 6, 8, 0, 0), u'account_key': u'459', u'cancel_date': None, u'days_to_cancel': None}\n",
      "{u'status': u'current', u'is_udacity': False, u'is_canceled': False, u'join_date': datetime.datetime(2015, 6, 8, 0, 0), u'account_key': u'1032', u'cancel_date': None, u'days_to_cancel': None}\n",
      "{u'status': u'current', u'is_udacity': False, u'is_canceled': False, u'join_date': datetime.datetime(2015, 6, 8, 0, 0), u'account_key': u'128', u'cancel_date': None, u'days_to_cancel': None}\n",
      "{u'status': u'current', u'is_udacity': False, u'is_canceled': False, u'join_date': datetime.datetime(2015, 6, 9, 0, 0), u'account_key': u'1031', u'cancel_date': None, u'days_to_cancel': None}\n",
      "{u'status': u'current', u'is_udacity': False, u'is_canceled': False, u'join_date': datetime.datetime(2015, 6, 1, 0, 0), u'account_key': u'673', u'cancel_date': None, u'days_to_cancel': None}\n",
      "{u'status': u'current', u'is_udacity': False, u'is_canceled': False, u'join_date': datetime.datetime(2015, 6, 2, 0, 0), u'account_key': u'843', u'cancel_date': None, u'days_to_cancel': None}\n",
      "{u'status': u'current', u'is_udacity': False, u'is_canceled': False, u'join_date': datetime.datetime(2015, 6, 2, 0, 0), u'account_key': u'216', u'cancel_date': None, u'days_to_cancel': None}\n",
      "{u'status': u'current', u'is_udacity': False, u'is_canceled': False, u'join_date': datetime.datetime(2015, 6, 7, 0, 0), u'account_key': u'554', u'cancel_date': None, u'days_to_cancel': None}\n",
      "{u'status': u'current', u'is_udacity': False, u'is_canceled': False, u'join_date': datetime.datetime(2015, 6, 8, 0, 0), u'account_key': u'133', u'cancel_date': None, u'days_to_cancel': None}\n",
      "{u'status': u'current', u'is_udacity': False, u'is_canceled': False, u'join_date': datetime.datetime(2015, 6, 8, 0, 0), u'account_key': u'887', u'cancel_date': None, u'days_to_cancel': None}\n",
      "{u'status': u'current', u'is_udacity': False, u'is_canceled': False, u'join_date': datetime.datetime(2015, 6, 9, 0, 0), u'account_key': u'248', u'cancel_date': None, u'days_to_cancel': None}\n",
      "{u'status': u'current', u'is_udacity': False, u'is_canceled': False, u'join_date': datetime.datetime(2015, 6, 9, 0, 0), u'account_key': u'629', u'cancel_date': None, u'days_to_cancel': None}\n",
      "{u'status': u'current', u'is_udacity': False, u'is_canceled': False, u'join_date': datetime.datetime(2015, 6, 9, 0, 0), u'account_key': u'478', u'cancel_date': None, u'days_to_cancel': None}\n",
      "{u'status': u'current', u'is_udacity': False, u'is_canceled': False, u'join_date': datetime.datetime(2015, 7, 15, 0, 0), u'account_key': u'1096', u'cancel_date': None, u'days_to_cancel': None}\n",
      "{u'status': u'current', u'is_udacity': False, u'is_canceled': False, u'join_date': datetime.datetime(2015, 7, 9, 0, 0), u'account_key': u'163', u'cancel_date': None, u'days_to_cancel': None}\n",
      "{u'status': u'current', u'is_udacity': False, u'is_canceled': False, u'join_date': datetime.datetime(2015, 2, 6, 0, 0), u'account_key': u'605', u'cancel_date': None, u'days_to_cancel': None}\n",
      "{u'status': u'current', u'is_udacity': False, u'is_canceled': False, u'join_date': datetime.datetime(2015, 2, 9, 0, 0), u'account_key': u'381', u'cancel_date': None, u'days_to_cancel': None}\n",
      "{u'status': u'current', u'is_udacity': False, u'is_canceled': False, u'join_date': datetime.datetime(2015, 2, 11, 0, 0), u'account_key': u'26', u'cancel_date': None, u'days_to_cancel': None}\n",
      "{u'status': u'current', u'is_udacity': False, u'is_canceled': False, u'join_date': datetime.datetime(2015, 3, 4, 0, 0), u'account_key': u'508', u'cancel_date': None, u'days_to_cancel': None}\n",
      "{u'status': u'current', u'is_udacity': False, u'is_canceled': False, u'join_date': datetime.datetime(2015, 3, 5, 0, 0), u'account_key': u'509', u'cancel_date': None, u'days_to_cancel': None}\n",
      "{u'status': u'current', u'is_udacity': False, u'is_canceled': False, u'join_date': datetime.datetime(2015, 3, 9, 0, 0), u'account_key': u'432', u'cancel_date': None, u'days_to_cancel': None}\n",
      "{u'status': u'current', u'is_udacity': False, u'is_canceled': False, u'join_date': datetime.datetime(2015, 3, 9, 0, 0), u'account_key': u'375', u'cancel_date': None, u'days_to_cancel': None}\n",
      "{u'status': u'current', u'is_udacity': False, u'is_canceled': False, u'join_date': datetime.datetime(2015, 4, 1, 0, 0), u'account_key': u'183', u'cancel_date': None, u'days_to_cancel': None}\n",
      "{u'status': u'current', u'is_udacity': False, u'is_canceled': False, u'join_date': datetime.datetime(2015, 4, 1, 0, 0), u'account_key': u'400', u'cancel_date': None, u'days_to_cancel': None}\n",
      "{u'status': u'current', u'is_udacity': False, u'is_canceled': False, u'join_date': datetime.datetime(2015, 4, 1, 0, 0), u'account_key': u'585', u'cancel_date': None, u'days_to_cancel': None}\n",
      "{u'status': u'current', u'is_udacity': False, u'is_canceled': False, u'join_date': datetime.datetime(2015, 4, 1, 0, 0), u'account_key': u'13', u'cancel_date': None, u'days_to_cancel': None}\n",
      "{u'status': u'current', u'is_udacity': False, u'is_canceled': False, u'join_date': datetime.datetime(2015, 4, 1, 0, 0), u'account_key': u'205', u'cancel_date': None, u'days_to_cancel': None}\n",
      "{u'status': u'current', u'is_udacity': False, u'is_canceled': False, u'join_date': datetime.datetime(2015, 4, 2, 0, 0), u'account_key': u'593', u'cancel_date': None, u'days_to_cancel': None}\n",
      "{u'status': u'current', u'is_udacity': False, u'is_canceled': False, u'join_date': datetime.datetime(2015, 4, 2, 0, 0), u'account_key': u'437', u'cancel_date': None, u'days_to_cancel': None}\n",
      "{u'status': u'current', u'is_udacity': False, u'is_canceled': False, u'join_date': datetime.datetime(2015, 4, 2, 0, 0), u'account_key': u'468', u'cancel_date': None, u'days_to_cancel': None}\n",
      "{u'status': u'current', u'is_udacity': False, u'is_canceled': False, u'join_date': datetime.datetime(2015, 4, 3, 0, 0), u'account_key': u'22', u'cancel_date': None, u'days_to_cancel': None}\n",
      "{u'status': u'current', u'is_udacity': False, u'is_canceled': False, u'join_date': datetime.datetime(2015, 4, 3, 0, 0), u'account_key': u'449', u'cancel_date': None, u'days_to_cancel': None}\n",
      "{u'status': u'current', u'is_udacity': False, u'is_canceled': False, u'join_date': datetime.datetime(2015, 4, 3, 0, 0), u'account_key': u'482', u'cancel_date': None, u'days_to_cancel': None}\n",
      "{u'status': u'current', u'is_udacity': False, u'is_canceled': False, u'join_date': datetime.datetime(2015, 4, 3, 0, 0), u'account_key': u'349', u'cancel_date': None, u'days_to_cancel': None}\n",
      "{u'status': u'current', u'is_udacity': False, u'is_canceled': False, u'join_date': datetime.datetime(2015, 4, 10, 0, 0), u'account_key': u'104', u'cancel_date': None, u'days_to_cancel': None}\n",
      "{u'status': u'current', u'is_udacity': False, u'is_canceled': False, u'join_date': datetime.datetime(2015, 7, 8, 0, 0), u'account_key': u'286', u'cancel_date': None, u'days_to_cancel': None}\n",
      "{u'status': u'current', u'is_udacity': False, u'is_canceled': False, u'join_date': datetime.datetime(2015, 7, 9, 0, 0), u'account_key': u'812', u'cancel_date': None, u'days_to_cancel': None}\n",
      "{u'status': u'current', u'is_udacity': False, u'is_canceled': False, u'join_date': datetime.datetime(2015, 7, 9, 0, 0), u'account_key': u'462', u'cancel_date': None, u'days_to_cancel': None}\n",
      "{u'status': u'current', u'is_udacity': False, u'is_canceled': False, u'join_date': datetime.datetime(2015, 7, 9, 0, 0), u'account_key': u'1001', u'cancel_date': None, u'days_to_cancel': None}\n",
      "{u'status': u'current', u'is_udacity': False, u'is_canceled': False, u'join_date': datetime.datetime(2015, 7, 14, 0, 0), u'account_key': u'213', u'cancel_date': None, u'days_to_cancel': None}\n",
      "{u'status': u'current', u'is_udacity': False, u'is_canceled': False, u'join_date': datetime.datetime(2015, 7, 15, 0, 0), u'account_key': u'359', u'cancel_date': None, u'days_to_cancel': None}\n",
      "{u'status': u'current', u'is_udacity': False, u'is_canceled': False, u'join_date': datetime.datetime(2015, 7, 17, 0, 0), u'account_key': u'21', u'cancel_date': None, u'days_to_cancel': None}\n",
      "{u'status': u'current', u'is_udacity': False, u'is_canceled': False, u'join_date': datetime.datetime(2015, 7, 17, 0, 0), u'account_key': u'633', u'cancel_date': None, u'days_to_cancel': None}\n",
      "{u'status': u'current', u'is_udacity': False, u'is_canceled': False, u'join_date': datetime.datetime(2015, 7, 18, 0, 0), u'account_key': u'1014', u'cancel_date': None, u'days_to_cancel': None}\n",
      "{u'status': u'current', u'is_udacity': False, u'is_canceled': False, u'join_date': datetime.datetime(2015, 7, 15, 0, 0), u'account_key': u'40', u'cancel_date': None, u'days_to_cancel': None}\n",
      "{u'status': u'current', u'is_udacity': False, u'is_canceled': False, u'join_date': datetime.datetime(2015, 7, 16, 0, 0), u'account_key': u'1216', u'cancel_date': None, u'days_to_cancel': None}\n",
      "{u'status': u'current', u'is_udacity': False, u'is_canceled': False, u'join_date': datetime.datetime(2015, 7, 16, 0, 0), u'account_key': u'1131', u'cancel_date': None, u'days_to_cancel': None}\n",
      "{u'status': u'current', u'is_udacity': False, u'is_canceled': False, u'join_date': datetime.datetime(2015, 7, 16, 0, 0), u'account_key': u'1150', u'cancel_date': None, u'days_to_cancel': None}\n",
      "{u'status': u'current', u'is_udacity': False, u'is_canceled': False, u'join_date': datetime.datetime(2015, 7, 16, 0, 0), u'account_key': u'403', u'cancel_date': None, u'days_to_cancel': None}\n",
      "{u'status': u'current', u'is_udacity': False, u'is_canceled': False, u'join_date': datetime.datetime(2015, 7, 17, 0, 0), u'account_key': u'773', u'cancel_date': None, u'days_to_cancel': None}\n",
      "{u'status': u'current', u'is_udacity': False, u'is_canceled': False, u'join_date': datetime.datetime(2015, 3, 10, 0, 0), u'account_key': u'305', u'cancel_date': None, u'days_to_cancel': None}\n",
      "{u'status': u'current', u'is_udacity': False, u'is_canceled': False, u'join_date': datetime.datetime(2015, 3, 10, 0, 0), u'account_key': u'485', u'cancel_date': None, u'days_to_cancel': None}\n",
      "{u'status': u'current', u'is_udacity': False, u'is_canceled': False, u'join_date': datetime.datetime(2015, 4, 1, 0, 0), u'account_key': u'464', u'cancel_date': None, u'days_to_cancel': None}\n",
      "{u'status': u'current', u'is_udacity': False, u'is_canceled': False, u'join_date': datetime.datetime(2015, 4, 1, 0, 0), u'account_key': u'340', u'cancel_date': None, u'days_to_cancel': None}\n",
      "{u'status': u'current', u'is_udacity': False, u'is_canceled': False, u'join_date': datetime.datetime(2015, 4, 1, 0, 0), u'account_key': u'75', u'cancel_date': None, u'days_to_cancel': None}\n",
      "{u'status': u'current', u'is_udacity': False, u'is_canceled': False, u'join_date': datetime.datetime(2015, 4, 2, 0, 0), u'account_key': u'1072', u'cancel_date': None, u'days_to_cancel': None}\n",
      "{u'status': u'current', u'is_udacity': False, u'is_canceled': False, u'join_date': datetime.datetime(2015, 4, 2, 0, 0), u'account_key': u'588', u'cancel_date': None, u'days_to_cancel': None}\n",
      "{u'status': u'current', u'is_udacity': False, u'is_canceled': False, u'join_date': datetime.datetime(2015, 4, 2, 0, 0), u'account_key': u'291', u'cancel_date': None, u'days_to_cancel': None}\n",
      "{u'status': u'current', u'is_udacity': False, u'is_canceled': False, u'join_date': datetime.datetime(2015, 4, 24, 0, 0), u'account_key': u'536', u'cancel_date': None, u'days_to_cancel': None}\n",
      "{u'status': u'current', u'is_udacity': False, u'is_canceled': False, u'join_date': datetime.datetime(2015, 4, 24, 0, 0), u'account_key': u'107', u'cancel_date': None, u'days_to_cancel': None}\n",
      "{u'status': u'current', u'is_udacity': False, u'is_canceled': False, u'join_date': datetime.datetime(2015, 4, 24, 0, 0), u'account_key': u'353', u'cancel_date': None, u'days_to_cancel': None}\n",
      "{u'status': u'current', u'is_udacity': False, u'is_canceled': False, u'join_date': datetime.datetime(2015, 4, 24, 0, 0), u'account_key': u'146', u'cancel_date': None, u'days_to_cancel': None}\n",
      "{u'status': u'current', u'is_udacity': False, u'is_canceled': False, u'join_date': datetime.datetime(2015, 5, 6, 0, 0), u'account_key': u'466', u'cancel_date': None, u'days_to_cancel': None}\n",
      "{u'status': u'current', u'is_udacity': False, u'is_canceled': False, u'join_date': datetime.datetime(2015, 5, 7, 0, 0), u'account_key': u'484', u'cancel_date': None, u'days_to_cancel': None}\n",
      "{u'status': u'current', u'is_udacity': False, u'is_canceled': False, u'join_date': datetime.datetime(2015, 5, 9, 0, 0), u'account_key': u'192', u'cancel_date': None, u'days_to_cancel': None}\n",
      "{u'status': u'current', u'is_udacity': False, u'is_canceled': False, u'join_date': datetime.datetime(2015, 5, 11, 0, 0), u'account_key': u'398', u'cancel_date': None, u'days_to_cancel': None}\n",
      "{u'status': u'current', u'is_udacity': False, u'is_canceled': False, u'join_date': datetime.datetime(2015, 5, 11, 0, 0), u'account_key': u'20', u'cancel_date': None, u'days_to_cancel': None}\n",
      "{u'status': u'current', u'is_udacity': False, u'is_canceled': False, u'join_date': datetime.datetime(2015, 5, 12, 0, 0), u'account_key': u'200', u'cancel_date': None, u'days_to_cancel': None}\n",
      "{u'status': u'current', u'is_udacity': False, u'is_canceled': False, u'join_date': datetime.datetime(2015, 5, 12, 0, 0), u'account_key': u'665', u'cancel_date': None, u'days_to_cancel': None}\n",
      "{u'status': u'current', u'is_udacity': False, u'is_canceled': False, u'join_date': datetime.datetime(2015, 8, 16, 0, 0), u'account_key': u'1263', u'cancel_date': None, u'days_to_cancel': None}\n",
      "{u'status': u'current', u'is_udacity': False, u'is_canceled': False, u'join_date': datetime.datetime(2015, 8, 18, 0, 0), u'account_key': u'1136', u'cancel_date': None, u'days_to_cancel': None}\n",
      "{u'status': u'current', u'is_udacity': False, u'is_canceled': False, u'join_date': datetime.datetime(2015, 8, 18, 0, 0), u'account_key': u'1144', u'cancel_date': None, u'days_to_cancel': None}\n",
      "{u'status': u'current', u'is_udacity': False, u'is_canceled': False, u'join_date': datetime.datetime(2015, 8, 19, 0, 0), u'account_key': u'142', u'cancel_date': None, u'days_to_cancel': None}\n",
      "{u'status': u'current', u'is_udacity': False, u'is_canceled': False, u'join_date': datetime.datetime(2015, 8, 19, 0, 0), u'account_key': u'1228', u'cancel_date': None, u'days_to_cancel': None}\n",
      "{u'status': u'current', u'is_udacity': False, u'is_canceled': False, u'join_date': datetime.datetime(2015, 8, 21, 0, 0), u'account_key': u'967', u'cancel_date': None, u'days_to_cancel': None}\n",
      "{u'status': u'current', u'is_udacity': False, u'is_canceled': False, u'join_date': datetime.datetime(2015, 8, 21, 0, 0), u'account_key': u'754', u'cancel_date': None, u'days_to_cancel': None}\n",
      "{u'status': u'current', u'is_udacity': False, u'is_canceled': False, u'join_date': datetime.datetime(2015, 8, 22, 0, 0), u'account_key': u'851', u'cancel_date': None, u'days_to_cancel': None}\n",
      "{u'status': u'current', u'is_udacity': False, u'is_canceled': False, u'join_date': datetime.datetime(2015, 8, 23, 0, 0), u'account_key': u'990', u'cancel_date': None, u'days_to_cancel': None}\n",
      "{u'status': u'current', u'is_udacity': False, u'is_canceled': False, u'join_date': datetime.datetime(2015, 7, 19, 0, 0), u'account_key': u'950', u'cancel_date': None, u'days_to_cancel': None}\n",
      "{u'status': u'current', u'is_udacity': False, u'is_canceled': False, u'join_date': datetime.datetime(2015, 7, 20, 0, 0), u'account_key': u'1087', u'cancel_date': None, u'days_to_cancel': None}\n",
      "{u'status': u'current', u'is_udacity': False, u'is_canceled': False, u'join_date': datetime.datetime(2015, 8, 13, 0, 0), u'account_key': u'940', u'cancel_date': None, u'days_to_cancel': None}\n",
      "{u'status': u'current', u'is_udacity': False, u'is_canceled': False, u'join_date': datetime.datetime(2015, 8, 15, 0, 0), u'account_key': u'986', u'cancel_date': None, u'days_to_cancel': None}\n",
      "{u'status': u'current', u'is_udacity': False, u'is_canceled': False, u'join_date': datetime.datetime(2015, 8, 17, 0, 0), u'account_key': u'784', u'cancel_date': None, u'days_to_cancel': None}\n",
      "{u'status': u'current', u'is_udacity': False, u'is_canceled': False, u'join_date': datetime.datetime(2015, 8, 18, 0, 0), u'account_key': u'893', u'cancel_date': None, u'days_to_cancel': None}\n",
      "{u'status': u'current', u'is_udacity': False, u'is_canceled': False, u'join_date': datetime.datetime(2015, 8, 21, 0, 0), u'account_key': u'840', u'cancel_date': None, u'days_to_cancel': None}\n",
      "{u'status': u'current', u'is_udacity': False, u'is_canceled': False, u'join_date': datetime.datetime(2015, 8, 23, 0, 0), u'account_key': u'975', u'cancel_date': None, u'days_to_cancel': None}\n",
      "{u'status': u'current', u'is_udacity': False, u'is_canceled': False, u'join_date': datetime.datetime(2015, 4, 7, 0, 0), u'account_key': u'632', u'cancel_date': None, u'days_to_cancel': None}\n",
      "{u'status': u'current', u'is_udacity': False, u'is_canceled': False, u'join_date': datetime.datetime(2015, 4, 8, 0, 0), u'account_key': u'117', u'cancel_date': None, u'days_to_cancel': None}\n",
      "{u'status': u'current', u'is_udacity': False, u'is_canceled': False, u'join_date': datetime.datetime(2015, 4, 24, 0, 0), u'account_key': u'94', u'cancel_date': None, u'days_to_cancel': None}\n",
      "{u'status': u'current', u'is_udacity': False, u'is_canceled': False, u'join_date': datetime.datetime(2015, 4, 24, 0, 0), u'account_key': u'299', u'cancel_date': None, u'days_to_cancel': None}\n",
      "{u'status': u'current', u'is_udacity': False, u'is_canceled': False, u'join_date': datetime.datetime(2015, 4, 24, 0, 0), u'account_key': u'574', u'cancel_date': None, u'days_to_cancel': None}\n",
      "{u'status': u'current', u'is_udacity': False, u'is_canceled': False, u'join_date': datetime.datetime(2015, 4, 24, 0, 0), u'account_key': u'212', u'cancel_date': None, u'days_to_cancel': None}\n",
      "{u'status': u'current', u'is_udacity': False, u'is_canceled': False, u'join_date': datetime.datetime(2015, 4, 24, 0, 0), u'account_key': u'401', u'cancel_date': None, u'days_to_cancel': None}\n",
      "{u'status': u'current', u'is_udacity': False, u'is_canceled': False, u'join_date': datetime.datetime(2015, 4, 24, 0, 0), u'account_key': u'387', u'cancel_date': None, u'days_to_cancel': None}\n",
      "{u'status': u'current', u'is_udacity': False, u'is_canceled': False, u'join_date': datetime.datetime(2015, 5, 6, 0, 0), u'account_key': u'1113', u'cancel_date': None, u'days_to_cancel': None}\n",
      "{u'status': u'current', u'is_udacity': False, u'is_canceled': False, u'join_date': datetime.datetime(2015, 5, 6, 0, 0), u'account_key': u'382', u'cancel_date': None, u'days_to_cancel': None}\n",
      "{u'status': u'current', u'is_udacity': False, u'is_canceled': False, u'join_date': datetime.datetime(2015, 5, 6, 0, 0), u'account_key': u'8', u'cancel_date': None, u'days_to_cancel': None}\n",
      "{u'status': u'current', u'is_udacity': False, u'is_canceled': False, u'join_date': datetime.datetime(2015, 5, 6, 0, 0), u'account_key': u'1', u'cancel_date': None, u'days_to_cancel': None}\n",
      "{u'status': u'current', u'is_udacity': False, u'is_canceled': False, u'join_date': datetime.datetime(2015, 5, 12, 0, 0), u'account_key': u'184', u'cancel_date': None, u'days_to_cancel': None}\n",
      "{u'status': u'current', u'is_udacity': False, u'is_canceled': False, u'join_date': datetime.datetime(2015, 5, 12, 0, 0), u'account_key': u'61', u'cancel_date': None, u'days_to_cancel': None}\n",
      "{u'status': u'current', u'is_udacity': False, u'is_canceled': False, u'join_date': datetime.datetime(2015, 5, 12, 0, 0), u'account_key': u'596', u'cancel_date': None, u'days_to_cancel': None}\n",
      "{u'status': u'current', u'is_udacity': False, u'is_canceled': False, u'join_date': datetime.datetime(2015, 5, 12, 0, 0), u'account_key': u'7', u'cancel_date': None, u'days_to_cancel': None}\n",
      "{u'status': u'current', u'is_udacity': False, u'is_canceled': False, u'join_date': datetime.datetime(2015, 5, 13, 0, 0), u'account_key': u'41', u'cancel_date': None, u'days_to_cancel': None}\n",
      "{u'status': u'current', u'is_udacity': False, u'is_canceled': False, u'join_date': datetime.datetime(2015, 5, 28, 0, 0), u'account_key': u'513', u'cancel_date': None, u'days_to_cancel': None}\n",
      "{u'status': u'current', u'is_udacity': False, u'is_canceled': False, u'join_date': datetime.datetime(2015, 5, 28, 0, 0), u'account_key': u'545', u'cancel_date': None, u'days_to_cancel': None}\n",
      "{u'status': u'current', u'is_udacity': False, u'is_canceled': False, u'join_date': datetime.datetime(2015, 5, 28, 0, 0), u'account_key': u'572', u'cancel_date': None, u'days_to_cancel': None}\n",
      "{u'status': u'current', u'is_udacity': False, u'is_canceled': False, u'join_date': datetime.datetime(2015, 5, 30, 0, 0), u'account_key': u'199', u'cancel_date': None, u'days_to_cancel': None}\n",
      "{u'status': u'current', u'is_udacity': False, u'is_canceled': False, u'join_date': datetime.datetime(2015, 6, 3, 0, 0), u'account_key': u'14', u'cancel_date': None, u'days_to_cancel': None}\n",
      "{u'status': u'current', u'is_udacity': False, u'is_canceled': False, u'join_date': datetime.datetime(2015, 6, 4, 0, 0), u'account_key': u'646', u'cancel_date': None, u'days_to_cancel': None}\n",
      "{u'status': u'current', u'is_udacity': False, u'is_canceled': False, u'join_date': datetime.datetime(2015, 6, 5, 0, 0), u'account_key': u'6', u'cancel_date': None, u'days_to_cancel': None}\n",
      "{u'status': u'current', u'is_udacity': False, u'is_canceled': False, u'join_date': datetime.datetime(2015, 6, 6, 0, 0), u'account_key': u'619', u'cancel_date': None, u'days_to_cancel': None}\n",
      "{u'status': u'current', u'is_udacity': False, u'is_canceled': False, u'join_date': datetime.datetime(2015, 6, 7, 0, 0), u'account_key': u'456', u'cancel_date': None, u'days_to_cancel': None}\n",
      "{u'status': u'current', u'is_udacity': False, u'is_canceled': False, u'join_date': datetime.datetime(2015, 6, 7, 0, 0), u'account_key': u'80', u'cancel_date': None, u'days_to_cancel': None}\n",
      "{u'status': u'current', u'is_udacity': False, u'is_canceled': False, u'join_date': datetime.datetime(2015, 5, 6, 0, 0), u'account_key': u'116', u'cancel_date': None, u'days_to_cancel': None}\n",
      "{u'status': u'current', u'is_udacity': False, u'is_canceled': False, u'join_date': datetime.datetime(2015, 5, 7, 0, 0), u'account_key': u'89', u'cancel_date': None, u'days_to_cancel': None}\n",
      "{u'status': u'current', u'is_udacity': False, u'is_canceled': False, u'join_date': datetime.datetime(2015, 5, 7, 0, 0), u'account_key': u'471', u'cancel_date': None, u'days_to_cancel': None}\n",
      "{u'status': u'current', u'is_udacity': False, u'is_canceled': False, u'join_date': datetime.datetime(2015, 5, 7, 0, 0), u'account_key': u'1002', u'cancel_date': None, u'days_to_cancel': None}\n",
      "{u'status': u'current', u'is_udacity': False, u'is_canceled': False, u'join_date': datetime.datetime(2015, 5, 9, 0, 0), u'account_key': u'154', u'cancel_date': None, u'days_to_cancel': None}\n",
      "{u'status': u'current', u'is_udacity': False, u'is_canceled': False, u'join_date': datetime.datetime(2015, 5, 9, 0, 0), u'account_key': u'58', u'cancel_date': None, u'days_to_cancel': None}\n",
      "{u'status': u'current', u'is_udacity': False, u'is_canceled': False, u'join_date': datetime.datetime(2015, 5, 10, 0, 0), u'account_key': u'406', u'cancel_date': None, u'days_to_cancel': None}\n",
      "{u'status': u'current', u'is_udacity': False, u'is_canceled': False, u'join_date': datetime.datetime(2015, 5, 10, 0, 0), u'account_key': u'1282', u'cancel_date': None, u'days_to_cancel': None}\n",
      "{u'status': u'current', u'is_udacity': False, u'is_canceled': False, u'join_date': datetime.datetime(2015, 5, 11, 0, 0), u'account_key': u'162', u'cancel_date': None, u'days_to_cancel': None}\n",
      "{u'status': u'current', u'is_udacity': False, u'is_canceled': False, u'join_date': datetime.datetime(2015, 5, 11, 0, 0), u'account_key': u'242', u'cancel_date': None, u'days_to_cancel': None}\n",
      "{u'status': u'current', u'is_udacity': False, u'is_canceled': False, u'join_date': datetime.datetime(2015, 5, 11, 0, 0), u'account_key': u'235', u'cancel_date': None, u'days_to_cancel': None}\n",
      "{u'status': u'current', u'is_udacity': False, u'is_canceled': False, u'join_date': datetime.datetime(2015, 5, 11, 0, 0), u'account_key': u'928', u'cancel_date': None, u'days_to_cancel': None}\n",
      "{u'status': u'current', u'is_udacity': False, u'is_canceled': False, u'join_date': datetime.datetime(2015, 5, 11, 0, 0), u'account_key': u'1151', u'cancel_date': None, u'days_to_cancel': None}\n",
      "{u'status': u'current', u'is_udacity': False, u'is_canceled': False, u'join_date': datetime.datetime(2015, 5, 12, 0, 0), u'account_key': u'249', u'cancel_date': None, u'days_to_cancel': None}\n",
      "{u'status': u'current', u'is_udacity': False, u'is_canceled': False, u'join_date': datetime.datetime(2015, 5, 12, 0, 0), u'account_key': u'621', u'cancel_date': None, u'days_to_cancel': None}\n",
      "{u'status': u'current', u'is_udacity': False, u'is_canceled': False, u'join_date': datetime.datetime(2015, 5, 12, 0, 0), u'account_key': u'656', u'cancel_date': None, u'days_to_cancel': None}\n",
      "{u'status': u'current', u'is_udacity': False, u'is_canceled': False, u'join_date': datetime.datetime(2015, 5, 12, 0, 0), u'account_key': u'497', u'cancel_date': None, u'days_to_cancel': None}\n",
      "{u'status': u'current', u'is_udacity': False, u'is_canceled': False, u'join_date': datetime.datetime(2015, 5, 28, 0, 0), u'account_key': u'73', u'cancel_date': None, u'days_to_cancel': None}\n",
      "{u'status': u'current', u'is_udacity': False, u'is_canceled': False, u'join_date': datetime.datetime(2015, 5, 30, 0, 0), u'account_key': u'290', u'cancel_date': None, u'days_to_cancel': None}\n",
      "{u'status': u'current', u'is_udacity': False, u'is_canceled': False, u'join_date': datetime.datetime(2015, 6, 2, 0, 0), u'account_key': u'1290', u'cancel_date': None, u'days_to_cancel': None}\n",
      "{u'status': u'current', u'is_udacity': False, u'is_canceled': False, u'join_date': datetime.datetime(2015, 6, 4, 0, 0), u'account_key': u'294', u'cancel_date': None, u'days_to_cancel': None}\n",
      "{u'status': u'current', u'is_udacity': False, u'is_canceled': False, u'join_date': datetime.datetime(2015, 6, 7, 0, 0), u'account_key': u'573', u'cancel_date': None, u'days_to_cancel': None}\n",
      "{u'status': u'current', u'is_udacity': False, u'is_canceled': False, u'join_date': datetime.datetime(2015, 6, 8, 0, 0), u'account_key': u'1081', u'cancel_date': None, u'days_to_cancel': None}\n",
      "{u'status': u'current', u'is_udacity': False, u'is_canceled': False, u'join_date': datetime.datetime(2015, 6, 9, 0, 0), u'account_key': u'1036', u'cancel_date': None, u'days_to_cancel': None}\n",
      "{u'status': u'current', u'is_udacity': False, u'is_canceled': False, u'join_date': datetime.datetime(2015, 7, 8, 0, 0), u'account_key': u'271', u'cancel_date': None, u'days_to_cancel': None}\n",
      "{u'status': u'current', u'is_udacity': False, u'is_canceled': False, u'join_date': datetime.datetime(2015, 7, 9, 0, 0), u'account_key': u'317', u'cancel_date': None, u'days_to_cancel': None}\n",
      "{u'status': u'current', u'is_udacity': False, u'is_canceled': False, u'join_date': datetime.datetime(2015, 7, 9, 0, 0), u'account_key': u'1257', u'cancel_date': None, u'days_to_cancel': None}\n",
      "{u'status': u'current', u'is_udacity': False, u'is_canceled': False, u'join_date': datetime.datetime(2015, 7, 9, 0, 0), u'account_key': u'326', u'cancel_date': None, u'days_to_cancel': None}\n",
      "{u'status': u'current', u'is_udacity': False, u'is_canceled': False, u'join_date': datetime.datetime(2015, 6, 8, 0, 0), u'account_key': u'748', u'cancel_date': None, u'days_to_cancel': None}\n",
      "{u'status': u'current', u'is_udacity': False, u'is_canceled': False, u'join_date': datetime.datetime(2015, 6, 8, 0, 0), u'account_key': u'296', u'cancel_date': None, u'days_to_cancel': None}\n",
      "{u'status': u'current', u'is_udacity': False, u'is_canceled': False, u'join_date': datetime.datetime(2015, 6, 9, 0, 0), u'account_key': u'628', u'cancel_date': None, u'days_to_cancel': None}\n",
      "{u'status': u'current', u'is_udacity': False, u'is_canceled': False, u'join_date': datetime.datetime(2015, 6, 9, 0, 0), u'account_key': u'1262', u'cancel_date': None, u'days_to_cancel': None}\n",
      "{u'status': u'current', u'is_udacity': False, u'is_canceled': False, u'join_date': datetime.datetime(2015, 7, 8, 0, 0), u'account_key': u'531', u'cancel_date': None, u'days_to_cancel': None}\n",
      "{u'status': u'current', u'is_udacity': False, u'is_canceled': False, u'join_date': datetime.datetime(2015, 7, 9, 0, 0), u'account_key': u'1209', u'cancel_date': None, u'days_to_cancel': None}\n",
      "{u'status': u'current', u'is_udacity': False, u'is_canceled': False, u'join_date': datetime.datetime(2015, 7, 9, 0, 0), u'account_key': u'498', u'cancel_date': None, u'days_to_cancel': None}\n",
      "{u'status': u'current', u'is_udacity': False, u'is_canceled': False, u'join_date': datetime.datetime(2015, 7, 10, 0, 0), u'account_key': u'430', u'cancel_date': None, u'days_to_cancel': None}\n",
      "{u'status': u'current', u'is_udacity': False, u'is_canceled': False, u'join_date': datetime.datetime(2015, 7, 10, 0, 0), u'account_key': u'694', u'cancel_date': None, u'days_to_cancel': None}\n",
      "{u'status': u'current', u'is_udacity': False, u'is_canceled': False, u'join_date': datetime.datetime(2015, 7, 13, 0, 0), u'account_key': u'238', u'cancel_date': None, u'days_to_cancel': None}\n",
      "{u'status': u'current', u'is_udacity': False, u'is_canceled': False, u'join_date': datetime.datetime(2015, 7, 16, 0, 0), u'account_key': u'48', u'cancel_date': None, u'days_to_cancel': None}\n",
      "{u'status': u'current', u'is_udacity': False, u'is_canceled': False, u'join_date': datetime.datetime(2015, 7, 16, 0, 0), u'account_key': u'47', u'cancel_date': None, u'days_to_cancel': None}\n",
      "{u'status': u'current', u'is_udacity': False, u'is_canceled': False, u'join_date': datetime.datetime(2015, 7, 16, 0, 0), u'account_key': u'29', u'cancel_date': None, u'days_to_cancel': None}\n",
      "{u'status': u'current', u'is_udacity': False, u'is_canceled': False, u'join_date': datetime.datetime(2015, 7, 16, 0, 0), u'account_key': u'885', u'cancel_date': None, u'days_to_cancel': None}\n",
      "{u'status': u'current', u'is_udacity': False, u'is_canceled': False, u'join_date': datetime.datetime(2015, 7, 16, 0, 0), u'account_key': u'164', u'cancel_date': None, u'days_to_cancel': None}\n",
      "{u'status': u'current', u'is_udacity': False, u'is_canceled': False, u'join_date': datetime.datetime(2015, 7, 17, 0, 0), u'account_key': u'1080', u'cancel_date': None, u'days_to_cancel': None}\n",
      "{u'status': u'current', u'is_udacity': False, u'is_canceled': False, u'join_date': datetime.datetime(2015, 3, 10, 0, 0), u'account_key': u'402', u'cancel_date': None, u'days_to_cancel': None}\n",
      "{u'status': u'current', u'is_udacity': False, u'is_canceled': False, u'join_date': datetime.datetime(2015, 1, 12, 0, 0), u'account_key': u'87', u'cancel_date': None, u'days_to_cancel': None}\n",
      "{u'status': u'current', u'is_udacity': False, u'is_canceled': False, u'join_date': datetime.datetime(2015, 7, 17, 0, 0), u'account_key': u'782', u'cancel_date': None, u'days_to_cancel': None}\n",
      "{u'status': u'current', u'is_udacity': False, u'is_canceled': False, u'join_date': datetime.datetime(2015, 7, 17, 0, 0), u'account_key': u'979', u'cancel_date': None, u'days_to_cancel': None}\n",
      "{u'status': u'current', u'is_udacity': False, u'is_canceled': False, u'join_date': datetime.datetime(2015, 7, 18, 0, 0), u'account_key': u'1302', u'cancel_date': None, u'days_to_cancel': None}\n",
      "{u'status': u'current', u'is_udacity': False, u'is_canceled': False, u'join_date': datetime.datetime(2015, 7, 20, 0, 0), u'account_key': u'687', u'cancel_date': None, u'days_to_cancel': None}\n",
      "{u'status': u'current', u'is_udacity': False, u'is_canceled': False, u'join_date': datetime.datetime(2015, 8, 11, 0, 0), u'account_key': u'924', u'cancel_date': None, u'days_to_cancel': None}\n",
      "{u'status': u'current', u'is_udacity': False, u'is_canceled': False, u'join_date': datetime.datetime(2015, 8, 11, 0, 0), u'account_key': u'946', u'cancel_date': None, u'days_to_cancel': None}\n",
      "{u'status': u'current', u'is_udacity': False, u'is_canceled': False, u'join_date': datetime.datetime(2015, 8, 11, 0, 0), u'account_key': u'805', u'cancel_date': None, u'days_to_cancel': None}\n",
      "{u'status': u'current', u'is_udacity': False, u'is_canceled': False, u'join_date': datetime.datetime(2015, 8, 14, 0, 0), u'account_key': u'552', u'cancel_date': None, u'days_to_cancel': None}\n",
      "{u'status': u'current', u'is_udacity': False, u'is_canceled': False, u'join_date': datetime.datetime(2015, 8, 21, 0, 0), u'account_key': u'1028', u'cancel_date': None, u'days_to_cancel': None}\n",
      "{u'status': u'current', u'is_udacity': False, u'is_canceled': False, u'join_date': datetime.datetime(2015, 7, 17, 0, 0), u'account_key': u'122', u'cancel_date': None, u'days_to_cancel': None}\n",
      "{u'status': u'current', u'is_udacity': False, u'is_canceled': False, u'join_date': datetime.datetime(2015, 7, 17, 0, 0), u'account_key': u'39', u'cancel_date': None, u'days_to_cancel': None}\n",
      "{u'status': u'current', u'is_udacity': False, u'is_canceled': False, u'join_date': datetime.datetime(2015, 7, 18, 0, 0), u'account_key': u'393', u'cancel_date': None, u'days_to_cancel': None}\n",
      "{u'status': u'current', u'is_udacity': False, u'is_canceled': False, u'join_date': datetime.datetime(2015, 7, 19, 0, 0), u'account_key': u'1147', u'cancel_date': None, u'days_to_cancel': None}\n",
      "{u'status': u'current', u'is_udacity': False, u'is_canceled': False, u'join_date': datetime.datetime(2015, 7, 19, 0, 0), u'account_key': u'325', u'cancel_date': None, u'days_to_cancel': None}\n",
      "{u'status': u'current', u'is_udacity': False, u'is_canceled': False, u'join_date': datetime.datetime(2015, 7, 19, 0, 0), u'account_key': u'883', u'cancel_date': None, u'days_to_cancel': None}\n",
      "{u'status': u'current', u'is_udacity': False, u'is_canceled': False, u'join_date': datetime.datetime(2015, 7, 20, 0, 0), u'account_key': u'1224', u'cancel_date': None, u'days_to_cancel': None}\n",
      "{u'status': u'current', u'is_udacity': False, u'is_canceled': False, u'join_date': datetime.datetime(2015, 8, 11, 0, 0), u'account_key': u'332', u'cancel_date': None, u'days_to_cancel': None}\n",
      "{u'status': u'current', u'is_udacity': False, u'is_canceled': False, u'join_date': datetime.datetime(2014, 11, 10, 0, 0), u'account_key': u'443', u'cancel_date': None, u'days_to_cancel': None}\n",
      "{u'status': u'current', u'is_udacity': False, u'is_canceled': False, u'join_date': datetime.datetime(2014, 11, 10, 0, 0), u'account_key': u'309', u'cancel_date': None, u'days_to_cancel': None}\n",
      "{u'status': u'current', u'is_udacity': False, u'is_canceled': False, u'join_date': datetime.datetime(2014, 11, 10, 0, 0), u'account_key': u'230', u'cancel_date': None, u'days_to_cancel': None}\n",
      "{u'status': u'current', u'is_udacity': False, u'is_canceled': False, u'join_date': datetime.datetime(2014, 11, 10, 0, 0), u'account_key': u'301', u'cancel_date': None, u'days_to_cancel': None}\n",
      "{u'status': u'current', u'is_udacity': False, u'is_canceled': False, u'join_date': datetime.datetime(2014, 11, 10, 0, 0), u'account_key': u'506', u'cancel_date': None, u'days_to_cancel': None}\n",
      "{u'status': u'current', u'is_udacity': False, u'is_canceled': False, u'join_date': datetime.datetime(2014, 11, 10, 0, 0), u'account_key': u'755', u'cancel_date': None, u'days_to_cancel': None}\n",
      "{u'status': u'current', u'is_udacity': False, u'is_canceled': False, u'join_date': datetime.datetime(2015, 8, 11, 0, 0), u'account_key': u'1050', u'cancel_date': None, u'days_to_cancel': None}\n",
      "{u'status': u'current', u'is_udacity': False, u'is_canceled': False, u'join_date': datetime.datetime(2015, 8, 13, 0, 0), u'account_key': u'834', u'cancel_date': None, u'days_to_cancel': None}\n",
      "{u'status': u'current', u'is_udacity': False, u'is_canceled': False, u'join_date': datetime.datetime(2015, 8, 14, 0, 0), u'account_key': u'742', u'cancel_date': None, u'days_to_cancel': None}\n",
      "{u'status': u'current', u'is_udacity': False, u'is_canceled': False, u'join_date': datetime.datetime(2015, 2, 8, 0, 0), u'account_key': u'535', u'cancel_date': None, u'days_to_cancel': None}\n",
      "{u'status': u'current', u'is_udacity': False, u'is_canceled': False, u'join_date': datetime.datetime(2015, 4, 8, 0, 0), u'account_key': u'423', u'cancel_date': None, u'days_to_cancel': None}\n",
      "{u'status': u'current', u'is_udacity': False, u'is_canceled': False, u'join_date': datetime.datetime(2015, 4, 8, 0, 0), u'account_key': u'190', u'cancel_date': None, u'days_to_cancel': None}\n",
      "{u'status': u'current', u'is_udacity': False, u'is_canceled': False, u'join_date': datetime.datetime(2015, 7, 8, 0, 0), u'account_key': u'653', u'cancel_date': None, u'days_to_cancel': None}\n",
      "{u'status': u'current', u'is_udacity': False, u'is_canceled': False, u'join_date': datetime.datetime(2015, 3, 11, 0, 0), u'account_key': u'1177', u'cancel_date': None, u'days_to_cancel': None}\n",
      "{u'status': u'current', u'is_udacity': False, u'is_canceled': False, u'join_date': datetime.datetime(2015, 3, 6, 0, 0), u'account_key': u'233', u'cancel_date': None, u'days_to_cancel': None}\n",
      "{u'status': u'current', u'is_udacity': False, u'is_canceled': False, u'join_date': datetime.datetime(2015, 3, 8, 0, 0), u'account_key': u'351', u'cancel_date': None, u'days_to_cancel': None}\n",
      "{u'status': u'current', u'is_udacity': False, u'is_canceled': False, u'join_date': datetime.datetime(2015, 8, 23, 0, 0), u'account_key': u'854', u'cancel_date': None, u'days_to_cancel': None}\n",
      "{u'status': u'current', u'is_udacity': False, u'is_canceled': False, u'join_date': datetime.datetime(2015, 8, 23, 0, 0), u'account_key': u'880', u'cancel_date': None, u'days_to_cancel': None}\n",
      "{u'status': u'current', u'is_udacity': False, u'is_canceled': False, u'join_date': datetime.datetime(2014, 11, 14, 0, 0), u'account_key': u'672', u'cancel_date': None, u'days_to_cancel': None}\n",
      "{u'status': u'current', u'is_udacity': False, u'is_canceled': False, u'join_date': datetime.datetime(2014, 11, 14, 0, 0), u'account_key': u'282', u'cancel_date': None, u'days_to_cancel': None}\n",
      "{u'status': u'current', u'is_udacity': False, u'is_canceled': False, u'join_date': datetime.datetime(2014, 11, 14, 0, 0), u'account_key': u'155', u'cancel_date': None, u'days_to_cancel': None}\n",
      "{u'status': u'current', u'is_udacity': False, u'is_canceled': False, u'join_date': datetime.datetime(2014, 11, 15, 0, 0), u'account_key': u'257', u'cancel_date': None, u'days_to_cancel': None}\n",
      "{u'status': u'current', u'is_udacity': False, u'is_canceled': False, u'join_date': datetime.datetime(2014, 11, 16, 0, 0), u'account_key': u'311', u'cancel_date': None, u'days_to_cancel': None}\n",
      "{u'status': u'current', u'is_udacity': False, u'is_canceled': False, u'join_date': datetime.datetime(2014, 11, 16, 0, 0), u'account_key': u'188', u'cancel_date': None, u'days_to_cancel': None}\n",
      "{u'status': u'current', u'is_udacity': False, u'is_canceled': False, u'join_date': datetime.datetime(2015, 3, 10, 0, 0), u'account_key': u'457', u'cancel_date': None, u'days_to_cancel': None}\n",
      "{u'status': u'current', u'is_udacity': False, u'is_canceled': False, u'join_date': datetime.datetime(2015, 4, 1, 0, 0), u'account_key': u'333', u'cancel_date': None, u'days_to_cancel': None}\n",
      "{u'status': u'current', u'is_udacity': False, u'is_canceled': False, u'join_date': datetime.datetime(2014, 12, 5, 0, 0), u'account_key': u'594', u'cancel_date': None, u'days_to_cancel': None}\n",
      "{u'status': u'current', u'is_udacity': False, u'is_canceled': False, u'join_date': datetime.datetime(2014, 12, 6, 0, 0), u'account_key': u'137', u'cancel_date': None, u'days_to_cancel': None}\n",
      "{u'status': u'current', u'is_udacity': False, u'is_canceled': False, u'join_date': datetime.datetime(2014, 12, 8, 0, 0), u'account_key': u'241', u'cancel_date': None, u'days_to_cancel': None}\n",
      "{u'status': u'current', u'is_udacity': False, u'is_canceled': False, u'join_date': datetime.datetime(2014, 12, 8, 0, 0), u'account_key': u'46', u'cancel_date': None, u'days_to_cancel': None}\n",
      "{u'status': u'current', u'is_udacity': False, u'is_canceled': False, u'join_date': datetime.datetime(2015, 4, 2, 0, 0), u'account_key': u'363', u'cancel_date': None, u'days_to_cancel': None}\n",
      "{u'status': u'current', u'is_udacity': False, u'is_canceled': False, u'join_date': datetime.datetime(2015, 4, 2, 0, 0), u'account_key': u'269', u'cancel_date': None, u'days_to_cancel': None}\n",
      "{u'status': u'current', u'is_udacity': False, u'is_canceled': False, u'join_date': datetime.datetime(2015, 4, 7, 0, 0), u'account_key': u'600', u'cancel_date': None, u'days_to_cancel': None}\n",
      "{u'status': u'current', u'is_udacity': False, u'is_canceled': False, u'join_date': datetime.datetime(2015, 4, 12, 0, 0), u'account_key': u'920', u'cancel_date': None, u'days_to_cancel': None}\n",
      "{u'status': u'current', u'is_udacity': False, u'is_canceled': False, u'join_date': datetime.datetime(2015, 4, 24, 0, 0), u'account_key': u'370', u'cancel_date': None, u'days_to_cancel': None}\n",
      "{u'status': u'current', u'is_udacity': False, u'is_canceled': False, u'join_date': datetime.datetime(2015, 5, 6, 0, 0), u'account_key': u'84', u'cancel_date': None, u'days_to_cancel': None}\n",
      "{u'status': u'current', u'is_udacity': False, u'is_canceled': False, u'join_date': datetime.datetime(2015, 5, 6, 0, 0), u'account_key': u'255', u'cancel_date': None, u'days_to_cancel': None}\n",
      "{u'status': u'current', u'is_udacity': False, u'is_canceled': False, u'join_date': datetime.datetime(2015, 1, 7, 0, 0), u'account_key': u'472', u'cancel_date': None, u'days_to_cancel': None}\n",
      "{u'status': u'current', u'is_udacity': False, u'is_canceled': False, u'join_date': datetime.datetime(2015, 1, 8, 0, 0), u'account_key': u'32', u'cancel_date': None, u'days_to_cancel': None}\n",
      "{u'status': u'current', u'is_udacity': False, u'is_canceled': False, u'join_date': datetime.datetime(2015, 1, 11, 0, 0), u'account_key': u'115', u'cancel_date': None, u'days_to_cancel': None}\n",
      "{u'status': u'current', u'is_udacity': False, u'is_canceled': False, u'join_date': datetime.datetime(2015, 8, 20, 0, 0), u'account_key': u'1022', u'cancel_date': None, u'days_to_cancel': None}\n",
      "{u'status': u'current', u'is_udacity': False, u'is_canceled': False, u'join_date': datetime.datetime(2015, 5, 7, 0, 0), u'account_key': u'320', u'cancel_date': None, u'days_to_cancel': None}\n",
      "{u'status': u'current', u'is_udacity': False, u'is_canceled': False, u'join_date': datetime.datetime(2015, 5, 7, 0, 0), u'account_key': u'635', u'cancel_date': None, u'days_to_cancel': None}\n",
      "{u'status': u'current', u'is_udacity': False, u'is_canceled': False, u'join_date': datetime.datetime(2015, 5, 8, 0, 0), u'account_key': u'182', u'cancel_date': None, u'days_to_cancel': None}\n",
      "{u'status': u'current', u'is_udacity': False, u'is_canceled': False, u'join_date': datetime.datetime(2015, 5, 8, 0, 0), u'account_key': u'298', u'cancel_date': None, u'days_to_cancel': None}\n",
      "{u'status': u'current', u'is_udacity': False, u'is_canceled': False, u'join_date': datetime.datetime(2015, 5, 8, 0, 0), u'account_key': u'385', u'cancel_date': None, u'days_to_cancel': None}\n",
      "{u'status': u'current', u'is_udacity': False, u'is_canceled': False, u'join_date': datetime.datetime(2015, 5, 9, 0, 0), u'account_key': u'175', u'cancel_date': None, u'days_to_cancel': None}\n",
      "{u'status': u'current', u'is_udacity': False, u'is_canceled': False, u'join_date': datetime.datetime(2015, 5, 11, 0, 0), u'account_key': u'120', u'cancel_date': None, u'days_to_cancel': None}\n",
      "{u'status': u'current', u'is_udacity': False, u'is_canceled': False, u'join_date': datetime.datetime(2015, 5, 11, 0, 0), u'account_key': u'314', u'cancel_date': None, u'days_to_cancel': None}\n",
      "{u'status': u'current', u'is_udacity': False, u'is_canceled': False, u'join_date': datetime.datetime(2015, 5, 11, 0, 0), u'account_key': u'331', u'cancel_date': None, u'days_to_cancel': None}\n",
      "{u'status': u'current', u'is_udacity': False, u'is_canceled': False, u'join_date': datetime.datetime(2015, 5, 11, 0, 0), u'account_key': u'303', u'cancel_date': None, u'days_to_cancel': None}\n",
      "{u'status': u'current', u'is_udacity': False, u'is_canceled': False, u'join_date': datetime.datetime(2015, 5, 11, 0, 0), u'account_key': u'533', u'cancel_date': None, u'days_to_cancel': None}\n",
      "{u'status': u'current', u'is_udacity': False, u'is_canceled': False, u'join_date': datetime.datetime(2015, 5, 11, 0, 0), u'account_key': u'17', u'cancel_date': None, u'days_to_cancel': None}\n",
      "{u'status': u'current', u'is_udacity': False, u'is_canceled': False, u'join_date': datetime.datetime(2015, 5, 11, 0, 0), u'account_key': u'129', u'cancel_date': None, u'days_to_cancel': None}\n",
      "{u'status': u'current', u'is_udacity': False, u'is_canceled': False, u'join_date': datetime.datetime(2015, 5, 12, 0, 0), u'account_key': u'189', u'cancel_date': None, u'days_to_cancel': None}\n",
      "{u'status': u'current', u'is_udacity': False, u'is_canceled': False, u'join_date': datetime.datetime(2015, 5, 12, 0, 0), u'account_key': u'4', u'cancel_date': None, u'days_to_cancel': None}\n",
      "{u'status': u'current', u'is_udacity': False, u'is_canceled': False, u'join_date': datetime.datetime(2015, 5, 12, 0, 0), u'account_key': u'454', u'cancel_date': None, u'days_to_cancel': None}\n",
      "{u'status': u'current', u'is_udacity': False, u'is_canceled': False, u'join_date': datetime.datetime(2015, 5, 12, 0, 0), u'account_key': u'715', u'cancel_date': None, u'days_to_cancel': None}\n",
      "{u'status': u'current', u'is_udacity': False, u'is_canceled': False, u'join_date': datetime.datetime(2015, 5, 13, 0, 0), u'account_key': u'16', u'cancel_date': None, u'days_to_cancel': None}\n",
      "{u'status': u'current', u'is_udacity': False, u'is_canceled': False, u'join_date': datetime.datetime(2015, 1, 12, 0, 0), u'account_key': u'297', u'cancel_date': None, u'days_to_cancel': None}\n",
      "{u'status': u'current', u'is_udacity': False, u'is_canceled': False, u'join_date': datetime.datetime(2015, 1, 12, 0, 0), u'account_key': u'373', u'cancel_date': None, u'days_to_cancel': None}\n",
      "{u'status': u'current', u'is_udacity': False, u'is_canceled': False, u'join_date': datetime.datetime(2015, 2, 5, 0, 0), u'account_key': u'510', u'cancel_date': None, u'days_to_cancel': None}\n",
      "{u'status': u'current', u'is_udacity': False, u'is_canceled': False, u'join_date': datetime.datetime(2015, 5, 13, 0, 0), u'account_key': u'36', u'cancel_date': None, u'days_to_cancel': None}\n",
      "{u'status': u'current', u'is_udacity': False, u'is_canceled': False, u'join_date': datetime.datetime(2015, 5, 28, 0, 0), u'account_key': u'616', u'cancel_date': None, u'days_to_cancel': None}\n",
      "{u'status': u'current', u'is_udacity': False, u'is_canceled': False, u'join_date': datetime.datetime(2015, 5, 29, 0, 0), u'account_key': u'55', u'cancel_date': None, u'days_to_cancel': None}\n",
      "{u'status': u'current', u'is_udacity': False, u'is_canceled': False, u'join_date': datetime.datetime(2015, 6, 2, 0, 0), u'account_key': u'538', u'cancel_date': None, u'days_to_cancel': None}\n",
      "{u'status': u'current', u'is_udacity': False, u'is_canceled': False, u'join_date': datetime.datetime(2015, 6, 3, 0, 0), u'account_key': u'503', u'cancel_date': None, u'days_to_cancel': None}\n",
      "{u'status': u'current', u'is_udacity': False, u'is_canceled': False, u'join_date': datetime.datetime(2015, 6, 3, 0, 0), u'account_key': u'196', u'cancel_date': None, u'days_to_cancel': None}\n",
      "{u'status': u'current', u'is_udacity': False, u'is_canceled': False, u'join_date': datetime.datetime(2015, 8, 13, 0, 0), u'account_key': u'1217', u'cancel_date': None, u'days_to_cancel': None}\n",
      "{u'status': u'current', u'is_udacity': False, u'is_canceled': False, u'join_date': datetime.datetime(2015, 6, 8, 0, 0), u'account_key': u'565', u'cancel_date': None, u'days_to_cancel': None}\n",
      "{u'status': u'current', u'is_udacity': False, u'is_canceled': False, u'join_date': datetime.datetime(2015, 6, 8, 0, 0), u'account_key': u'518', u'cancel_date': None, u'days_to_cancel': None}\n",
      "{u'status': u'current', u'is_udacity': False, u'is_canceled': False, u'join_date': datetime.datetime(2015, 6, 8, 0, 0), u'account_key': u'384', u'cancel_date': None, u'days_to_cancel': None}\n",
      "{u'status': u'current', u'is_udacity': False, u'is_canceled': False, u'join_date': datetime.datetime(2015, 6, 9, 0, 0), u'account_key': u'888', u'cancel_date': None, u'days_to_cancel': None}\n",
      "{u'status': u'current', u'is_udacity': False, u'is_canceled': False, u'join_date': datetime.datetime(2015, 6, 9, 0, 0), u'account_key': u'1227', u'cancel_date': None, u'days_to_cancel': None}\n",
      "{u'status': u'current', u'is_udacity': False, u'is_canceled': False, u'join_date': datetime.datetime(2015, 7, 8, 0, 0), u'account_key': u'176', u'cancel_date': None, u'days_to_cancel': None}\n",
      "{u'status': u'current', u'is_udacity': False, u'is_canceled': False, u'join_date': datetime.datetime(2015, 7, 9, 0, 0), u'account_key': u'1231', u'cancel_date': None, u'days_to_cancel': None}\n",
      "{u'status': u'current', u'is_udacity': False, u'is_canceled': False, u'join_date': datetime.datetime(2015, 2, 10, 0, 0), u'account_key': u'391', u'cancel_date': None, u'days_to_cancel': None}\n",
      "{u'status': u'current', u'is_udacity': False, u'is_canceled': False, u'join_date': datetime.datetime(2015, 3, 6, 0, 0), u'account_key': u'409', u'cancel_date': None, u'days_to_cancel': None}\n",
      "{u'status': u'current', u'is_udacity': False, u'is_canceled': False, u'join_date': datetime.datetime(2015, 3, 6, 0, 0), u'account_key': u'872', u'cancel_date': None, u'days_to_cancel': None}\n",
      "{u'status': u'current', u'is_udacity': False, u'is_canceled': False, u'join_date': datetime.datetime(2015, 3, 10, 0, 0), u'account_key': u'172', u'cancel_date': None, u'days_to_cancel': None}\n",
      "{u'status': u'current', u'is_udacity': False, u'is_canceled': False, u'join_date': datetime.datetime(2015, 3, 10, 0, 0), u'account_key': u'1276', u'cancel_date': None, u'days_to_cancel': None}\n",
      "{u'status': u'current', u'is_udacity': False, u'is_canceled': False, u'join_date': datetime.datetime(2015, 7, 10, 0, 0), u'account_key': u'542', u'cancel_date': None, u'days_to_cancel': None}\n",
      "{u'status': u'current', u'is_udacity': False, u'is_canceled': False, u'join_date': datetime.datetime(2015, 7, 16, 0, 0), u'account_key': u'526', u'cancel_date': None, u'days_to_cancel': None}\n",
      "{u'status': u'current', u'is_udacity': False, u'is_canceled': False, u'join_date': datetime.datetime(2015, 7, 17, 0, 0), u'account_key': u'355', u'cancel_date': None, u'days_to_cancel': None}\n",
      "{u'status': u'current', u'is_udacity': False, u'is_canceled': False, u'join_date': datetime.datetime(2015, 7, 17, 0, 0), u'account_key': u'901', u'cancel_date': None, u'days_to_cancel': None}\n",
      "{u'status': u'current', u'is_udacity': False, u'is_canceled': False, u'join_date': datetime.datetime(2015, 7, 17, 0, 0), u'account_key': u'764', u'cancel_date': None, u'days_to_cancel': None}\n",
      "{u'status': u'current', u'is_udacity': False, u'is_canceled': False, u'join_date': datetime.datetime(2015, 3, 11, 0, 0), u'account_key': u'210', u'cancel_date': None, u'days_to_cancel': None}\n",
      "{u'status': u'current', u'is_udacity': False, u'is_canceled': False, u'join_date': datetime.datetime(2015, 3, 11, 0, 0), u'account_key': u'1048', u'cancel_date': None, u'days_to_cancel': None}\n",
      "{u'status': u'current', u'is_udacity': False, u'is_canceled': False, u'join_date': datetime.datetime(2015, 4, 1, 0, 0), u'account_key': u'543', u'cancel_date': None, u'days_to_cancel': None}\n",
      "{u'status': u'current', u'is_udacity': False, u'is_canceled': False, u'join_date': datetime.datetime(2015, 4, 1, 0, 0), u'account_key': u'1149', u'cancel_date': None, u'days_to_cancel': None}\n",
      "{u'status': u'current', u'is_udacity': False, u'is_canceled': False, u'join_date': datetime.datetime(2015, 4, 2, 0, 0), u'account_key': u'781', u'cancel_date': None, u'days_to_cancel': None}\n",
      "{u'status': u'current', u'is_udacity': False, u'is_canceled': False, u'join_date': datetime.datetime(2015, 4, 5, 0, 0), u'account_key': u'425', u'cancel_date': None, u'days_to_cancel': None}\n",
      "{u'status': u'current', u'is_udacity': False, u'is_canceled': False, u'join_date': datetime.datetime(2015, 4, 6, 0, 0), u'account_key': u'118', u'cancel_date': None, u'days_to_cancel': None}\n",
      "{u'status': u'current', u'is_udacity': False, u'is_canceled': False, u'join_date': datetime.datetime(2015, 4, 6, 0, 0), u'account_key': u'310', u'cancel_date': None, u'days_to_cancel': None}\n",
      "{u'status': u'current', u'is_udacity': False, u'is_canceled': False, u'join_date': datetime.datetime(2015, 7, 19, 0, 0), u'account_key': u'1070', u'cancel_date': None, u'days_to_cancel': None}\n",
      "{u'status': u'current', u'is_udacity': False, u'is_canceled': False, u'join_date': datetime.datetime(2015, 7, 19, 0, 0), u'account_key': u'798', u'cancel_date': None, u'days_to_cancel': None}\n",
      "{u'status': u'current', u'is_udacity': False, u'is_canceled': False, u'join_date': datetime.datetime(2015, 7, 20, 0, 0), u'account_key': u'548', u'cancel_date': None, u'days_to_cancel': None}\n",
      "{u'status': u'current', u'is_udacity': False, u'is_canceled': False, u'join_date': datetime.datetime(2015, 8, 11, 0, 0), u'account_key': u'1143', u'cancel_date': None, u'days_to_cancel': None}\n",
      "{u'status': u'current', u'is_udacity': False, u'is_canceled': False, u'join_date': datetime.datetime(2015, 8, 11, 0, 0), u'account_key': u'931', u'cancel_date': None, u'days_to_cancel': None}\n",
      "{u'status': u'current', u'is_udacity': False, u'is_canceled': False, u'join_date': datetime.datetime(2015, 8, 12, 0, 0), u'account_key': u'1056', u'cancel_date': None, u'days_to_cancel': None}\n",
      "{u'status': u'current', u'is_udacity': False, u'is_canceled': False, u'join_date': datetime.datetime(2015, 8, 12, 0, 0), u'account_key': u'1235', u'cancel_date': None, u'days_to_cancel': None}\n",
      "{u'status': u'current', u'is_udacity': False, u'is_canceled': False, u'join_date': datetime.datetime(2015, 8, 12, 0, 0), u'account_key': u'417', u'cancel_date': None, u'days_to_cancel': None}\n",
      "{u'status': u'current', u'is_udacity': False, u'is_canceled': False, u'join_date': datetime.datetime(2015, 8, 13, 0, 0), u'account_key': u'794', u'cancel_date': None, u'days_to_cancel': None}\n",
      "{u'status': u'current', u'is_udacity': False, u'is_canceled': False, u'join_date': datetime.datetime(2015, 8, 20, 0, 0), u'account_key': u'816', u'cancel_date': None, u'days_to_cancel': None}\n",
      "{u'status': u'current', u'is_udacity': False, u'is_canceled': False, u'join_date': datetime.datetime(2015, 8, 21, 0, 0), u'account_key': u'1269', u'cancel_date': None, u'days_to_cancel': None}\n",
      "{u'status': u'current', u'is_udacity': False, u'is_canceled': False, u'join_date': datetime.datetime(2015, 8, 22, 0, 0), u'account_key': u'1067', u'cancel_date': None, u'days_to_cancel': None}\n",
      "{u'status': u'current', u'is_udacity': False, u'is_canceled': False, u'join_date': datetime.datetime(2015, 8, 22, 0, 0), u'account_key': u'1157', u'cancel_date': None, u'days_to_cancel': None}\n",
      "{u'status': u'current', u'is_udacity': False, u'is_canceled': False, u'join_date': datetime.datetime(2015, 4, 10, 0, 0), u'account_key': u'177', u'cancel_date': None, u'days_to_cancel': None}\n",
      "{u'status': u'current', u'is_udacity': False, u'is_canceled': False, u'join_date': datetime.datetime(2015, 4, 24, 0, 0), u'account_key': u'797', u'cancel_date': None, u'days_to_cancel': None}\n",
      "{u'status': u'current', u'is_udacity': False, u'is_canceled': False, u'join_date': datetime.datetime(2015, 4, 24, 0, 0), u'account_key': u'49', u'cancel_date': None, u'days_to_cancel': None}\n",
      "{u'status': u'current', u'is_udacity': False, u'is_canceled': False, u'join_date': datetime.datetime(2015, 5, 5, 0, 0), u'account_key': u'376', u'cancel_date': None, u'days_to_cancel': None}\n",
      "{u'status': u'current', u'is_udacity': False, u'is_canceled': False, u'join_date': datetime.datetime(2015, 5, 7, 0, 0), u'account_key': u'228', u'cancel_date': None, u'days_to_cancel': None}\n",
      "{u'status': u'current', u'is_udacity': False, u'is_canceled': False, u'join_date': datetime.datetime(2015, 5, 7, 0, 0), u'account_key': u'173', u'cancel_date': None, u'days_to_cancel': None}\n",
      "{u'status': u'current', u'is_udacity': False, u'is_canceled': False, u'join_date': datetime.datetime(2015, 5, 8, 0, 0), u'account_key': u'422', u'cancel_date': None, u'days_to_cancel': None}\n",
      "{u'status': u'current', u'is_udacity': False, u'is_canceled': False, u'join_date': datetime.datetime(2015, 5, 10, 0, 0), u'account_key': u'236', u'cancel_date': None, u'days_to_cancel': None}\n",
      "{u'status': u'current', u'is_udacity': False, u'is_canceled': False, u'join_date': datetime.datetime(2015, 5, 11, 0, 0), u'account_key': u'1182', u'cancel_date': None, u'days_to_cancel': None}\n",
      "{u'status': u'current', u'is_udacity': False, u'is_canceled': False, u'join_date': datetime.datetime(2015, 5, 11, 0, 0), u'account_key': u'287', u'cancel_date': None, u'days_to_cancel': None}\n",
      "{u'status': u'current', u'is_udacity': False, u'is_canceled': False, u'join_date': datetime.datetime(2015, 5, 11, 0, 0), u'account_key': u'648', u'cancel_date': None, u'days_to_cancel': None}\n",
      "{u'status': u'current', u'is_udacity': False, u'is_canceled': False, u'join_date': datetime.datetime(2015, 5, 11, 0, 0), u'account_key': u'519', u'cancel_date': None, u'days_to_cancel': None}\n",
      "{u'status': u'current', u'is_udacity': False, u'is_canceled': False, u'join_date': datetime.datetime(2015, 5, 12, 0, 0), u'account_key': u'566', u'cancel_date': None, u'days_to_cancel': None}\n",
      "{u'status': u'current', u'is_udacity': False, u'is_canceled': False, u'join_date': datetime.datetime(2015, 5, 12, 0, 0), u'account_key': u'852', u'cancel_date': None, u'days_to_cancel': None}\n",
      "{u'status': u'current', u'is_udacity': False, u'is_canceled': False, u'join_date': datetime.datetime(2015, 5, 12, 0, 0), u'account_key': u'491', u'cancel_date': None, u'days_to_cancel': None}\n",
      "{u'status': u'current', u'is_udacity': False, u'is_canceled': False, u'join_date': datetime.datetime(2015, 5, 13, 0, 0), u'account_key': u'445', u'cancel_date': None, u'days_to_cancel': None}\n",
      "{u'status': u'current', u'is_udacity': False, u'is_canceled': False, u'join_date': datetime.datetime(2015, 5, 13, 0, 0), u'account_key': u'644', u'cancel_date': None, u'days_to_cancel': None}\n",
      "{u'status': u'current', u'is_udacity': False, u'is_canceled': False, u'join_date': datetime.datetime(2015, 5, 13, 0, 0), u'account_key': u'68', u'cancel_date': None, u'days_to_cancel': None}\n",
      "{u'status': u'current', u'is_udacity': False, u'is_canceled': False, u'join_date': datetime.datetime(2015, 6, 1, 0, 0), u'account_key': u'489', u'cancel_date': None, u'days_to_cancel': None}\n",
      "{u'status': u'current', u'is_udacity': False, u'is_canceled': False, u'join_date': datetime.datetime(2015, 6, 3, 0, 0), u'account_key': u'1206', u'cancel_date': None, u'days_to_cancel': None}\n",
      "{u'status': u'current', u'is_udacity': False, u'is_canceled': False, u'join_date': datetime.datetime(2015, 6, 7, 0, 0), u'account_key': u'414', u'cancel_date': None, u'days_to_cancel': None}\n",
      "{u'status': u'current', u'is_udacity': False, u'is_canceled': False, u'join_date': datetime.datetime(2015, 6, 8, 0, 0), u'account_key': u'226', u'cancel_date': None, u'days_to_cancel': None}\n",
      "{u'status': u'current', u'is_udacity': False, u'is_canceled': False, u'join_date': datetime.datetime(2015, 6, 8, 0, 0), u'account_key': u'2', u'cancel_date': None, u'days_to_cancel': None}\n",
      "{u'status': u'current', u'is_udacity': False, u'is_canceled': False, u'join_date': datetime.datetime(2015, 7, 8, 0, 0), u'account_key': u'1274', u'cancel_date': None, u'days_to_cancel': None}\n",
      "{u'status': u'current', u'is_udacity': False, u'is_canceled': False, u'join_date': datetime.datetime(2015, 7, 8, 0, 0), u'account_key': u'218', u'cancel_date': None, u'days_to_cancel': None}\n",
      "{u'status': u'current', u'is_udacity': False, u'is_canceled': False, u'join_date': datetime.datetime(2015, 7, 9, 0, 0), u'account_key': u'324', u'cancel_date': None, u'days_to_cancel': None}\n",
      "{u'status': u'current', u'is_udacity': False, u'is_canceled': False, u'join_date': datetime.datetime(2015, 7, 11, 0, 0), u'account_key': u'1000', u'cancel_date': None, u'days_to_cancel': None}\n",
      "{u'status': u'current', u'is_udacity': False, u'is_canceled': False, u'join_date': datetime.datetime(2015, 7, 13, 0, 0), u'account_key': u'973', u'cancel_date': None, u'days_to_cancel': None}\n",
      "{u'status': u'current', u'is_udacity': False, u'is_canceled': False, u'join_date': datetime.datetime(2015, 7, 15, 0, 0), u'account_key': u'806', u'cancel_date': None, u'days_to_cancel': None}\n",
      "{u'status': u'current', u'is_udacity': False, u'is_canceled': False, u'join_date': datetime.datetime(2015, 7, 16, 0, 0), u'account_key': u'832', u'cancel_date': None, u'days_to_cancel': None}\n",
      "{u'status': u'current', u'is_udacity': False, u'is_canceled': False, u'join_date': datetime.datetime(2015, 7, 17, 0, 0), u'account_key': u'689', u'cancel_date': None, u'days_to_cancel': None}\n",
      "{u'status': u'current', u'is_udacity': False, u'is_canceled': False, u'join_date': datetime.datetime(2015, 7, 17, 0, 0), u'account_key': u'1278', u'cancel_date': None, u'days_to_cancel': None}\n",
      "{u'status': u'current', u'is_udacity': False, u'is_canceled': False, u'join_date': datetime.datetime(2015, 7, 17, 0, 0), u'account_key': u'438', u'cancel_date': None, u'days_to_cancel': None}\n",
      "{u'status': u'current', u'is_udacity': False, u'is_canceled': False, u'join_date': datetime.datetime(2015, 7, 17, 0, 0), u'account_key': u'992', u'cancel_date': None, u'days_to_cancel': None}\n",
      "{u'status': u'current', u'is_udacity': False, u'is_canceled': False, u'join_date': datetime.datetime(2015, 7, 17, 0, 0), u'account_key': u'575', u'cancel_date': None, u'days_to_cancel': None}\n",
      "{u'status': u'current', u'is_udacity': False, u'is_canceled': False, u'join_date': datetime.datetime(2015, 8, 11, 0, 0), u'account_key': u'1298', u'cancel_date': None, u'days_to_cancel': None}\n",
      "{u'status': u'current', u'is_udacity': False, u'is_canceled': False, u'join_date': datetime.datetime(2015, 8, 11, 0, 0), u'account_key': u'751', u'cancel_date': None, u'days_to_cancel': None}\n",
      "{u'status': u'current', u'is_udacity': False, u'is_canceled': False, u'join_date': datetime.datetime(2015, 8, 12, 0, 0), u'account_key': u'1176', u'cancel_date': None, u'days_to_cancel': None}\n",
      "{u'status': u'current', u'is_udacity': False, u'is_canceled': False, u'join_date': datetime.datetime(2015, 8, 13, 0, 0), u'account_key': u'1110', u'cancel_date': None, u'days_to_cancel': None}\n",
      "{u'status': u'current', u'is_udacity': False, u'is_canceled': False, u'join_date': datetime.datetime(2015, 8, 22, 0, 0), u'account_key': u'874', u'cancel_date': None, u'days_to_cancel': None}\n",
      "{u'status': u'current', u'is_udacity': False, u'is_canceled': False, u'join_date': datetime.datetime(2015, 8, 23, 0, 0), u'account_key': u'686', u'cancel_date': None, u'days_to_cancel': None}\n"
     ]
    },
    {
     "data": {
      "text/plain": [
       "995"
      ]
     },
     "execution_count": 62,
     "metadata": {},
     "output_type": "execute_result"
    }
   ],
   "source": [
    "# Create a dictionary mapping students who did not cancel within 7 days to their most recent\n",
    "# join date\n",
    "paid_students = {}\n",
    "for enrollment in non_udacity_enrollments:\n",
    "    if not enrollment['is_canceled']:\n",
    "        print enrollment\n",
    "    # If the student is still enrolled or they took more than 7 days to cancel, we will consider them\n",
    "    # a paid student\n",
    "    if not enrollment['is_canceled'] or enrollment['days_to_cancel'] > 7:\n",
    "        account_key = enrollment['account_key']\n",
    "        enrollment_date = enrollment['join_date']\n",
    "        \n",
    "        # Add this student to the dictionary if they are not already present, or if this enrollment date\n",
    "        # is the most recent one we've seen so far\n",
    "        if account_key not in paid_students or enrollment_date > paid_students[account_key]:\n",
    "            paid_students[account_key] = enrollment_date\n",
    "\n",
    "len(paid_students)"
   ]
  },
  {
   "cell_type": "code",
   "execution_count": 63,
   "metadata": {
    "collapsed": false
   },
   "outputs": [
    {
     "data": {
      "text/plain": [
       "445"
      ]
     },
     "execution_count": 63,
     "metadata": {},
     "output_type": "execute_result"
    }
   ],
   "source": [
    "paid_students = {}\n",
    "for enrollment in non_udacity_enrollments:\n",
    "    if enrollment['is_canceled'] is None:\n",
    "        print enrollment\n",
    "    if enrollment['is_canceled'] is None or enrollment['days_to_cancel'] > 7:\n",
    "        account_key = enrollment['account_key']\n",
    "        join_date = enrollment['join_date']\n",
    "\n",
    "        if account_key not in paid_students or join_date > paid_students[account_key]:\n",
    "            paid_students[account_key] = join_date\n",
    "len(paid_students)"
   ]
  },
  {
   "cell_type": "markdown",
   "metadata": {},
   "source": [
    "## Getting Data from First Week"
   ]
  },
  {
   "cell_type": "code",
   "execution_count": 64,
   "metadata": {
    "collapsed": true
   },
   "outputs": [],
   "source": [
    "# Given some data with an account_key field, removes any records corresponding to accounts that canceled with\n",
    "# seven days\n",
    "def remove_free_trial_cancels(data):\n",
    "    new_data = []\n",
    "    for data_point in data:\n",
    "        if data_point['account_key'] in paid_students:\n",
    "            new_data.append(data_point)\n",
    "    return new_data"
   ]
  },
  {
   "cell_type": "code",
   "execution_count": 65,
   "metadata": {
    "collapsed": false
   },
   "outputs": [
    {
     "name": "stdout",
     "output_type": "stream",
     "text": [
      "719\n",
      "55675\n",
      "1110\n"
     ]
    }
   ],
   "source": [
    "# Remove data from students who canceled within 7 days from all three tables\n",
    "paid_enrollments = remove_free_trial_cancels(non_udacity_enrollments)\n",
    "paid_engagement = remove_free_trial_cancels(non_udacity_engagement)\n",
    "paid_submissions = remove_free_trial_cancels(non_udacity_submissions)\n",
    "\n",
    "print(len(paid_enrollments))\n",
    "print(len(paid_engagement))\n",
    "print(len(paid_submissions))"
   ]
  },
  {
   "cell_type": "code",
   "execution_count": 66,
   "metadata": {
    "collapsed": false
   },
   "outputs": [
    {
     "name": "stdout",
     "output_type": "stream",
     "text": [
      "\n"
     ]
    }
   ],
   "source": [
    "print "
   ]
  },
  {
   "cell_type": "code",
   "execution_count": 67,
   "metadata": {
    "collapsed": false
   },
   "outputs": [
    {
     "name": "stdout",
     "output_type": "stream",
     "text": [
      "275\n",
      "445\n"
     ]
    }
   ],
   "source": [
    "unique = []\n",
    "dupes = []\n",
    "for student in paid_enrollments:\n",
    "    if student == paid_enrollments[0]:\n",
    "        unique.append(student['account_key'])\n",
    "    if student['account_key'] in unique:\n",
    "        dupes.append(student['account_key'])\n",
    "    else:\n",
    "        unique.append(student['account_key'])\n",
    "        \n",
    "print len(dupes)\n",
    "print len(unique)"
   ]
  },
  {
   "cell_type": "code",
   "execution_count": 68,
   "metadata": {
    "collapsed": false
   },
   "outputs": [
    {
     "name": "stdout",
     "output_type": "stream",
     "text": [
      "Mean: nan\n",
      "Standard deviation: nan\n",
      "Minimum:"
     ]
    },
    {
     "ename": "ValueError",
     "evalue": "zero-size array to reduction operation minimum which has no identity",
     "output_type": "error",
     "traceback": [
      "\u001b[0;31m---------------------------------------------------------------------------\u001b[0m",
      "\u001b[0;31mValueError\u001b[0m                                Traceback (most recent call last)",
      "\u001b[0;32m<ipython-input-68-bc942405554f>\u001b[0m in \u001b[0;36m<module>\u001b[0;34m()\u001b[0m\n\u001b[1;32m     27\u001b[0m \u001b[0;32mprint\u001b[0m \u001b[0;34m'Mean:'\u001b[0m\u001b[0;34m,\u001b[0m \u001b[0mnp\u001b[0m\u001b[0;34m.\u001b[0m\u001b[0mmean\u001b[0m\u001b[0;34m(\u001b[0m\u001b[0mtotal_minutes\u001b[0m\u001b[0;34m)\u001b[0m\u001b[0;34m\u001b[0m\u001b[0m\n\u001b[1;32m     28\u001b[0m \u001b[0;32mprint\u001b[0m \u001b[0;34m'Standard deviation:'\u001b[0m\u001b[0;34m,\u001b[0m \u001b[0mnp\u001b[0m\u001b[0;34m.\u001b[0m\u001b[0mstd\u001b[0m\u001b[0;34m(\u001b[0m\u001b[0mtotal_minutes\u001b[0m\u001b[0;34m)\u001b[0m\u001b[0;34m\u001b[0m\u001b[0m\n\u001b[0;32m---> 29\u001b[0;31m \u001b[0;32mprint\u001b[0m \u001b[0;34m'Minimum:'\u001b[0m\u001b[0;34m,\u001b[0m \u001b[0mnp\u001b[0m\u001b[0;34m.\u001b[0m\u001b[0mmin\u001b[0m\u001b[0;34m(\u001b[0m\u001b[0mtotal_minutes\u001b[0m\u001b[0;34m)\u001b[0m\u001b[0;34m\u001b[0m\u001b[0m\n\u001b[0m\u001b[1;32m     30\u001b[0m \u001b[0;32mprint\u001b[0m \u001b[0;34m'Maximum:'\u001b[0m\u001b[0;34m,\u001b[0m \u001b[0mnp\u001b[0m\u001b[0;34m.\u001b[0m\u001b[0mmax\u001b[0m\u001b[0;34m(\u001b[0m\u001b[0mtotal_minutes\u001b[0m\u001b[0;34m)\u001b[0m\u001b[0;34m\u001b[0m\u001b[0m\n",
      "\u001b[0;32m/Users/myles/anaconda/lib/python2.7/site-packages/numpy/core/fromnumeric.pyc\u001b[0m in \u001b[0;36mamin\u001b[0;34m(a, axis, out, keepdims)\u001b[0m\n\u001b[1;32m   2352\u001b[0m         \u001b[0;32mexcept\u001b[0m \u001b[0mAttributeError\u001b[0m\u001b[0;34m:\u001b[0m\u001b[0;34m\u001b[0m\u001b[0m\n\u001b[1;32m   2353\u001b[0m             return _methods._amin(a, axis=axis,\n\u001b[0;32m-> 2354\u001b[0;31m                                   out=out, keepdims=keepdims)\n\u001b[0m\u001b[1;32m   2355\u001b[0m         \u001b[0;31m# NOTE: Dropping the keepdims parameter\u001b[0m\u001b[0;34m\u001b[0m\u001b[0;34m\u001b[0m\u001b[0m\n\u001b[1;32m   2356\u001b[0m         \u001b[0;32mreturn\u001b[0m \u001b[0mamin\u001b[0m\u001b[0;34m(\u001b[0m\u001b[0maxis\u001b[0m\u001b[0;34m=\u001b[0m\u001b[0maxis\u001b[0m\u001b[0;34m,\u001b[0m \u001b[0mout\u001b[0m\u001b[0;34m=\u001b[0m\u001b[0mout\u001b[0m\u001b[0;34m)\u001b[0m\u001b[0;34m\u001b[0m\u001b[0m\n",
      "\u001b[0;32m/Users/myles/anaconda/lib/python2.7/site-packages/numpy/core/_methods.pyc\u001b[0m in \u001b[0;36m_amin\u001b[0;34m(a, axis, out, keepdims)\u001b[0m\n\u001b[1;32m     27\u001b[0m \u001b[0;34m\u001b[0m\u001b[0m\n\u001b[1;32m     28\u001b[0m \u001b[0;32mdef\u001b[0m \u001b[0m_amin\u001b[0m\u001b[0;34m(\u001b[0m\u001b[0ma\u001b[0m\u001b[0;34m,\u001b[0m \u001b[0maxis\u001b[0m\u001b[0;34m=\u001b[0m\u001b[0mNone\u001b[0m\u001b[0;34m,\u001b[0m \u001b[0mout\u001b[0m\u001b[0;34m=\u001b[0m\u001b[0mNone\u001b[0m\u001b[0;34m,\u001b[0m \u001b[0mkeepdims\u001b[0m\u001b[0;34m=\u001b[0m\u001b[0mFalse\u001b[0m\u001b[0;34m)\u001b[0m\u001b[0;34m:\u001b[0m\u001b[0;34m\u001b[0m\u001b[0m\n\u001b[0;32m---> 29\u001b[0;31m     \u001b[0;32mreturn\u001b[0m \u001b[0mumr_minimum\u001b[0m\u001b[0;34m(\u001b[0m\u001b[0ma\u001b[0m\u001b[0;34m,\u001b[0m \u001b[0maxis\u001b[0m\u001b[0;34m,\u001b[0m \u001b[0mNone\u001b[0m\u001b[0;34m,\u001b[0m \u001b[0mout\u001b[0m\u001b[0;34m,\u001b[0m \u001b[0mkeepdims\u001b[0m\u001b[0;34m)\u001b[0m\u001b[0;34m\u001b[0m\u001b[0m\n\u001b[0m\u001b[1;32m     30\u001b[0m \u001b[0;34m\u001b[0m\u001b[0m\n\u001b[1;32m     31\u001b[0m \u001b[0;32mdef\u001b[0m \u001b[0m_sum\u001b[0m\u001b[0;34m(\u001b[0m\u001b[0ma\u001b[0m\u001b[0;34m,\u001b[0m \u001b[0maxis\u001b[0m\u001b[0;34m=\u001b[0m\u001b[0mNone\u001b[0m\u001b[0;34m,\u001b[0m \u001b[0mdtype\u001b[0m\u001b[0;34m=\u001b[0m\u001b[0mNone\u001b[0m\u001b[0;34m,\u001b[0m \u001b[0mout\u001b[0m\u001b[0;34m=\u001b[0m\u001b[0mNone\u001b[0m\u001b[0;34m,\u001b[0m \u001b[0mkeepdims\u001b[0m\u001b[0;34m=\u001b[0m\u001b[0mFalse\u001b[0m\u001b[0;34m)\u001b[0m\u001b[0;34m:\u001b[0m\u001b[0;34m\u001b[0m\u001b[0m\n",
      "\u001b[0;31mValueError\u001b[0m: zero-size array to reduction operation minimum which has no identity"
     ]
    }
   ],
   "source": [
    "\n",
    "\n",
    "from collections import defaultdict\n",
    "\n",
    "# Create a dictionary of engagement grouped by student.\n",
    "# The keys are account keys, and the values are lists of engagement records.\n",
    "engagement_by_account = defaultdict(list)\n",
    "for engagement_record in paid_engagement_in_first_week:\n",
    "    account_key = engagement_record['account_key']\n",
    "    engagement_by_account[account_key].append(engagement_record)\n",
    "\n",
    "\n",
    "# Create a dictionary with the total minutes each student spent in the classroom during the first week.\n",
    "# The keys are account keys, and the values are numbers (total minutes)\n",
    "total_minutes_by_account = {}\n",
    "for account_key, engagement_for_student in engagement_by_account.items():\n",
    "    total_minutes = 0\n",
    "    for engagement_record in engagement_for_student:\n",
    "        total_minutes += engagement_record['total_minutes_visited']\n",
    "    total_minutes_by_account[account_key] = total_minutes\n",
    "\n",
    "\n",
    "import numpy as np\n",
    "\n",
    "# Summarize the data about minutes spent in the classroom\n",
    "total_minutes = total_minutes_by_account.values()\n",
    "print 'Mean:', np.mean(total_minutes)\n",
    "print 'Standard deviation:', np.std(total_minutes)\n",
    "print 'Minimum:', np.min(total_minutes)\n",
    "print 'Maximum:', np.max(total_minutes)"
   ]
  },
  {
   "cell_type": "code",
   "execution_count": 33,
   "metadata": {
    "collapsed": false
   },
   "outputs": [],
   "source": [
    "# Create a binary version of the num_courses_visited field, equal to\n",
    "# 1 if the student visited at least one course, and 0 otherwise.\n",
    "for engagement_record in paid_engagement:\n",
    "    if engagement_record['num_courses_visited'] > 0:\n",
    "        engagement_record['has_visited'] = 1\n",
    "    else:\n",
    "        engagement_record['has_visited'] = 0"
   ]
  },
  {
   "cell_type": "code",
   "execution_count": 34,
   "metadata": {
    "collapsed": false
   },
   "outputs": [
    {
     "name": "stdout",
     "output_type": "stream",
     "text": [
      "0\n"
     ]
    },
    {
     "ename": "IndexError",
     "evalue": "list index out of range",
     "output_type": "error",
     "traceback": [
      "\u001b[0;31m---------------------------------------------------------------------------\u001b[0m",
      "\u001b[0;31mIndexError\u001b[0m                                Traceback (most recent call last)",
      "\u001b[0;32m<ipython-input-34-d0b5fd956c53>\u001b[0m in \u001b[0;36m<module>\u001b[0;34m()\u001b[0m\n\u001b[1;32m     17\u001b[0m \u001b[0;34m\u001b[0m\u001b[0m\n\u001b[1;32m     18\u001b[0m \u001b[0;32mprint\u001b[0m \u001b[0mlen\u001b[0m\u001b[0;34m(\u001b[0m\u001b[0mpaid_engagement_in_first_week\u001b[0m\u001b[0;34m)\u001b[0m\u001b[0;34m\u001b[0m\u001b[0m\n\u001b[0;32m---> 19\u001b[0;31m \u001b[0mpaid_engagement_in_first_week\u001b[0m\u001b[0;34m[\u001b[0m\u001b[0;36m0\u001b[0m\u001b[0;34m]\u001b[0m\u001b[0;34m\u001b[0m\u001b[0m\n\u001b[0m",
      "\u001b[0;31mIndexError\u001b[0m: list index out of range"
     ]
    }
   ],
   "source": [
    "# Takes a student's join date and the date of a specific engagement record,\n",
    "# and returns True if that engagement record happened within one week\n",
    "# of the student joining.\n",
    "def within_one_week(join_date, engagement_date):\n",
    "    time_delta = engagement_date - join_date\n",
    "    return time_delta.days >= 0 and time_delta.days < 7\n",
    "\n",
    "# Collect all the engagement records that come in the first week of the student's most recent enrollment\n",
    "paid_engagement_in_first_week = []\n",
    "for engagement_record in paid_engagement:\n",
    "    account_key = engagement_record['account_key']\n",
    "    join_date = paid_students[account_key]\n",
    "    engagement_record_date = engagement_record['utc_date']\n",
    "    \n",
    "    if within_one_week(join_date, engagement_record_date):\n",
    "        paid_engagement_in_first_week.append(engagement_record)\n",
    "\n",
    "print len(paid_engagement_in_first_week)\n",
    "paid_engagement_in_first_week[0]"
   ]
  },
  {
   "cell_type": "markdown",
   "metadata": {},
   "source": [
    "## Exploring Student Engagement"
   ]
  },
  {
   "cell_type": "code",
   "execution_count": 35,
   "metadata": {
    "collapsed": false
   },
   "outputs": [
    {
     "name": "stdout",
     "output_type": "stream",
     "text": [
      "0\n"
     ]
    }
   ],
   "source": [
    "from collections import defaultdict\n",
    "\n",
    "# Create a dictionary of engagement grouped by the given key name.\n",
    "# The keys are the fields from the data in the key_name column,\n",
    "# and the values are lists of data points.\n",
    "def group_data(data, key_name):\n",
    "    grouped_data = defaultdict(list)\n",
    "    for data_point in data:\n",
    "        key = data_point[key_name]\n",
    "        grouped_data[key].append(data_point)\n",
    "    return grouped_data\n",
    "\n",
    "engagement_by_account = group_data(paid_engagement_in_first_week, 'account_key')\n",
    "\n",
    "print len(engagement_by_account)"
   ]
  },
  {
   "cell_type": "code",
   "execution_count": 36,
   "metadata": {
    "collapsed": false
   },
   "outputs": [
    {
     "name": "stdout",
     "output_type": "stream",
     "text": [
      "{}\n"
     ]
    }
   ],
   "source": [
    "# Takes a dictionary of grouped data as output by group_data, as well as a field name to sum over,\n",
    "# and returns a new dictionary with that field summed up and other fields discarded.\n",
    "# The keys of the resulting dictionary will be the same as the keys of the original,\n",
    "# and the values will be numbers containing the total value of the given field across all data points for the\n",
    "# associated key.\n",
    "def sum_grouped_items(grouped_data, field_name):\n",
    "    summed_data = {}\n",
    "    for key, data_points in grouped_data.items():\n",
    "        total = 0\n",
    "        for data_point in data_points:\n",
    "            total += data_point[field_name]\n",
    "        summed_data[key] = total\n",
    "    return summed_data\n",
    "\n",
    "total_minutes_by_account = sum_grouped_items(engagement_by_account, 'total_minutes_visited')\n",
    "print (total_minutes_by_account)"
   ]
  },
  {
   "cell_type": "code",
   "execution_count": 37,
   "metadata": {
    "collapsed": false
   },
   "outputs": [
    {
     "name": "stdout",
     "output_type": "stream",
     "text": [
      "Mean: nan\n",
      "Standard deviation: nan\n",
      "Minimum:"
     ]
    },
    {
     "name": "stderr",
     "output_type": "stream",
     "text": [
      "/Users/myles/anaconda/lib/python2.7/site-packages/numpy/core/_methods.py:59: RuntimeWarning: Mean of empty slice.\n",
      "  warnings.warn(\"Mean of empty slice.\", RuntimeWarning)\n",
      "/Users/myles/anaconda/lib/python2.7/site-packages/numpy/core/_methods.py:82: RuntimeWarning: Degrees of freedom <= 0 for slice\n",
      "  warnings.warn(\"Degrees of freedom <= 0 for slice\", RuntimeWarning)\n"
     ]
    },
    {
     "ename": "ValueError",
     "evalue": "zero-size array to reduction operation minimum which has no identity",
     "output_type": "error",
     "traceback": [
      "\u001b[0;31m---------------------------------------------------------------------------\u001b[0m",
      "\u001b[0;31mValueError\u001b[0m                                Traceback (most recent call last)",
      "\u001b[0;32m<ipython-input-37-fb8923c519a5>\u001b[0m in \u001b[0;36m<module>\u001b[0;34m()\u001b[0m\n\u001b[1;32m     15\u001b[0m     \u001b[0mplt\u001b[0m\u001b[0;34m.\u001b[0m\u001b[0mshow\u001b[0m\u001b[0;34m(\u001b[0m\u001b[0;34m)\u001b[0m\u001b[0;34m\u001b[0m\u001b[0m\n\u001b[1;32m     16\u001b[0m \u001b[0;34m\u001b[0m\u001b[0m\n\u001b[0;32m---> 17\u001b[0;31m \u001b[0mdescribe_data\u001b[0m\u001b[0;34m(\u001b[0m\u001b[0mtotal_minutes_by_account\u001b[0m\u001b[0;34m.\u001b[0m\u001b[0mvalues\u001b[0m\u001b[0;34m(\u001b[0m\u001b[0;34m)\u001b[0m\u001b[0;34m)\u001b[0m\u001b[0;34m\u001b[0m\u001b[0m\n\u001b[0m\u001b[1;32m     18\u001b[0m \u001b[0mdescribe_data\u001b[0m\u001b[0;34m(\u001b[0m\u001b[0mlist\u001b[0m\u001b[0;34m(\u001b[0m\u001b[0mtotal_minutes_by_account\u001b[0m\u001b[0;34m.\u001b[0m\u001b[0mvalues\u001b[0m\u001b[0;34m(\u001b[0m\u001b[0;34m)\u001b[0m\u001b[0;34m)\u001b[0m\u001b[0;34m)\u001b[0m\u001b[0;34m\u001b[0m\u001b[0m\n",
      "\u001b[0;32m<ipython-input-37-fb8923c519a5>\u001b[0m in \u001b[0;36mdescribe_data\u001b[0;34m(data)\u001b[0m\n\u001b[1;32m     10\u001b[0m     \u001b[0;32mprint\u001b[0m \u001b[0;34m'Mean:'\u001b[0m\u001b[0;34m,\u001b[0m \u001b[0mnp\u001b[0m\u001b[0;34m.\u001b[0m\u001b[0mmean\u001b[0m\u001b[0;34m(\u001b[0m\u001b[0mdata\u001b[0m\u001b[0;34m)\u001b[0m\u001b[0;34m\u001b[0m\u001b[0m\n\u001b[1;32m     11\u001b[0m     \u001b[0;32mprint\u001b[0m \u001b[0;34m'Standard deviation:'\u001b[0m\u001b[0;34m,\u001b[0m \u001b[0mnp\u001b[0m\u001b[0;34m.\u001b[0m\u001b[0mstd\u001b[0m\u001b[0;34m(\u001b[0m\u001b[0mdata\u001b[0m\u001b[0;34m)\u001b[0m\u001b[0;34m\u001b[0m\u001b[0m\n\u001b[0;32m---> 12\u001b[0;31m     \u001b[0;32mprint\u001b[0m \u001b[0;34m'Minimum:'\u001b[0m\u001b[0;34m,\u001b[0m \u001b[0mnp\u001b[0m\u001b[0;34m.\u001b[0m\u001b[0mmin\u001b[0m\u001b[0;34m(\u001b[0m\u001b[0mdata\u001b[0m\u001b[0;34m)\u001b[0m\u001b[0;34m\u001b[0m\u001b[0m\n\u001b[0m\u001b[1;32m     13\u001b[0m     \u001b[0;32mprint\u001b[0m \u001b[0;34m'Maximum:'\u001b[0m\u001b[0;34m,\u001b[0m \u001b[0mnp\u001b[0m\u001b[0;34m.\u001b[0m\u001b[0mmax\u001b[0m\u001b[0;34m(\u001b[0m\u001b[0mdata\u001b[0m\u001b[0;34m)\u001b[0m\u001b[0;34m\u001b[0m\u001b[0m\n\u001b[1;32m     14\u001b[0m     \u001b[0mplt\u001b[0m\u001b[0;34m.\u001b[0m\u001b[0mhist\u001b[0m\u001b[0;34m(\u001b[0m\u001b[0mdata\u001b[0m\u001b[0;34m)\u001b[0m\u001b[0;34m\u001b[0m\u001b[0m\n",
      "\u001b[0;32m/Users/myles/anaconda/lib/python2.7/site-packages/numpy/core/fromnumeric.pyc\u001b[0m in \u001b[0;36mamin\u001b[0;34m(a, axis, out, keepdims)\u001b[0m\n\u001b[1;32m   2352\u001b[0m         \u001b[0;32mexcept\u001b[0m \u001b[0mAttributeError\u001b[0m\u001b[0;34m:\u001b[0m\u001b[0;34m\u001b[0m\u001b[0m\n\u001b[1;32m   2353\u001b[0m             return _methods._amin(a, axis=axis,\n\u001b[0;32m-> 2354\u001b[0;31m                                   out=out, keepdims=keepdims)\n\u001b[0m\u001b[1;32m   2355\u001b[0m         \u001b[0;31m# NOTE: Dropping the keepdims parameter\u001b[0m\u001b[0;34m\u001b[0m\u001b[0;34m\u001b[0m\u001b[0m\n\u001b[1;32m   2356\u001b[0m         \u001b[0;32mreturn\u001b[0m \u001b[0mamin\u001b[0m\u001b[0;34m(\u001b[0m\u001b[0maxis\u001b[0m\u001b[0;34m=\u001b[0m\u001b[0maxis\u001b[0m\u001b[0;34m,\u001b[0m \u001b[0mout\u001b[0m\u001b[0;34m=\u001b[0m\u001b[0mout\u001b[0m\u001b[0;34m)\u001b[0m\u001b[0;34m\u001b[0m\u001b[0m\n",
      "\u001b[0;32m/Users/myles/anaconda/lib/python2.7/site-packages/numpy/core/_methods.pyc\u001b[0m in \u001b[0;36m_amin\u001b[0;34m(a, axis, out, keepdims)\u001b[0m\n\u001b[1;32m     27\u001b[0m \u001b[0;34m\u001b[0m\u001b[0m\n\u001b[1;32m     28\u001b[0m \u001b[0;32mdef\u001b[0m \u001b[0m_amin\u001b[0m\u001b[0;34m(\u001b[0m\u001b[0ma\u001b[0m\u001b[0;34m,\u001b[0m \u001b[0maxis\u001b[0m\u001b[0;34m=\u001b[0m\u001b[0mNone\u001b[0m\u001b[0;34m,\u001b[0m \u001b[0mout\u001b[0m\u001b[0;34m=\u001b[0m\u001b[0mNone\u001b[0m\u001b[0;34m,\u001b[0m \u001b[0mkeepdims\u001b[0m\u001b[0;34m=\u001b[0m\u001b[0mFalse\u001b[0m\u001b[0;34m)\u001b[0m\u001b[0;34m:\u001b[0m\u001b[0;34m\u001b[0m\u001b[0m\n\u001b[0;32m---> 29\u001b[0;31m     \u001b[0;32mreturn\u001b[0m \u001b[0mumr_minimum\u001b[0m\u001b[0;34m(\u001b[0m\u001b[0ma\u001b[0m\u001b[0;34m,\u001b[0m \u001b[0maxis\u001b[0m\u001b[0;34m,\u001b[0m \u001b[0mNone\u001b[0m\u001b[0;34m,\u001b[0m \u001b[0mout\u001b[0m\u001b[0;34m,\u001b[0m \u001b[0mkeepdims\u001b[0m\u001b[0;34m)\u001b[0m\u001b[0;34m\u001b[0m\u001b[0m\n\u001b[0m\u001b[1;32m     30\u001b[0m \u001b[0;34m\u001b[0m\u001b[0m\n\u001b[1;32m     31\u001b[0m \u001b[0;32mdef\u001b[0m \u001b[0m_sum\u001b[0m\u001b[0;34m(\u001b[0m\u001b[0ma\u001b[0m\u001b[0;34m,\u001b[0m \u001b[0maxis\u001b[0m\u001b[0;34m=\u001b[0m\u001b[0mNone\u001b[0m\u001b[0;34m,\u001b[0m \u001b[0mdtype\u001b[0m\u001b[0;34m=\u001b[0m\u001b[0mNone\u001b[0m\u001b[0;34m,\u001b[0m \u001b[0mout\u001b[0m\u001b[0;34m=\u001b[0m\u001b[0mNone\u001b[0m\u001b[0;34m,\u001b[0m \u001b[0mkeepdims\u001b[0m\u001b[0;34m=\u001b[0m\u001b[0mFalse\u001b[0m\u001b[0;34m)\u001b[0m\u001b[0;34m:\u001b[0m\u001b[0;34m\u001b[0m\u001b[0m\n",
      "\u001b[0;31mValueError\u001b[0m: zero-size array to reduction operation minimum which has no identity"
     ]
    }
   ],
   "source": [
    "# Show matplotlib plots within the notebook rather than in a new window.\n",
    "# Omit this line if not using IPython notebook\n",
    "%matplotlib inline\n",
    "\n",
    "import matplotlib.pyplot as plt\n",
    "import numpy as np\n",
    "\n",
    "# Summarize the given data\n",
    "def describe_data(data):\n",
    "    print 'Mean:', np.mean(data)\n",
    "    print 'Standard deviation:', np.std(data)\n",
    "    print 'Minimum:', np.min(data)\n",
    "    print 'Maximum:', np.max(data)\n",
    "    plt.hist(data)\n",
    "    plt.show()\n",
    "    \n",
    "describe_data(total_minutes_by_account.values())\n",
    "describe_data(list(total_minutes_by_account.values()))"
   ]
  },
  {
   "cell_type": "code",
   "execution_count": null,
   "metadata": {
    "collapsed": false
   },
   "outputs": [],
   "source": [
    "# Show matplotlib plots within the notebook rather than in a new window.\n",
    "# Omit this line if not using IPython notebook\n",
    "%pylab inline\n",
    "\n",
    "import matplotlib.pyplot as plt\n",
    "import numpy as np\n",
    "\n",
    "# Summarize the given data\n",
    "def describe_data(data):\n",
    "    print ('Mean:', np.mean(data))\n",
    "    print ('Standard deviation:', np.std(data))\n",
    "    print ('Minimum:', np.min(data))\n",
    "    print ('Maximum:', np.max(data))\n",
    "    plt.hist(data)\n",
    "    \n",
    "describe_data(list(total_minutes_by_account.values()))"
   ]
  },
  {
   "cell_type": "markdown",
   "metadata": {},
   "source": [
    "## Debugging Data Analysis Code"
   ]
  },
  {
   "cell_type": "code",
   "execution_count": null,
   "metadata": {
    "collapsed": false
   },
   "outputs": [],
   "source": [
    "# Find the student who spent the most minutes during the first week\n",
    "\n",
    "student_with_max_minutes = None\n",
    "max_minutes = 0\n",
    "\n",
    "for student, total_minutes in total_minutes_by_account.items():\n",
    "    if total_minutes > max_minutes:\n",
    "        max_minutes = total_minutes\n",
    "        student_with_max_minutes = student\n",
    "        \n",
    "max_minutes"
   ]
  },
  {
   "cell_type": "code",
   "execution_count": null,
   "metadata": {
    "collapsed": false
   },
   "outputs": [],
   "source": [
    "# Print out every engagement record for the student who spent the most minutes\n",
    "for engagement_record in paid_engagement_in_first_week:\n",
    "    if engagement_record['account_key'] == student_with_max_minutes:\n",
    "        print engagement_record"
   ]
  },
  {
   "cell_type": "markdown",
   "metadata": {},
   "source": [
    "## Lessons Completed in First Week"
   ]
  },
  {
   "cell_type": "code",
   "execution_count": null,
   "metadata": {
    "collapsed": false
   },
   "outputs": [],
   "source": [
    "lessons_completed_by_account = sum_grouped_items(engagement_by_account, 'lessons_completed')\n",
    "describe_data(lessons_completed_by_account.values())"
   ]
  },
  {
   "cell_type": "markdown",
   "metadata": {},
   "source": [
    "## Number of Visits in First Week"
   ]
  },
  {
   "cell_type": "code",
   "execution_count": null,
   "metadata": {
    "collapsed": false
   },
   "outputs": [],
   "source": [
    "days_visited_by_account = sum_grouped_items(engagement_by_account, 'has_visited')\n",
    "describe_data(days_visited_by_account.values())"
   ]
  },
  {
   "cell_type": "markdown",
   "metadata": {},
   "source": [
    "## Splitting out Passing Students"
   ]
  },
  {
   "cell_type": "code",
   "execution_count": null,
   "metadata": {
    "collapsed": false
   },
   "outputs": [],
   "source": [
    "# Create a set of all account keys that eventually passed the subway project\n",
    "\n",
    "subway_project_lesson_keys = ['746169184', '3176718735']\n",
    "\n",
    "pass_subway_project = set()\n",
    "\n",
    "for submission in paid_submissions:\n",
    "    project = submission['lesson_key']\n",
    "    rating = submission['assigned_rating']\n",
    "    \n",
    "    # These two project ids correspond to different versions of the subway project, and both\n",
    "    # PASSED and DISTINCTION indicate that the student passed the project\n",
    "    if (project in subway_project_lesson_keys) and (rating == 'PASSED' or rating == 'DISTINCTION'):\n",
    "        pass_subway_project.add(submission['account_key'])\n",
    "        \n",
    "len(pass_subway_project)"
   ]
  },
  {
   "cell_type": "code",
   "execution_count": null,
   "metadata": {
    "collapsed": false
   },
   "outputs": [],
   "source": [
    "subway_project_lesson_keys = ['746169184', '3176718735']\n",
    "assigned_rating = ['PASSED' , 'DISTINCTION']\n",
    "\n",
    "\n",
    "def passing_status(arg1):\n",
    "    passing_list = []\n",
    "    non_passing_list =[]\n",
    "    for record in non_udacity_submissions:\n",
    "        if record['lesson_key'] in subway_project_lesson_keys and record['assigned_rating'] in assigned_rating:\n",
    "            key = record['account_key']\n",
    "            for engagement_record in arg1:\n",
    "                if engagement_record['account_key'] == key:\n",
    "                    passing_list.append(engagement_record)\n",
    "                else:\n",
    "                    non_passing_list.append(engagement_record)\n",
    "                    \n",
    "    # print len(non_passing_list)\n",
    "    print \"len(passing_list)\"\n",
    "    print len(passing_list)\n",
    "    return passing_list\n",
    "    \n",
    "     \n",
    "    \n",
    "passing_engagement = passing_status(paid_engagement_in_first_week)\n",
    "\n",
    "dupes = []\n",
    "uniq = []\n",
    "for passing in passing_engagement:\n",
    "    if passing in uniq:\n",
    "        dupes.append(passing)\n",
    "    else:\n",
    "        uniq.append(passing)\n",
    "print \"len(dupes)\"\n",
    "print len(dupes)\n",
    "print \"len(uniq)\"\n",
    "print len(uniq)\n",
    "        "
   ]
  },
  {
   "cell_type": "code",
   "execution_count": null,
   "metadata": {
    "collapsed": false
   },
   "outputs": [],
   "source": [
    "# Engagement data for students who eventually pass the subway project\n",
    "passing_engagement = []\n",
    "# Engagement data for students who do not eventually pass the subway project\n",
    "non_passing_engagement = []\n",
    "\n",
    "for engagement_record in paid_engagement_in_first_week:\n",
    "    if engagement_record['account_key'] in pass_subway_project:\n",
    "        passing_engagement.append(engagement_record)\n",
    "    else:\n",
    "        non_passing_engagement.append(engagement_record)\n",
    "        \n",
    "print len(passing_engagement)\n",
    "\n",
    "print len(non_passing_engagement)"
   ]
  },
  {
   "cell_type": "code",
   "execution_count": null,
   "metadata": {
    "collapsed": false
   },
   "outputs": [],
   "source": [
    "######################################\n",
    "#                 11                 #\n",
    "######################################\n",
    "\n",
    "## Create two lists of engagement data for paid students in the first week.\n",
    "## The first list should contain data for students who eventually pass the\n",
    "## subway project, and the second list should contain data for students\n",
    "## who do not.\n",
    "\n",
    "subway_project_lesson_keys = ['746169184', '3176718735']\n",
    "passing_engagement = []\n",
    "non_passing_engagement = []\n",
    "\n",
    "passing_account_keys = []\n",
    "### non_passing_account_keys = []\n",
    "\n",
    "for curr_submission in project_submissions:\n",
    "    if curr_submission['lesson_key'] in subway_project_lesson_keys:\n",
    "        if curr_submission['assigned_rating']=='PASSED' or curr_submission['assigned_rating']=='DISTINCTION':\n",
    "            passing_account_keys.append(curr_submission['account_key'])\n",
    "        ### if curr_submission['assigned_rating'] == 'INCOMPLETE' or curr_submission['assigned_rating'] == 'UNGRADED':\n",
    "            ### non_passing_account_keys.append(curr_submission['account_key'])\n",
    "\n",
    "for curr_engagement in paid_engagement_in_first_week:\n",
    "    if curr_engagement['account_key'] in passing_account_keys:\n",
    "        passing_engagement.append(curr_engagement)\n",
    "    ### if curr_engagement['account_key'] in non_passing_account_keys:\n",
    "    else:\n",
    "        non_passing_engagement.append(curr_engagement)\n",
    "\n",
    "print len(passing_engagement)\n",
    "print len(non_passing_engagement)"
   ]
  },
  {
   "cell_type": "markdown",
   "metadata": {},
   "source": [
    "## Comparing the Two Student Groups"
   ]
  },
  {
   "cell_type": "code",
   "execution_count": null,
   "metadata": {
    "collapsed": false
   },
   "outputs": [],
   "source": [
    "passing_engagement_by_account = group_data(passing_engagement, 'account_key')\n",
    "non_passing_engagement_by_account = group_data(non_passing_engagement, 'account_key')"
   ]
  },
  {
   "cell_type": "code",
   "execution_count": null,
   "metadata": {
    "collapsed": false
   },
   "outputs": [],
   "source": [
    "print 'non-passing students:'\n",
    "non_passing_minutes = sum_grouped_items(non_passing_engagement_by_account, 'total_minutes_visited')\n",
    "describe_data(non_passing_minutes.values())\n",
    "\n",
    "# Adding plt.show() after each plot will cause the two plots in this cell to display separately,\n",
    "# rather than on top of each other\n",
    "plt.show()\n",
    "\n",
    "print 'passing students:'\n",
    "passing_minutes = sum_grouped_items(passing_engagement_by_account, 'total_minutes_visited')\n",
    "describe_data(passing_minutes.values())\n",
    "plt.show()"
   ]
  },
  {
   "cell_type": "code",
   "execution_count": null,
   "metadata": {
    "collapsed": false
   },
   "outputs": [],
   "source": [
    "print 'non-passing students:'\n",
    "non_passing_lessons = sum_grouped_items(non_passing_engagement_by_account, 'lessons_completed')\n",
    "describe_data(non_passing_lessons.values())\n",
    "plt.show()\n",
    "\n",
    "print 'passing students:'\n",
    "passing_lessons = sum_grouped_items(passing_engagement_by_account, 'lessons_completed')\n",
    "describe_data(passing_lessons.values())\n",
    "plt.show()"
   ]
  },
  {
   "cell_type": "code",
   "execution_count": null,
   "metadata": {
    "collapsed": false
   },
   "outputs": [],
   "source": [
    "print 'non-passing students:'\n",
    "non_passing_visits = sum_grouped_items(non_passing_engagement_by_account, 'has_visited')\n",
    "describe_data(non_passing_visits.values())\n",
    "plt.show()\n",
    "\n",
    "print 'passing students:'\n",
    "passing_visits = sum_grouped_items(passing_engagement_by_account, 'has_visited')\n",
    "describe_data(passing_visits.values())\n",
    "plt.show()"
   ]
  },
  {
   "cell_type": "markdown",
   "metadata": {
    "collapsed": true
   },
   "source": [
    "## Improving Plots and Sharing Findings"
   ]
  },
  {
   "cell_type": "code",
   "execution_count": null,
   "metadata": {
    "collapsed": false
   },
   "outputs": [],
   "source": [
    "# Import seaborn for aesthetic improvements\n",
    "import seaborn as sns\n",
    "\n",
    "# Use bins=8 since there are exactly 8 possible values for this variable - 0 through 7 inclusive\n",
    "plt.hist(non_passing_visits.values(), bins=8)\n",
    "plt.xlabel('Number of days')\n",
    "plt.title('Distribution of classroom visits in the first week for students who do not pass the subway project')"
   ]
  },
  {
   "cell_type": "code",
   "execution_count": null,
   "metadata": {
    "collapsed": false
   },
   "outputs": [],
   "source": [
    "plt.hist(passing_visits.values(), bins=8)\n",
    "plt.xlabel('Number of days')\n",
    "plt.title('Distribution of classroom visits in the first week for students who pass the subway project')"
   ]
  },
  {
   "cell_type": "code",
   "execution_count": null,
   "metadata": {
    "collapsed": true
   },
   "outputs": [],
   "source": []
  }
 ],
 "metadata": {
  "kernelspec": {
   "display_name": "Python [default]",
   "language": "python",
   "name": "python2"
  },
  "language_info": {
   "codemirror_mode": {
    "name": "ipython",
    "version": 2
   },
   "file_extension": ".py",
   "mimetype": "text/x-python",
   "name": "python",
   "nbconvert_exporter": "python",
   "pygments_lexer": "ipython2",
   "version": "2.7.13"
  }
 },
 "nbformat": 4,
 "nbformat_minor": 0
}
